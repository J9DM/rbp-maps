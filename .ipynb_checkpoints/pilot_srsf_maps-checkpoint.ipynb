{
 "cells": [
  {
   "cell_type": "code",
   "execution_count": 2,
   "metadata": {
    "collapsed": false
   },
   "outputs": [
    {
     "name": "stderr",
     "output_type": "stream",
     "text": [
      "/home/bay001/anaconda/lib/python2.7/site-packages/matplotlib/__init__.py:1350: UserWarning:  This call to matplotlib.use() has no effect\n",
      "because the backend has already been chosen;\n",
      "matplotlib.use() must be called *before* pylab, matplotlib.pyplot,\n",
      "or matplotlib.backends is imported for the first time.\n",
      "\n",
      "  warnings.warn(_use_error_msg)\n"
     ]
    }
   ],
   "source": [
    "%reload_ext autoreload\n",
    "%autoreload 2\n",
    "%matplotlib inline\n",
    "import matplotlib.pyplot as plt\n",
    "import pandas as pd\n",
    "import numpy as np\n",
    "import os\n",
    "import sys\n",
    "import math\n",
    "\n",
    "sys.path.insert(0, '/home/bay001/projects/codebase/rbp-maps/maps/')\n",
    "from pandas.util.testing import assert_frame_equal\n",
    "from density import ReadDensity\n",
    "from density import normalization_functions as norm\n",
    "from density import matrix as mtx\n",
    "from density import intervals\n",
    "from density import Feature\n",
    "from density import Map"
   ]
  },
  {
   "cell_type": "code",
   "execution_count": 13,
   "metadata": {
    "collapsed": false
   },
   "outputs": [],
   "source": [
    "pd.set_option('max_colwidth', 1000)\n",
    "pd.set_option('display.max_rows', 1500)\n",
    "\n",
    "wd = '/projects/ps-yeolab3/bay001/maps/current/SRSF'\n",
    "\n",
    "ipbam = os.path.join(\n",
    "    wd,\n",
    "    '209_01_SRSF7.merged.r2.bam'\n",
    ")\n",
    "inputbam = os.path.join(\n",
    "    wd,\n",
    "    'Sample-209-input_S12_R1.unassigned.adapterTrim.round2.rmRep.rmDup.sorted.r2.bam'\n",
    ")\n",
    "ref = '/projects/ps-yeolab3/bay001/maps/current/SRSF/basic_exons.10.bed'\n",
    "# ref = '/home/bay001/projects/codebase/rbp-maps/examples/data/ENAH_exons.bed'\n",
    "reftype = 'bed'\n",
    "annotation_files = {ref:reftype}\n",
    "program = '/home/bay001/projects/codebase/rbp-maps/maps/plot_density.py'\n",
    "output_file = os.path.join(wd,'srsf.svg')"
   ]
  },
  {
   "cell_type": "code",
   "execution_count": 21,
   "metadata": {
    "collapsed": false
   },
   "outputs": [],
   "source": [
    "ip_bam = os.path.join(\n",
    "    wd,\n",
    "    '209_01_SRSF7.merged.r2.bam'\n",
    ") # flipped?\n",
    "input_bam = os.path.join(\n",
    "    wd,\n",
    "    'Sample-209-input_S12_R1.unassigned.adapterTrim.round2.rmRep.rmDup.sorted.r2.bam'\n",
    ") # flipped?\n",
    "ip_pos_bw = os.path.join(\n",
    "    wd,\n",
    "    '209_01_SRSF7.merged.r2.norm.neg.bw'\n",
    ") # flipped?\n",
    "ip_neg_bw = os.path.join(\n",
    "    wd,\n",
    "    '209_01_SRSF7.merged.r2.norm.pos.bw'\n",
    ") # flipped?\n",
    "input_pos_bw = os.path.join(\n",
    "    wd,\n",
    "    'Sample-209-input_S12_R1.unassigned.adapterTrim.round2.rmRep.rmDup.sorted.r2.norm.neg.bw'\n",
    ") # flipped?\n",
    "input_neg_bw = os.path.join(\n",
    "    wd,\n",
    "    'Sample-209-input_S12_R1.unassigned.adapterTrim.round2.rmRep.rmDup.sorted.r2.norm.pos.bw'\n",
    ") # flipped?\n",
    "\n",
    "ip_read_density = ReadDensity.ReadDensity(\n",
    "    pos = ip_pos_bw,\n",
    "    neg = ip_neg_bw,\n",
    "    bam = ip_bam\n",
    ")\n",
    "\n",
    "input_read_density = ReadDensity.ReadDensity(\n",
    "    pos = input_pos_bw,\n",
    "    neg = input_neg_bw,\n",
    "    bam = input_bam\n",
    ")"
   ]
  },
  {
   "cell_type": "code",
   "execution_count": 22,
   "metadata": {
    "collapsed": false
   },
   "outputs": [
    {
     "name": "stdout",
     "output_type": "stream",
     "text": [
      "bed\n",
      "create\n",
      "norm\n",
      "meansandsems\n"
     ]
    }
   ],
   "source": [
    "bed = Map.WithInput(ip_read_density, input_read_density, output_file, \n",
    "                    norm.normalize_and_per_region_subtract, annotation_files,\n",
    "                    min_density_threshold=0,is_scaled=False,conf=0.95)\n",
    "print('bed')\n",
    "bed.create_matrices()\n",
    "print('create')\n",
    "bed.normalize_matrix()\n",
    "print('norm')\n",
    "bed.set_means_and_sems()\n",
    "print('meansandsems')\n",
    "bed.write_intermediates_to_csv()"
   ]
  },
  {
   "cell_type": "code",
   "execution_count": 23,
   "metadata": {
    "collapsed": false
   },
   "outputs": [
    {
     "name": "stdout",
     "output_type": "stream",
     "text": [
      "(0, 0)\n"
     ]
    },
    {
     "data": {
      "image/png": "[encoded data removed]",
      "text/plain": [
       "<matplotlib.figure.Figure at 0x2b4e9a5ae690>"
      ]
     },
     "metadata": {},
     "output_type": "display_data"
    }
   ],
   "source": [
    "bed.plot()"
   ]
  },
  {
   "cell_type": "code",
   "execution_count": 26,
   "metadata": {
    "collapsed": false
   },
   "outputs": [
    {
     "data": {
      "text/plain": [
       "{'/projects/ps-yeolab3/bay001/maps/current/SRSF/basic_exons.500.bed': Empty DataFrame\n",
       " Columns: []\n",
       " Index: [chr1\t1001209\t1001836\texon_276\t.\t+, chr1\t1006345\t1007955\texon_280\t.\t-, chr1\t1009395\t1009687\texon_279\t.\t-, chr1\t1017197\t1018367\texon_292\t.\t-, chr1\t1017197\t1018367\texon_303\t.\t-, chr1\t1017197\t1018367\texon_313\t.\t-, chr1\t1017202\t1018367\texon_323\t.\t-, chr1\t1017614\t1018367\texon_331\t.\t-, chr1\t1018079\t1018367\texon_341\t.\t-, chr1\t1019294\t1019763\texon_291\t.\t-, chr1\t1019294\t1019763\texon_302\t.\t-, chr1\t1019294\t1019763\texon_312\t.\t-, chr1\t1019294\t1019763\texon_330\t.\t-, chr1\t1019305\t1019466\texon_351\t.\t-, chr1\t1019732\t1019763\texon_322\t.\t-, chr1\t1019732\t1019763\texon_340\t.\t-, chr1\t1019732\t1019763\texon_350\t.\t-, chr1\t1019833\t1019886\texon_360\t.\t-, chr1\t1019860\t1019886\texon_290\t.\t-, chr1\t1019860\t1019886\texon_301\t.\t-, chr1\t1019860\t1019886\texon_311\t.\t-, chr1\t1019860\t1019886\texon_321\t.\t-, chr1\t1019860\t1019886\texon_329\t.\t-, chr1\t1019860\t1019886\texon_339\t.\t-, chr1\t1019860\t1019886\texon_349\t.\t-, chr1\t1020630\t1020690\texon_359\t.\t-, chr1\t1021257\t1021392\texon_289\t.\t-, chr1\t1021257\t1021392\texon_300\t.\t-, chr1\t1021257\t1021392\texon_310\t.\t-, chr1\t1021257\t1021392\texon_320\t.\t-, chr1\t1021257\t1021392\texon_328\t.\t-, chr1\t1021257\t1021392\texon_338\t.\t-, chr1\t1021257\t1021392\texon_348\t.\t-, chr1\t1021257\t1021392\texon_358\t.\t-, chr1\t1022518\t1022584\texon_288\t.\t-, chr1\t1022518\t1022584\texon_299\t.\t-, chr1\t1022518\t1022584\texon_309\t.\t-, chr1\t1022518\t1022584\texon_319\t.\t-, chr1\t1022518\t1022584\texon_327\t.\t-, chr1\t1022518\t1022584\texon_337\t.\t-, chr1\t1022518\t1022584\texon_347\t.\t-, chr1\t1022518\t1022584\texon_357\t.\t-, chr1\t1022881\t1022977\texon_287\t.\t-, chr1\t1022881\t1022977\texon_298\t.\t-, chr1\t1022881\t1022977\texon_308\t.\t-, chr1\t1022881\t1022977\texon_318\t.\t-, chr1\t1022881\t1022977\texon_326\t.\t-, chr1\t1022881\t1022977\texon_336\t.\t-, chr1\t1022881\t1022977\texon_346\t.\t-, chr1\t1022881\t1022977\texon_356\t.\t-, chr1\t1025732\t1025808\texon_286\t.\t-, chr1\t1025732\t1025808\texon_297\t.\t-, chr1\t1025732\t1025808\texon_307\t.\t-, chr1\t1025732\t1025808\texon_317\t.\t-, chr1\t1025732\t1025808\texon_325\t.\t-, chr1\t1025732\t1025808\texon_335\t.\t-, chr1\t1025732\t1025808\texon_345\t.\t-, chr1\t1025732\t1025808\texon_355\t.\t-, chr1\t1026255\t1026363\texon_285\t.\t-, chr1\t1026255\t1026363\texon_296\t.\t-, chr1\t1026851\t1026945\texon_284\t.\t-, chr1\t1026851\t1026945\texon_295\t.\t-, chr1\t1026851\t1026945\texon_306\t.\t-, chr1\t1026851\t1026945\texon_316\t.\t-, chr1\t1026851\t1026945\texon_334\t.\t-, chr1\t1026851\t1026945\texon_344\t.\t-, chr1\t1026851\t1026945\texon_354\t.\t-, chr1\t1026851\t1027554\texon_324\t.\t-, chr1\t1027370\t1027483\texon_283\t.\t-, chr1\t1027370\t1027483\texon_294\t.\t-, chr1\t1027370\t1027483\texon_305\t.\t-, chr1\t1027370\t1027483\texon_315\t.\t-, chr1\t1027370\t1027483\texon_333\t.\t-, chr1\t1027370\t1027483\texon_343\t.\t-, chr1\t1027370\t1027483\texon_353\t.\t-, chr1\t1041335\t1041507\texon_332\t.\t-, chr1\t1050401\t1050455\texon_282\t.\t-, chr1\t1051439\t1051461\texon_281\t.\t-, chr1\t1051439\t1051478\texon_314\t.\t-, chr1\t1051439\t1051623\texon_342\t.\t-, chr1\t1051439\t1051736\texon_293\t.\t-, chr1\t1051439\t1051736\texon_304\t.\t-, chr1\t1051439\t1051736\texon_352\t.\t-, chr1\t1072396\t1072490\texon_361\t.\t+, chr1\t1076204\t1076412\texon_362\t.\t+, chr1\t1078118\t1079436\texon_363\t.\t+, chr1\t1102483\t1102578\texon_364\t.\t+, chr1\t1103242\t1103332\texon_365\t.\t+, chr1\t1104384\t1104467\texon_366\t.\t+, chr1\t1104736\t1105723\texon_367\t.\t+, chr1\t1108435\t1111776\texon_369\t.\t-, chr1\t1109263\t1109306\texon_370\t.\t+, chr1\t1109282\t1109306\texon_372\t.\t+, chr1\t1109285\t1109306\texon_388\t.\t+, chr1\t1109645\t1109701\texon_373\t.\t+, chr1\t1109664\t1109701\texon_389\t.\t+, chr1\t1109803\t1109869\texon_374\t.\t+, chr1\t1109803\t1109869\texon_390\t.\t+, chr1\t1109900\t1110414\texon_371\t.\t+, chr1\t1114568\t1114713\texon_375\t.\t+, ...]}"
      ]
     },
     "execution_count": 26,
     "metadata": {},
     "output_type": "execute_result"
    }
   ],
   "source": [
    "bed.raw_matrices['ip']"
   ]
  },
  {
   "cell_type": "code",
   "execution_count": 19,
   "metadata": {
    "collapsed": false
   },
   "outputs": [
    {
     "ename": "AttributeError",
     "evalue": "WithInput instance has no attribute 'matrices'",
     "output_type": "error",
     "traceback": [
      "\u001b[0;31m---------------------------------------------------------------------------\u001b[0m",
      "\u001b[0;31mAttributeError\u001b[0m                            Traceback (most recent call last)",
      "\u001b[0;32m<ipython-input-19-cb4ad28a0529>\u001b[0m in \u001b[0;36m<module>\u001b[0;34m()\u001b[0m\n\u001b[0;32m----> 1\u001b[0;31m \u001b[0mbed\u001b[0m\u001b[0;34m.\u001b[0m\u001b[0mmatrices\u001b[0m\u001b[0;34m\u001b[0m\u001b[0m\n\u001b[0m",
      "\u001b[0;31mAttributeError\u001b[0m: WithInput instance has no attribute 'matrices'"
     ]
    }
   ],
   "source": [
    "bed.matrices"
   ]
  },
  {
   "cell_type": "code",
   "execution_count": null,
   "metadata": {
    "collapsed": true
   },
   "outputs": [],
   "source": []
  }
 ],
 "metadata": {
  "kernelspec": {
   "display_name": "Python 2",
   "language": "python",
   "name": "python2"
  },
  "language_info": {
   "codemirror_mode": {
    "name": "ipython",
    "version": 2
   },
   "file_extension": ".py",
   "mimetype": "text/x-python",
   "name": "python",
   "nbconvert_exporter": "python",
   "pygments_lexer": "ipython2",
   "version": "2.7.12"
  }
 },
 "nbformat": 4,
 "nbformat_minor": 1
}
