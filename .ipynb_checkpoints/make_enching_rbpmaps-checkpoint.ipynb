{
 "cells": [
  {
   "cell_type": "markdown",
   "metadata": {},
   "source": [
    "# RBP Maps: using maps to plot cdsstarts without scaling."
   ]
  },
  {
   "cell_type": "code",
   "execution_count": 1,
   "metadata": {
    "collapsed": false
   },
   "outputs": [
    {
     "name": "stderr",
     "output_type": "stream",
     "text": [
      "/home/bay001/anaconda/lib/python2.7/site-packages/matplotlib/__init__.py:1350: UserWarning:  This call to matplotlib.use() has no effect\n",
      "because the backend has already been chosen;\n",
      "matplotlib.use() must be called *before* pylab, matplotlib.pyplot,\n",
      "or matplotlib.backends is imported for the first time.\n",
      "\n",
      "  warnings.warn(_use_error_msg)\n"
     ]
    }
   ],
   "source": [
    "%matplotlib inline\n",
    "import matplotlib\n",
    "from matplotlib import rc\n",
    "rc('text', usetex=False)\n",
    "matplotlib.rcParams['svg.fonttype'] = 'none'\n",
    "rc('font', **{'family': 'sans-serif', 'sans-serif': ['Helvetica']})\n",
    "import os\n",
    "import sys\n",
    "sys.path.insert(0, '/home/bay001/projects/codebase/rbp-maps/maps/')\n",
    "from density import Map\n",
    "from density import ReadDensity\n",
    "from density import normalization_functions"
   ]
  },
  {
   "cell_type": "code",
   "execution_count": 2,
   "metadata": {
    "collapsed": false
   },
   "outputs": [],
   "source": [
    "wd = '/home/bay001/projects/codebase/rbp-maps/examples/data'\n",
    "program = '/home/bay001/projects/codebase/rbp-maps/maps/plot_density.py'\n",
    "annotation_dir = '/home/bay001/projects/codebase/rbp-maps/examples/data'"
   ]
  },
  {
   "cell_type": "code",
   "execution_count": 3,
   "metadata": {
    "collapsed": false
   },
   "outputs": [],
   "source": [
    "twobed = os.path.join(annotation_dir,'enching.2bed')\n",
    "ip_bam = os.path.join(wd,'204_01_RBFOX2.merged.r2.bam')\n",
    "inp_bam = os.path.join(wd,'RBFOX2-204-INPUT_S2_R1.unassigned.adapterTrim.round2.rmRep.rmDup.sorted.r2.bam')\n",
    "\n",
    "pos_ip_bw = os.path.join(wd,'204_01_RBFOX2.merged.r2.norm.neg.bw') # flipped due to the *pos *neg thing\n",
    "neg_ip_bw = os.path.join(wd,'204_01_RBFOX2.merged.r2.norm.pos.bw')\n",
    "pos_in_bw = os.path.join(wd,'RBFOX2-204-INPUT_S2_R1.unassigned.adapterTrim.round2.rmRep.rmDup.sorted.r2.norm.neg.bw')\n",
    "neg_in_bw = os.path.join(wd,'RBFOX2-204-INPUT_S2_R1.unassigned.adapterTrim.round2.rmRep.rmDup.sorted.r2.norm.pos.bw')\n",
    "\n",
    "annotation_type = 'twobeds'\n",
    "\n",
    "annotations = {twobed:annotation_type}\n",
    "output_file = '/home/bay001/projects/codebase/rbp-maps/examples/devel/enching.svg'"
   ]
  },
  {
   "cell_type": "code",
   "execution_count": 10,
   "metadata": {
    "collapsed": false,
    "scrolled": true
   },
   "outputs": [
    {
     "name": "stdout",
     "output_type": "stream",
     "text": [
      "creating matrices DONE\n",
      "normalizing DONE\n",
      "setting mean and sems DONE\n",
      "(1, 2)\n"
     ]
    },
    {
     "data": {
      "image/png": "[encoded data removed]",
      "text/plain": [
       "<matplotlib.figure.Figure at 0x2b170877b190>"
      ]
     },
     "metadata": {},
     "output_type": "display_data"
    }
   ],
   "source": [
    "ip_rd = ReadDensity.ReadDensity(pos=pos_ip_bw,neg=neg_ip_bw,bam=ip_bam)\n",
    "in_rd = ReadDensity.ReadDensity(pos=pos_in_bw,neg=neg_in_bw,bam=inp_bam)\n",
    "rbpmap = Map.UnscaledCDS(\n",
    "    ip=ip_rd, inp=in_rd, output_filename=output_file,\n",
    "    norm_function=normalization_functions.normalize_and_per_region_subtract,\n",
    "    annotation=annotations,upstream_offset=1,downstream_offset=2,\n",
    ")\n",
    "rbpmap.create_matrices()\n",
    "print('creating matrices DONE')\n",
    "rbpmap.normalize_matrix()\n",
    "print('normalizing DONE')\n",
    "rbpmap.set_means_and_sems()\n",
    "print('setting mean and sems DONE')\n",
    "rbpmap.plot()"
   ]
  },
  {
   "cell_type": "markdown",
   "metadata": {
    "collapsed": false
   },
   "source": []
  },
  {
   "cell_type": "code",
   "execution_count": 12,
   "metadata": {
    "collapsed": false
   },
   "outputs": [
    {
     "data": {
      "text/plain": [
       "[0.0, 0.0, 0.0]"
      ]
     },
     "execution_count": 12,
     "metadata": {},
     "output_type": "execute_result"
    }
   ],
   "source": [
    "rbpmap.means['/home/bay001/projects/codebase/rbp-maps/examples/data/enching.2bed']"
   ]
  },
  {
   "cell_type": "code",
   "execution_count": null,
   "metadata": {
    "collapsed": false
   },
   "outputs": [],
   "source": []
  }
 ],
 "metadata": {
  "kernelspec": {
   "display_name": "Python 2",
   "language": "python",
   "name": "python2"
  },
  "language_info": {
   "codemirror_mode": {
    "name": "ipython",
    "version": 2
   },
   "file_extension": ".py",
   "mimetype": "text/x-python",
   "name": "python",
   "nbconvert_exporter": "python",
   "pygments_lexer": "ipython2",
   "version": "2.7.12"
  }
 },
 "nbformat": 4,
 "nbformat_minor": 1
}
