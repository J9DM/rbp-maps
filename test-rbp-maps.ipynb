{
 "cells": [
  {
   "cell_type": "markdown",
   "metadata": {},
   "source": [
    "# RBP Maps 0.2 can be used as a reference for SE events\n",
    "- This notebook verifies the changes made do not affect the last time dataframes were checked independently. "
   ]
  },
  {
   "cell_type": "code",
   "execution_count": 1,
   "metadata": {
    "collapsed": false
   },
   "outputs": [],
   "source": [
    "%reload_ext autoreload\n",
    "%autoreload 2\n",
    "import pandas as pd\n",
    "import numpy as np\n",
    "import os\n",
    "import sys\n",
    "import math\n",
    "\n",
    "sys.path.insert(0, '/home/bay001/projects/codebase/rbp-maps/maps/')\n",
    "from pandas.util.testing import assert_frame_equal\n",
    "from density import ReadDensity\n",
    "from density import normalization_functions as norm\n",
    "from density import intervals\n",
    "from density import Feature\n",
    "pd.set_option('max_colwidth', 1000)\n",
    "pd.set_option('display.max_rows', 1500)"
   ]
  },
  {
   "cell_type": "code",
   "execution_count": 2,
   "metadata": {
    "collapsed": true
   },
   "outputs": [],
   "source": [
    "wd = '/home/bay001/projects/codebase/temp/'\n",
    "outfile = '/home/bay001/projects/codebase/temp/out/rbfox2.svg'\n",
    "ref_wd = '/home/bay001/projects/maps_20160420/analysis/tests/for_eric/'\n",
    "read_nums = '/home/bay001/projects/codebase/data/ALLDATASETS_submittedonly.txt.mapped_read_num'\n",
    "ipbam = '/home/bay001/projects/codebase/temp/204_01_RBFOX2.merged.r2.bam'\n",
    "inpbam = '/home/bay001/projects/codebase/temp/RBFOX2-204-INPUT_S2_R1.unassigned.adapterTrim.round2.rmRep.rmDup.sorted.r2.bam'\n",
    "ref_positive = '/home/bay001/projects/codebase/temp/RBFOX2-HepG2-SE-positive.txt'\n",
    "ref_negative = '/home/bay001/projects/codebase/temp/RBFOX2-HepG2-SE-negative.txt'\n",
    "ref_bg = '/home/bay001/projects/codebase/temp/RBFOX2-HepG2-SE.txt'\n",
    "program = '/home/bay001/projects/codebase/rbp-maps/maps/plot_density.py'\n",
    "readnums = pd.read_table(read_nums,names=['rbp','reads'])\n"
   ]
  },
  {
   "cell_type": "code",
   "execution_count": 3,
   "metadata": {
    "collapsed": false
   },
   "outputs": [],
   "source": [
    "def make():\n",
    "    ref1 = pd.read_table('/projects/ps-yeolab3/bay001/maps/annotations/RBFOX2-HepG2-SE.txt')\n",
    "    ref1 = ref1[ref1['IncLevelDifference']>0.1]\n",
    "    ref1.to_csv('/home/bay001/projects/codebase/temp/RBFOX2-HepG2-SE-positive.txt',sep='\\t',index=None) \n",
    "\n",
    "def diff(df1, df2):\n",
    "    try:\n",
    "        assert_frame_equal(df1, df2)\n",
    "        return('same')\n",
    "    except Exception as e:  # appeantly AssertionError doesn't catch all\n",
    "        return('{} different'.format(e))\n",
    "def round_nearest(x, a):\n",
    "    return round(round(x / a) * a, -int(math.floor(math.log10(a))))\n"
   ]
  },
  {
   "cell_type": "code",
   "execution_count": 9,
   "metadata": {
    "collapsed": false
   },
   "outputs": [
    {
     "name": "stdout",
     "output_type": "stream",
     "text": [
      "('topdir', '/home/bay001/projects/codebase/rbp-maps/maps/plot_density.py')\r\n",
      "Warning: /home/bay001/projects/codebase/temp/204_01_RBFOX2.merged.r2.norm.pos.bw does not exist\r\n",
      "No handlers could be found for logger \"plot_features\"\r\n",
      "Warning: /home/bay001/projects/codebase/temp/204_01_RBFOX2.merged.r2.norm.neg.bw does not exist\r\n",
      "Warning: /home/bay001/projects/codebase/temp/RBFOX2-204-INPUT_S2_R1.unassigned.adapterTrim.round2.rmRep.rmDup.sorted.r2.norm.pos.bw does not exist\r\n",
      "Warning: /home/bay001/projects/codebase/temp/RBFOX2-204-INPUT_S2_R1.unassigned.adapterTrim.round2.rmRep.rmDup.sorted.r2.norm.neg.bw does not exist\r\n"
     ]
    }
   ],
   "source": [
    "! python $program -ip $ipbam -input $inpbam -a $ref_positive $ref_negative $ref_bg --annotation_type rmats rmats rmats -o $outfile -u -e SE"
   ]
  },
  {
   "cell_type": "code",
   "execution_count": null,
   "metadata": {
    "collapsed": false
   },
   "outputs": [],
   "source": [
    "cmd = 'python {} -ip {} -input {} -c {} {} {} -at {} {} {} -o {} -e {}'.format(\n",
    "    program, ipbam, inpbam, ref_positive, ref_negative, ref_bg, 'rmats', 'rmats', 'rmats', outfile, 'se'\n",
    ")\n",
    "cmd"
   ]
  },
  {
   "cell_type": "markdown",
   "metadata": {},
   "source": [
    "### Test input raw matrix"
   ]
  },
  {
   "cell_type": "code",
   "execution_count": null,
   "metadata": {
    "collapsed": false
   },
   "outputs": [],
   "source": [
    "ref_input_raw_matrix = 'included.input.204_01_RBFOX2.included.feature.se.raw_density_matrix.csv'\n",
    "ref_input = pd.read_table(\n",
    "    os.path.join(ref_wd,ref_input_raw_matrix),\n",
    "    sep=',',\n",
    "    index_col=0\n",
    ")\n",
    "test_input_raw_matrix = '/home/bay001/projects/codebase/temp/out/rbfox2.RBFOX2-HepG2-SE-positive.input.raw_density.csv'\n",
    "test_input = pd.read_table(test_input_raw_matrix,sep=',',\n",
    "    index_col=0)\n",
    "\n",
    "diff(test_input, ref_input)"
   ]
  },
  {
   "cell_type": "code",
   "execution_count": null,
   "metadata": {
    "collapsed": false
   },
   "outputs": [],
   "source": []
  },
  {
   "cell_type": "code",
   "execution_count": null,
   "metadata": {
    "collapsed": false
   },
   "outputs": [],
   "source": []
  },
  {
   "cell_type": "markdown",
   "metadata": {},
   "source": [
    "### Test ip raw matrix"
   ]
  },
  {
   "cell_type": "code",
   "execution_count": null,
   "metadata": {
    "collapsed": false
   },
   "outputs": [],
   "source": [
    "# test ip\n",
    "ref_ip_raw_matrix = 'included.ip.204_01_RBFOX2.included.feature.se.raw_density_matrix.csv'\n",
    "ref_ip = pd.read_table(\n",
    "    os.path.join(ref_wd,ref_ip_raw_matrix),\n",
    "    sep=',',\n",
    "    index_col=0\n",
    ")\n",
    "test_ip_raw_matrix = '/home/bay001/projects/codebase/temp/out/rbfox2.RBFOX2-HepG2-SE-positive.ip.raw_density.csv'\n",
    "test_ip = pd.read_table(test_ip_raw_matrix,sep=',',\n",
    "    index_col=0)\n",
    "\n",
    "diff(test_ip, ref_ip)"
   ]
  },
  {
   "cell_type": "markdown",
   "metadata": {
    "collapsed": false
   },
   "source": [
    "# test ip pdf function"
   ]
  },
  {
   "cell_type": "code",
   "execution_count": null,
   "metadata": {
    "collapsed": false
   },
   "outputs": [],
   "source": [
    "test_ip_pdf = norm.calculate_pdf(test_ip)\n",
    "ref_ip_pdf = pd.read_table('/home/bay001/projects/maps_20160420/analysis/tests/for_eric/ip_pdf.csv',sep=',',index_col=0)\n",
    "diff(test_ip_pdf,ref_ip_pdf)"
   ]
  },
  {
   "cell_type": "markdown",
   "metadata": {},
   "source": [
    "# test input pdf function"
   ]
  },
  {
   "cell_type": "code",
   "execution_count": null,
   "metadata": {
    "collapsed": false
   },
   "outputs": [],
   "source": [
    "test_input_pdf = norm.calculate_pdf(test_input)\n",
    "ref_input_pdf = pd.read_table('/home/bay001/projects/maps_20160420/analysis/tests/for_eric/input_pdf.csv',sep=',',index_col=0)\n",
    "diff(test_input_pdf,ref_input_pdf)"
   ]
  },
  {
   "cell_type": "markdown",
   "metadata": {},
   "source": [
    "# Test normalization (subtract by region) function\n",
    "- caveats: see below"
   ]
  },
  {
   "cell_type": "code",
   "execution_count": null,
   "metadata": {
    "collapsed": false
   },
   "outputs": [],
   "source": [
    "\n",
    "# ip reads: 4275451\n",
    "# input reads: 3765762\n",
    "\n",
    "\n",
    "test_norm = norm.normalize_and_per_region_subtract(test_ip, test_input,1000000.0/4275451,1000000.0/3765762,0)\n",
    "ref_norm = pd.read_table('/home/bay001/projects/maps_20160420/analysis/tests/for_eric/included.204_01_RBFOX2.subtract_by_region.feature.normed_matrix.csv',\n",
    "                        sep=',',index_col=0)\n",
    "\n",
    "merged = pd.merge(ref_norm, test_norm, how='left', left_index=True, right_index=True)\n",
    "\n",
    "test_norm = test_norm.ix[merged.index]\n",
    "test_norm.columns = test_norm.columns + '_TEST'\n",
    "\n",
    "ref_norm = ref_norm.ix[merged.index]\n",
    "ref_norm.columns = ref_norm.columns + '_REF'\n",
    "\n",
    "print(test_norm.shape)\n",
    "print(ref_norm.shape)"
   ]
  },
  {
   "cell_type": "code",
   "execution_count": null,
   "metadata": {
    "collapsed": false
   },
   "outputs": [],
   "source": [
    "merged = pd.merge(ref_norm, test_norm, how='left', left_index=True, right_index=True)\n",
    "merged.shape"
   ]
  },
  {
   "cell_type": "markdown",
   "metadata": {},
   "source": [
    "##### diff(test_norm, ref_norm)\n",
    "- This will likely return false due to the rounding issues. When the ref was written to file, it rounded off to the nearest 14th digit. However the normalization function will not round at all, so we need to manually do this to check for equality. \n",
    "- Somehow, the reference was truncated. ARGH!\n",
    "- but the good news is that it is all matching up to the truncation. "
   ]
  },
  {
   "cell_type": "code",
   "execution_count": null,
   "metadata": {
    "collapsed": false
   },
   "outputs": [],
   "source": [
    "merged.head()"
   ]
  },
  {
   "cell_type": "code",
   "execution_count": null,
   "metadata": {
    "collapsed": false
   },
   "outputs": [],
   "source": [
    "\n",
    "for c in range(0,1400):\n",
    "    for i in merged.index:\n",
    "        if i != ix_in_question: # we don't need to check the index that was truncated. \n",
    "            t = round_nearest(merged.ix[i]['{}_TEST'.format(c)],13)\n",
    "            r = round_nearest(merged.ix[i]['{}_REF'.format(c)],13)\n",
    "            if(r != t):\n",
    "                if np.isnan(r) and np.isnan(r):\n",
    "                    pass\n",
    "                else:\n",
    "                    print(i, round_nearest(\n",
    "                            merged.ix[i]['{}_TEST'.format(col)],13), \n",
    "                          round_nearest(\n",
    "                            merged.ix[i]['{}_REF'.format(col)],13))\n"
   ]
  },
  {
   "cell_type": "markdown",
   "metadata": {
    "collapsed": false
   },
   "source": [
    "# remake test files...\n",
    "- because sometimes you're really dumb and delete them."
   ]
  },
  {
   "cell_type": "code",
   "execution_count": null,
   "metadata": {
    "collapsed": false
   },
   "outputs": [],
   "source": [
    "alldata = pd.read_table('/home/bay001/projects/codebase/temp/RBFOX2-HepG2-SE.txt',index_col=0)"
   ]
  },
  {
   "cell_type": "code",
   "execution_count": null,
   "metadata": {
    "collapsed": false
   },
   "outputs": [],
   "source": [
    "alldata"
   ]
  },
  {
   "cell_type": "code",
   "execution_count": null,
   "metadata": {
    "collapsed": false
   },
   "outputs": [],
   "source": [
    "original == better"
   ]
  },
  {
   "cell_type": "code",
   "execution_count": null,
   "metadata": {
    "collapsed": false
   },
   "outputs": [],
   "source": [
    "original"
   ]
  },
  {
   "cell_type": "code",
   "execution_count": null,
   "metadata": {
    "collapsed": true
   },
   "outputs": [],
   "source": []
  }
 ],
 "metadata": {
  "kernelspec": {
   "display_name": "Python 2",
   "language": "python",
   "name": "python2"
  },
  "language_info": {
   "codemirror_mode": {
    "name": "ipython",
    "version": 2
   },
   "file_extension": ".py",
   "mimetype": "text/x-python",
   "name": "python",
   "nbconvert_exporter": "python",
   "pygments_lexer": "ipython2",
   "version": "2.7.12"
  }
 },
 "nbformat": 4,
 "nbformat_minor": 1
}
