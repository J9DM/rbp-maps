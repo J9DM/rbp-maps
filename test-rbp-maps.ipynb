{
 "cells": [
  {
   "cell_type": "markdown",
   "metadata": {},
   "source": [
    "# RBP Maps 0.2 can be used as a reference for SE events\n",
    "- This notebook verifies the changes made do not affect the last time dataframes were checked independently. "
   ]
  },
  {
   "cell_type": "code",
   "execution_count": 1,
   "metadata": {
    "collapsed": false
   },
   "outputs": [],
   "source": [
    "%reload_ext autoreload\n",
    "%autoreload 2\n",
    "import pandas as pd\n",
    "import numpy as np\n",
    "import os\n",
    "import sys\n",
    "import math\n",
    "\n",
    "sys.path.insert(0, '/home/bay001/projects/codebase/rbp-maps/maps/')\n",
    "from pandas.util.testing import assert_frame_equal\n",
    "from density import ReadDensity\n",
    "from density import normalization_functions as norm\n",
    "from density import intervals\n",
    "from density import Feature\n",
    "pd.set_option('max_colwidth', 1000)\n",
    "pd.set_option('display.max_rows', 1500)"
   ]
  },
  {
   "cell_type": "code",
   "execution_count": 2,
   "metadata": {
    "collapsed": true
   },
   "outputs": [],
   "source": [
    "wd = '/home/bay001/projects/codebase/temp/'\n",
    "outdir = '/home/bay001/projects/codebase/temp/out/'\n",
    "ref_wd = '/home/bay001/projects/maps_20160420/analysis/tests/for_eric/'\n",
    "read_nums = '/home/bay001/projects/codebase/data/ALLDATASETS_submittedonly.txt.mapped_read_num'\n",
    "ipbam = '/home/bay001/projects/codebase/temp/204_01_RBFOX2.merged.r2.bam'\n",
    "inpbam = '/home/bay001/projects/codebase/temp/RBFOX2-204-INPUT_S2_R1.unassigned.adapterTrim.round2.rmRep.rmDup.sorted.r2.bam'\n",
    "ref_positive = '/home/bay001/projects/codebase/temp/RBFOX2-HepG2-SE-positive.txt'\n",
    "ref_negative = '/home/bay001/projects/codebase/temp/RBFOX2-HepG2-SE-negative.txt'\n",
    "ref_bg = '/home/bay001/projects/codebase/temp/RBFOX2-HepG2-SE.txt'\n",
    "program = '/home/bay001/projects/codebase/rbp-maps/maps/plot_density.py'\n",
    "readnums = pd.read_table(read_nums,names=['rbp','reads'])\n"
   ]
  },
  {
   "cell_type": "code",
   "execution_count": 3,
   "metadata": {
    "collapsed": false
   },
   "outputs": [],
   "source": [
    "def make():\n",
    "    ref1 = pd.read_table('/projects/ps-yeolab3/bay001/maps/annotations/RBFOX2-HepG2-SE.txt')\n",
    "    ref1 = ref1[ref1['IncLevelDifference']>0.1]\n",
    "    ref1.to_csv('/home/bay001/projects/codebase/temp/RBFOX2-HepG2-SE-positive.txt',sep='\\t',index=None) \n",
    "\n",
    "def diff(df1, df2):\n",
    "    try:\n",
    "        assert_frame_equal(df1, df2)\n",
    "        return('same')\n",
    "    except Exception as e:  # appeantly AssertionError doesn't catch all\n",
    "        return('{} different'.format(e))\n",
    "def round_nearest(x, a):\n",
    "    return round(round(x / a) * a, -int(math.floor(math.log10(a))))\n"
   ]
  },
  {
   "cell_type": "code",
   "execution_count": 4,
   "metadata": {
    "collapsed": false
   },
   "outputs": [
    {
     "name": "stdout",
     "output_type": "stream",
     "text": [
      "all files found, skipping norm.bw creation.\n",
      "/home/bay001/projects/codebase/temp/204_01_RBFOX2.merged.r2.bam\n",
      "/home/bay001/projects/codebase/temp/RBFOX2-204-INPUT_S2_R1.unassigned.adapterTrim.round2.rmRep.rmDup.sorted.r2.bam\n",
      "\n",
      "Creating SE RBP Map\n",
      "finished creating matrix\n",
      "label: RBFOX2-HepG2-SE-positive\n",
      "output base: /home/bay001/projects/codebase/temp/out/204_01_RBFOX2.merged.r2\n",
      "feature: feature\n",
      "finished normalizing\n",
      "finished setting means\n",
      "\n",
      "Creating SE RBP Map\n",
      "finished creating matrix\n",
      "label: RBFOX2-HepG2-SE-negative\n",
      "output base: /home/bay001/projects/codebase/temp/out/204_01_RBFOX2.merged.r2\n",
      "feature: feature\n",
      "finished normalizing\n",
      "finished setting means\n",
      "\n",
      "Creating SE RBP Map\n",
      "finished creating matrix\n",
      "label: RBFOX2-HepG2-SE\n",
      "output base: /home/bay001/projects/codebase/temp/out/204_01_RBFOX2.merged.r2\n",
      "feature: feature\n",
      "finished normalizing\n",
      "finished setting means\n",
      "Found 3 features to plot.\n",
      "range() integer end argument expected, got numpy.float64.\n",
      "/home/bay001/anaconda/lib/python2.7/site-packages/matplotlib/font_manager.py:1288: UserWarning: findfont: Font family [u'sans-serif'] not found. Falling back to Bitstream Vera Sans\n",
      "  (prop.get_family(), self.defaultFamily[fontext]))\n"
     ]
    }
   ],
   "source": [
    "! python $program -ip $ipbam -input $inpbam -c $ref_positive $ref_negative $ref_bg -at rmats -o $outdir -norm 1 -e SE"
   ]
  },
  {
   "cell_type": "markdown",
   "metadata": {},
   "source": [
    "### Test input raw matrix"
   ]
  },
  {
   "cell_type": "code",
   "execution_count": 5,
   "metadata": {
    "collapsed": false
   },
   "outputs": [
    {
     "data": {
      "text/plain": [
       "'same'"
      ]
     },
     "execution_count": 5,
     "metadata": {},
     "output_type": "execute_result"
    }
   ],
   "source": [
    "ref_input_raw_matrix = 'included.input.204_01_RBFOX2.included.feature.se.raw_density_matrix.csv'\n",
    "ref_input = pd.read_table(\n",
    "    os.path.join(ref_wd,ref_input_raw_matrix),\n",
    "    sep=',',\n",
    "    index_col=0\n",
    ")\n",
    "test_input_raw_matrix = '/home/bay001/projects/codebase/temp/out/204_01_RBFOX2.merged.r2.input.se.RBFOX2-HepG2-SE-positive.feature.se.raw_density_matrix.csv'\n",
    "test_input = pd.read_table(test_input_raw_matrix,sep=',',\n",
    "    index_col=0)\n",
    "\n",
    "diff(test_input, ref_input)"
   ]
  },
  {
   "cell_type": "code",
   "execution_count": null,
   "metadata": {
    "collapsed": false
   },
   "outputs": [],
   "source": []
  },
  {
   "cell_type": "code",
   "execution_count": null,
   "metadata": {
    "collapsed": false
   },
   "outputs": [],
   "source": []
  },
  {
   "cell_type": "markdown",
   "metadata": {},
   "source": [
    "### Test ip raw matrix"
   ]
  },
  {
   "cell_type": "code",
   "execution_count": 6,
   "metadata": {
    "collapsed": false
   },
   "outputs": [
    {
     "data": {
      "text/plain": [
       "'same'"
      ]
     },
     "execution_count": 6,
     "metadata": {},
     "output_type": "execute_result"
    }
   ],
   "source": [
    "# test ip\n",
    "ref_ip_raw_matrix = 'included.ip.204_01_RBFOX2.included.feature.se.raw_density_matrix.csv'\n",
    "ref_ip = pd.read_table(\n",
    "    os.path.join(ref_wd,ref_ip_raw_matrix),\n",
    "    sep=',',\n",
    "    index_col=0\n",
    ")\n",
    "test_ip_raw_matrix = '/home/bay001/projects/codebase/temp/out/204_01_RBFOX2.merged.r2.ip.se.RBFOX2-HepG2-SE-positive.feature.se.raw_density_matrix.csv'\n",
    "test_ip = pd.read_table(test_ip_raw_matrix,sep=',',\n",
    "    index_col=0)\n",
    "\n",
    "diff(test_ip, ref_ip)"
   ]
  },
  {
   "cell_type": "markdown",
   "metadata": {
    "collapsed": false
   },
   "source": [
    "# test ip pdf function"
   ]
  },
  {
   "cell_type": "code",
   "execution_count": 7,
   "metadata": {
    "collapsed": false
   },
   "outputs": [
    {
     "data": {
      "text/plain": [
       "'same'"
      ]
     },
     "execution_count": 7,
     "metadata": {},
     "output_type": "execute_result"
    }
   ],
   "source": [
    "test_ip_pdf = norm.calculate_pdf(test_ip)\n",
    "ref_ip_pdf = pd.read_table('/home/bay001/projects/maps_20160420/analysis/tests/for_eric/ip_pdf.csv',sep=',',index_col=0)\n",
    "diff(test_ip_pdf,ref_ip_pdf)"
   ]
  },
  {
   "cell_type": "markdown",
   "metadata": {},
   "source": [
    "# test input pdf function"
   ]
  },
  {
   "cell_type": "code",
   "execution_count": 8,
   "metadata": {
    "collapsed": false
   },
   "outputs": [
    {
     "data": {
      "text/plain": [
       "'same'"
      ]
     },
     "execution_count": 8,
     "metadata": {},
     "output_type": "execute_result"
    }
   ],
   "source": [
    "test_input_pdf = norm.calculate_pdf(test_input)\n",
    "ref_input_pdf = pd.read_table('/home/bay001/projects/maps_20160420/analysis/tests/for_eric/input_pdf.csv',sep=',',index_col=0)\n",
    "diff(test_input_pdf,ref_input_pdf)"
   ]
  },
  {
   "cell_type": "markdown",
   "metadata": {},
   "source": [
    "# Test normalization (subtract by region) function\n",
    "- caveats: see below"
   ]
  },
  {
   "cell_type": "code",
   "execution_count": 9,
   "metadata": {
    "collapsed": false
   },
   "outputs": [
    {
     "name": "stdout",
     "output_type": "stream",
     "text": [
      "(2698, 1400)\n",
      "(2698, 1400)\n"
     ]
    }
   ],
   "source": [
    "\n",
    "# ip reads: 4275451\n",
    "# input reads: 3765762\n",
    "\n",
    "\n",
    "test_norm = norm.normalize_and_per_region_subtract(test_ip, test_input,1000000.0/4275451,1000000.0/3765762,0)\n",
    "ref_norm = pd.read_table('/home/bay001/projects/maps_20160420/analysis/tests/for_eric/included.204_01_RBFOX2.subtract_by_region.feature.normed_matrix.csv',\n",
    "                        sep=',',index_col=0)\n",
    "\n",
    "merged = pd.merge(ref_norm, test_norm, how='left', left_index=True, right_index=True)\n",
    "\n",
    "test_norm = test_norm.ix[merged.index]\n",
    "test_norm.columns = test_norm.columns + '_TEST'\n",
    "\n",
    "ref_norm = ref_norm.ix[merged.index]\n",
    "ref_norm.columns = ref_norm.columns + '_REF'\n",
    "\n",
    "print(test_norm.shape)\n",
    "print(ref_norm.shape)"
   ]
  },
  {
   "cell_type": "code",
   "execution_count": 10,
   "metadata": {
    "collapsed": false
   },
   "outputs": [
    {
     "data": {
      "text/plain": [
       "(2698, 2800)"
      ]
     },
     "execution_count": 10,
     "metadata": {},
     "output_type": "execute_result"
    }
   ],
   "source": [
    "merged = pd.merge(ref_norm, test_norm, how='left', left_index=True, right_index=True)\n",
    "merged.shape"
   ]
  },
  {
   "cell_type": "markdown",
   "metadata": {},
   "source": [
    "##### diff(test_norm, ref_norm)\n",
    "- This will likely return false due to the rounding issues. When the ref was written to file, it rounded off to the nearest 14th digit. However the normalization function will not round at all, so we need to manually do this to check for equality. \n",
    "- Somehow, the reference was truncated. ARGH!\n",
    "- but the good news is that it is all matching up to the truncation. "
   ]
  },
  {
   "cell_type": "code",
   "execution_count": 11,
   "metadata": {
    "collapsed": false
   },
   "outputs": [
    {
     "data": {
      "text/html": [
       "<div>\n",
       "<table border=\"1\" class=\"dataframe\">\n",
       "  <thead>\n",
       "    <tr style=\"text-align: right;\">\n",
       "      <th></th>\n",
       "      <th>0_REF</th>\n",
       "      <th>1_REF</th>\n",
       "      <th>2_REF</th>\n",
       "      <th>3_REF</th>\n",
       "      <th>4_REF</th>\n",
       "      <th>5_REF</th>\n",
       "      <th>6_REF</th>\n",
       "      <th>7_REF</th>\n",
       "      <th>8_REF</th>\n",
       "      <th>9_REF</th>\n",
       "      <th>...</th>\n",
       "      <th>1390_TEST</th>\n",
       "      <th>1391_TEST</th>\n",
       "      <th>1392_TEST</th>\n",
       "      <th>1393_TEST</th>\n",
       "      <th>1394_TEST</th>\n",
       "      <th>1395_TEST</th>\n",
       "      <th>1396_TEST</th>\n",
       "      <th>1397_TEST</th>\n",
       "      <th>1398_TEST</th>\n",
       "      <th>1399_TEST</th>\n",
       "    </tr>\n",
       "  </thead>\n",
       "  <tbody>\n",
       "    <tr>\n",
       "      <th>10003\\tENSG00000090539.11\\tCHRD\\tchr3\\t+\\t184105161\\t184105200\\t184104838\\t184104895\\t184105718\\t184105821\\t10003\\t46,21\\t26,0\\t16,1\\t4,3\\t138\\t100\\t0.360867390803\\t1.0\\t0.562,1.0\\t0.743,0.195\\t0.312</th>\n",
       "      <td>0.000121</td>\n",
       "      <td>0.000121</td>\n",
       "      <td>0.000121</td>\n",
       "      <td>0.000121</td>\n",
       "      <td>0.000121</td>\n",
       "      <td>0.000121</td>\n",
       "      <td>0.000121</td>\n",
       "      <td>-0.000048</td>\n",
       "      <td>-0.000048</td>\n",
       "      <td>0.000242</td>\n",
       "      <td>...</td>\n",
       "      <td>0.001864</td>\n",
       "      <td>0.001864</td>\n",
       "      <td>0.001864</td>\n",
       "      <td>0.002155</td>\n",
       "      <td>0.002155</td>\n",
       "      <td>0.002155</td>\n",
       "      <td>0.002155</td>\n",
       "      <td>0.002155</td>\n",
       "      <td>0.002155</td>\n",
       "      <td>0.002155</td>\n",
       "    </tr>\n",
       "    <tr>\n",
       "      <th>10004\\tENSG00000090539.11\\tCHRD\\tchr3\\t+\\t184104279\\t184104543\\t184103833\\t184103947\\t184104632\\t184104726\\t10004\\t28,15\\t2,4\\t37,2\\t6,3\\t199\\t100\\t0.362396362008\\t1.0\\t0.876,0.653\\t0.756,0.251\\t0.261</th>\n",
       "      <td>-0.000078</td>\n",
       "      <td>-0.000191</td>\n",
       "      <td>-0.000191</td>\n",
       "      <td>-0.000191</td>\n",
       "      <td>-0.000191</td>\n",
       "      <td>-0.000191</td>\n",
       "      <td>-0.000078</td>\n",
       "      <td>-0.000496</td>\n",
       "      <td>-0.000496</td>\n",
       "      <td>-0.000496</td>\n",
       "      <td>...</td>\n",
       "      <td>-0.001748</td>\n",
       "      <td>-0.001748</td>\n",
       "      <td>-0.001748</td>\n",
       "      <td>-0.001748</td>\n",
       "      <td>-0.001748</td>\n",
       "      <td>-0.001748</td>\n",
       "      <td>-0.001748</td>\n",
       "      <td>-0.001748</td>\n",
       "      <td>-0.001748</td>\n",
       "      <td>-0.001748</td>\n",
       "    </tr>\n",
       "    <tr>\n",
       "      <th>10007\\tENSG00000090539.11\\tCHRD\\tchr3\\t+\\t184105161\\t184105265\\t184104838\\t184104895\\t184105718\\t184105821\\t10007\\t104,33\\t26,0\\t37,7\\t4,3\\t199\\t100\\t0.564126921431\\t1.0\\t0.668,1.0\\t0.823,0.54\\t0.153</th>\n",
       "      <td>0.000125</td>\n",
       "      <td>0.000125</td>\n",
       "      <td>0.000125</td>\n",
       "      <td>0.000125</td>\n",
       "      <td>0.000125</td>\n",
       "      <td>0.000125</td>\n",
       "      <td>0.000125</td>\n",
       "      <td>-0.000051</td>\n",
       "      <td>-0.000051</td>\n",
       "      <td>0.000250</td>\n",
       "      <td>...</td>\n",
       "      <td>0.001931</td>\n",
       "      <td>0.001931</td>\n",
       "      <td>0.001931</td>\n",
       "      <td>0.002232</td>\n",
       "      <td>0.002232</td>\n",
       "      <td>0.002232</td>\n",
       "      <td>0.002232</td>\n",
       "      <td>0.002232</td>\n",
       "      <td>0.002232</td>\n",
       "      <td>0.002232</td>\n",
       "    </tr>\n",
       "    <tr>\n",
       "      <th>10012\\tENSG00000111271.10\\tACAD10\\tchr12\\t+\\t112183993\\t112184088\\t112182446\\t112182847\\t112184852\\t112185012\\t10012\\t15,10\\t0,0\\t12,4\\t2,0\\t194\\t100\\t1.0\\t1.0\\t1.0,1.0\\t0.756,1.0\\t0.122</th>\n",
       "      <td>-0.000087</td>\n",
       "      <td>-0.000087</td>\n",
       "      <td>-0.000087</td>\n",
       "      <td>-0.000087</td>\n",
       "      <td>-0.000087</td>\n",
       "      <td>0.000447</td>\n",
       "      <td>0.000447</td>\n",
       "      <td>-0.000665</td>\n",
       "      <td>-0.000665</td>\n",
       "      <td>-0.000087</td>\n",
       "      <td>...</td>\n",
       "      <td>-0.000044</td>\n",
       "      <td>-0.000044</td>\n",
       "      <td>-0.000044</td>\n",
       "      <td>-0.000044</td>\n",
       "      <td>-0.000044</td>\n",
       "      <td>-0.000044</td>\n",
       "      <td>-0.000044</td>\n",
       "      <td>-0.000044</td>\n",
       "      <td>-0.000044</td>\n",
       "      <td>-0.000044</td>\n",
       "    </tr>\n",
       "    <tr>\n",
       "      <th>10027\\tENSG00000254363.2\\tCTB-131B5.5\\tchr5\\t+\\t139548221\\t139548400\\t139547265\\t139547387\\t139552332\\t139552636\\t10027\\t0,2\\t0,0\\t7,6\\t0,1\\t199\\t100\\t1.0\\t1.0\\tNA,1.0\\t1.0,0.751\\t0.125</th>\n",
       "      <td>0.000004</td>\n",
       "      <td>0.000004</td>\n",
       "      <td>0.000004</td>\n",
       "      <td>0.000004</td>\n",
       "      <td>0.000004</td>\n",
       "      <td>0.000004</td>\n",
       "      <td>0.000004</td>\n",
       "      <td>0.000004</td>\n",
       "      <td>0.000004</td>\n",
       "      <td>0.000004</td>\n",
       "      <td>...</td>\n",
       "      <td>0.000004</td>\n",
       "      <td>0.000004</td>\n",
       "      <td>0.000004</td>\n",
       "      <td>0.000004</td>\n",
       "      <td>0.000004</td>\n",
       "      <td>0.000004</td>\n",
       "      <td>0.000004</td>\n",
       "      <td>0.000004</td>\n",
       "      <td>0.000004</td>\n",
       "      <td>0.000004</td>\n",
       "    </tr>\n",
       "  </tbody>\n",
       "</table>\n",
       "<p>5 rows × 2800 columns</p>\n",
       "</div>"
      ],
      "text/plain": [
       "                                                                                                                                                                                                             0_REF  \\\n",
       "10003\\tENSG00000090539.11\\tCHRD\\tchr3\\t+\\t184105161\\t184105200\\t184104838\\t184104895\\t184105718\\t184105821\\t10003\\t46,21\\t26,0\\t16,1\\t4,3\\t138\\t100\\t0.360867390803\\t1.0\\t0.562,1.0\\t0.743,0.195\\t0.312   0.000121   \n",
       "10004\\tENSG00000090539.11\\tCHRD\\tchr3\\t+\\t184104279\\t184104543\\t184103833\\t184103947\\t184104632\\t184104726\\t10004\\t28,15\\t2,4\\t37,2\\t6,3\\t199\\t100\\t0.362396362008\\t1.0\\t0.876,0.653\\t0.756,0.251\\t0.261 -0.000078   \n",
       "10007\\tENSG00000090539.11\\tCHRD\\tchr3\\t+\\t184105161\\t184105265\\t184104838\\t184104895\\t184105718\\t184105821\\t10007\\t104,33\\t26,0\\t37,7\\t4,3\\t199\\t100\\t0.564126921431\\t1.0\\t0.668,1.0\\t0.823,0.54\\t0.153   0.000125   \n",
       "10012\\tENSG00000111271.10\\tACAD10\\tchr12\\t+\\t112183993\\t112184088\\t112182446\\t112182847\\t112184852\\t112185012\\t10012\\t15,10\\t0,0\\t12,4\\t2,0\\t194\\t100\\t1.0\\t1.0\\t1.0,1.0\\t0.756,1.0\\t0.122               -0.000087   \n",
       "10027\\tENSG00000254363.2\\tCTB-131B5.5\\tchr5\\t+\\t139548221\\t139548400\\t139547265\\t139547387\\t139552332\\t139552636\\t10027\\t0,2\\t0,0\\t7,6\\t0,1\\t199\\t100\\t1.0\\t1.0\\tNA,1.0\\t1.0,0.751\\t0.125                 0.000004   \n",
       "\n",
       "                                                                                                                                                                                                             1_REF  \\\n",
       "10003\\tENSG00000090539.11\\tCHRD\\tchr3\\t+\\t184105161\\t184105200\\t184104838\\t184104895\\t184105718\\t184105821\\t10003\\t46,21\\t26,0\\t16,1\\t4,3\\t138\\t100\\t0.360867390803\\t1.0\\t0.562,1.0\\t0.743,0.195\\t0.312   0.000121   \n",
       "10004\\tENSG00000090539.11\\tCHRD\\tchr3\\t+\\t184104279\\t184104543\\t184103833\\t184103947\\t184104632\\t184104726\\t10004\\t28,15\\t2,4\\t37,2\\t6,3\\t199\\t100\\t0.362396362008\\t1.0\\t0.876,0.653\\t0.756,0.251\\t0.261 -0.000191   \n",
       "10007\\tENSG00000090539.11\\tCHRD\\tchr3\\t+\\t184105161\\t184105265\\t184104838\\t184104895\\t184105718\\t184105821\\t10007\\t104,33\\t26,0\\t37,7\\t4,3\\t199\\t100\\t0.564126921431\\t1.0\\t0.668,1.0\\t0.823,0.54\\t0.153   0.000125   \n",
       "10012\\tENSG00000111271.10\\tACAD10\\tchr12\\t+\\t112183993\\t112184088\\t112182446\\t112182847\\t112184852\\t112185012\\t10012\\t15,10\\t0,0\\t12,4\\t2,0\\t194\\t100\\t1.0\\t1.0\\t1.0,1.0\\t0.756,1.0\\t0.122               -0.000087   \n",
       "10027\\tENSG00000254363.2\\tCTB-131B5.5\\tchr5\\t+\\t139548221\\t139548400\\t139547265\\t139547387\\t139552332\\t139552636\\t10027\\t0,2\\t0,0\\t7,6\\t0,1\\t199\\t100\\t1.0\\t1.0\\tNA,1.0\\t1.0,0.751\\t0.125                 0.000004   \n",
       "\n",
       "                                                                                                                                                                                                             2_REF  \\\n",
       "10003\\tENSG00000090539.11\\tCHRD\\tchr3\\t+\\t184105161\\t184105200\\t184104838\\t184104895\\t184105718\\t184105821\\t10003\\t46,21\\t26,0\\t16,1\\t4,3\\t138\\t100\\t0.360867390803\\t1.0\\t0.562,1.0\\t0.743,0.195\\t0.312   0.000121   \n",
       "10004\\tENSG00000090539.11\\tCHRD\\tchr3\\t+\\t184104279\\t184104543\\t184103833\\t184103947\\t184104632\\t184104726\\t10004\\t28,15\\t2,4\\t37,2\\t6,3\\t199\\t100\\t0.362396362008\\t1.0\\t0.876,0.653\\t0.756,0.251\\t0.261 -0.000191   \n",
       "10007\\tENSG00000090539.11\\tCHRD\\tchr3\\t+\\t184105161\\t184105265\\t184104838\\t184104895\\t184105718\\t184105821\\t10007\\t104,33\\t26,0\\t37,7\\t4,3\\t199\\t100\\t0.564126921431\\t1.0\\t0.668,1.0\\t0.823,0.54\\t0.153   0.000125   \n",
       "10012\\tENSG00000111271.10\\tACAD10\\tchr12\\t+\\t112183993\\t112184088\\t112182446\\t112182847\\t112184852\\t112185012\\t10012\\t15,10\\t0,0\\t12,4\\t2,0\\t194\\t100\\t1.0\\t1.0\\t1.0,1.0\\t0.756,1.0\\t0.122               -0.000087   \n",
       "10027\\tENSG00000254363.2\\tCTB-131B5.5\\tchr5\\t+\\t139548221\\t139548400\\t139547265\\t139547387\\t139552332\\t139552636\\t10027\\t0,2\\t0,0\\t7,6\\t0,1\\t199\\t100\\t1.0\\t1.0\\tNA,1.0\\t1.0,0.751\\t0.125                 0.000004   \n",
       "\n",
       "                                                                                                                                                                                                             3_REF  \\\n",
       "10003\\tENSG00000090539.11\\tCHRD\\tchr3\\t+\\t184105161\\t184105200\\t184104838\\t184104895\\t184105718\\t184105821\\t10003\\t46,21\\t26,0\\t16,1\\t4,3\\t138\\t100\\t0.360867390803\\t1.0\\t0.562,1.0\\t0.743,0.195\\t0.312   0.000121   \n",
       "10004\\tENSG00000090539.11\\tCHRD\\tchr3\\t+\\t184104279\\t184104543\\t184103833\\t184103947\\t184104632\\t184104726\\t10004\\t28,15\\t2,4\\t37,2\\t6,3\\t199\\t100\\t0.362396362008\\t1.0\\t0.876,0.653\\t0.756,0.251\\t0.261 -0.000191   \n",
       "10007\\tENSG00000090539.11\\tCHRD\\tchr3\\t+\\t184105161\\t184105265\\t184104838\\t184104895\\t184105718\\t184105821\\t10007\\t104,33\\t26,0\\t37,7\\t4,3\\t199\\t100\\t0.564126921431\\t1.0\\t0.668,1.0\\t0.823,0.54\\t0.153   0.000125   \n",
       "10012\\tENSG00000111271.10\\tACAD10\\tchr12\\t+\\t112183993\\t112184088\\t112182446\\t112182847\\t112184852\\t112185012\\t10012\\t15,10\\t0,0\\t12,4\\t2,0\\t194\\t100\\t1.0\\t1.0\\t1.0,1.0\\t0.756,1.0\\t0.122               -0.000087   \n",
       "10027\\tENSG00000254363.2\\tCTB-131B5.5\\tchr5\\t+\\t139548221\\t139548400\\t139547265\\t139547387\\t139552332\\t139552636\\t10027\\t0,2\\t0,0\\t7,6\\t0,1\\t199\\t100\\t1.0\\t1.0\\tNA,1.0\\t1.0,0.751\\t0.125                 0.000004   \n",
       "\n",
       "                                                                                                                                                                                                             4_REF  \\\n",
       "10003\\tENSG00000090539.11\\tCHRD\\tchr3\\t+\\t184105161\\t184105200\\t184104838\\t184104895\\t184105718\\t184105821\\t10003\\t46,21\\t26,0\\t16,1\\t4,3\\t138\\t100\\t0.360867390803\\t1.0\\t0.562,1.0\\t0.743,0.195\\t0.312   0.000121   \n",
       "10004\\tENSG00000090539.11\\tCHRD\\tchr3\\t+\\t184104279\\t184104543\\t184103833\\t184103947\\t184104632\\t184104726\\t10004\\t28,15\\t2,4\\t37,2\\t6,3\\t199\\t100\\t0.362396362008\\t1.0\\t0.876,0.653\\t0.756,0.251\\t0.261 -0.000191   \n",
       "10007\\tENSG00000090539.11\\tCHRD\\tchr3\\t+\\t184105161\\t184105265\\t184104838\\t184104895\\t184105718\\t184105821\\t10007\\t104,33\\t26,0\\t37,7\\t4,3\\t199\\t100\\t0.564126921431\\t1.0\\t0.668,1.0\\t0.823,0.54\\t0.153   0.000125   \n",
       "10012\\tENSG00000111271.10\\tACAD10\\tchr12\\t+\\t112183993\\t112184088\\t112182446\\t112182847\\t112184852\\t112185012\\t10012\\t15,10\\t0,0\\t12,4\\t2,0\\t194\\t100\\t1.0\\t1.0\\t1.0,1.0\\t0.756,1.0\\t0.122               -0.000087   \n",
       "10027\\tENSG00000254363.2\\tCTB-131B5.5\\tchr5\\t+\\t139548221\\t139548400\\t139547265\\t139547387\\t139552332\\t139552636\\t10027\\t0,2\\t0,0\\t7,6\\t0,1\\t199\\t100\\t1.0\\t1.0\\tNA,1.0\\t1.0,0.751\\t0.125                 0.000004   \n",
       "\n",
       "                                                                                                                                                                                                             5_REF  \\\n",
       "10003\\tENSG00000090539.11\\tCHRD\\tchr3\\t+\\t184105161\\t184105200\\t184104838\\t184104895\\t184105718\\t184105821\\t10003\\t46,21\\t26,0\\t16,1\\t4,3\\t138\\t100\\t0.360867390803\\t1.0\\t0.562,1.0\\t0.743,0.195\\t0.312   0.000121   \n",
       "10004\\tENSG00000090539.11\\tCHRD\\tchr3\\t+\\t184104279\\t184104543\\t184103833\\t184103947\\t184104632\\t184104726\\t10004\\t28,15\\t2,4\\t37,2\\t6,3\\t199\\t100\\t0.362396362008\\t1.0\\t0.876,0.653\\t0.756,0.251\\t0.261 -0.000191   \n",
       "10007\\tENSG00000090539.11\\tCHRD\\tchr3\\t+\\t184105161\\t184105265\\t184104838\\t184104895\\t184105718\\t184105821\\t10007\\t104,33\\t26,0\\t37,7\\t4,3\\t199\\t100\\t0.564126921431\\t1.0\\t0.668,1.0\\t0.823,0.54\\t0.153   0.000125   \n",
       "10012\\tENSG00000111271.10\\tACAD10\\tchr12\\t+\\t112183993\\t112184088\\t112182446\\t112182847\\t112184852\\t112185012\\t10012\\t15,10\\t0,0\\t12,4\\t2,0\\t194\\t100\\t1.0\\t1.0\\t1.0,1.0\\t0.756,1.0\\t0.122                0.000447   \n",
       "10027\\tENSG00000254363.2\\tCTB-131B5.5\\tchr5\\t+\\t139548221\\t139548400\\t139547265\\t139547387\\t139552332\\t139552636\\t10027\\t0,2\\t0,0\\t7,6\\t0,1\\t199\\t100\\t1.0\\t1.0\\tNA,1.0\\t1.0,0.751\\t0.125                 0.000004   \n",
       "\n",
       "                                                                                                                                                                                                             6_REF  \\\n",
       "10003\\tENSG00000090539.11\\tCHRD\\tchr3\\t+\\t184105161\\t184105200\\t184104838\\t184104895\\t184105718\\t184105821\\t10003\\t46,21\\t26,0\\t16,1\\t4,3\\t138\\t100\\t0.360867390803\\t1.0\\t0.562,1.0\\t0.743,0.195\\t0.312   0.000121   \n",
       "10004\\tENSG00000090539.11\\tCHRD\\tchr3\\t+\\t184104279\\t184104543\\t184103833\\t184103947\\t184104632\\t184104726\\t10004\\t28,15\\t2,4\\t37,2\\t6,3\\t199\\t100\\t0.362396362008\\t1.0\\t0.876,0.653\\t0.756,0.251\\t0.261 -0.000078   \n",
       "10007\\tENSG00000090539.11\\tCHRD\\tchr3\\t+\\t184105161\\t184105265\\t184104838\\t184104895\\t184105718\\t184105821\\t10007\\t104,33\\t26,0\\t37,7\\t4,3\\t199\\t100\\t0.564126921431\\t1.0\\t0.668,1.0\\t0.823,0.54\\t0.153   0.000125   \n",
       "10012\\tENSG00000111271.10\\tACAD10\\tchr12\\t+\\t112183993\\t112184088\\t112182446\\t112182847\\t112184852\\t112185012\\t10012\\t15,10\\t0,0\\t12,4\\t2,0\\t194\\t100\\t1.0\\t1.0\\t1.0,1.0\\t0.756,1.0\\t0.122                0.000447   \n",
       "10027\\tENSG00000254363.2\\tCTB-131B5.5\\tchr5\\t+\\t139548221\\t139548400\\t139547265\\t139547387\\t139552332\\t139552636\\t10027\\t0,2\\t0,0\\t7,6\\t0,1\\t199\\t100\\t1.0\\t1.0\\tNA,1.0\\t1.0,0.751\\t0.125                 0.000004   \n",
       "\n",
       "                                                                                                                                                                                                             7_REF  \\\n",
       "10003\\tENSG00000090539.11\\tCHRD\\tchr3\\t+\\t184105161\\t184105200\\t184104838\\t184104895\\t184105718\\t184105821\\t10003\\t46,21\\t26,0\\t16,1\\t4,3\\t138\\t100\\t0.360867390803\\t1.0\\t0.562,1.0\\t0.743,0.195\\t0.312  -0.000048   \n",
       "10004\\tENSG00000090539.11\\tCHRD\\tchr3\\t+\\t184104279\\t184104543\\t184103833\\t184103947\\t184104632\\t184104726\\t10004\\t28,15\\t2,4\\t37,2\\t6,3\\t199\\t100\\t0.362396362008\\t1.0\\t0.876,0.653\\t0.756,0.251\\t0.261 -0.000496   \n",
       "10007\\tENSG00000090539.11\\tCHRD\\tchr3\\t+\\t184105161\\t184105265\\t184104838\\t184104895\\t184105718\\t184105821\\t10007\\t104,33\\t26,0\\t37,7\\t4,3\\t199\\t100\\t0.564126921431\\t1.0\\t0.668,1.0\\t0.823,0.54\\t0.153  -0.000051   \n",
       "10012\\tENSG00000111271.10\\tACAD10\\tchr12\\t+\\t112183993\\t112184088\\t112182446\\t112182847\\t112184852\\t112185012\\t10012\\t15,10\\t0,0\\t12,4\\t2,0\\t194\\t100\\t1.0\\t1.0\\t1.0,1.0\\t0.756,1.0\\t0.122               -0.000665   \n",
       "10027\\tENSG00000254363.2\\tCTB-131B5.5\\tchr5\\t+\\t139548221\\t139548400\\t139547265\\t139547387\\t139552332\\t139552636\\t10027\\t0,2\\t0,0\\t7,6\\t0,1\\t199\\t100\\t1.0\\t1.0\\tNA,1.0\\t1.0,0.751\\t0.125                 0.000004   \n",
       "\n",
       "                                                                                                                                                                                                             8_REF  \\\n",
       "10003\\tENSG00000090539.11\\tCHRD\\tchr3\\t+\\t184105161\\t184105200\\t184104838\\t184104895\\t184105718\\t184105821\\t10003\\t46,21\\t26,0\\t16,1\\t4,3\\t138\\t100\\t0.360867390803\\t1.0\\t0.562,1.0\\t0.743,0.195\\t0.312  -0.000048   \n",
       "10004\\tENSG00000090539.11\\tCHRD\\tchr3\\t+\\t184104279\\t184104543\\t184103833\\t184103947\\t184104632\\t184104726\\t10004\\t28,15\\t2,4\\t37,2\\t6,3\\t199\\t100\\t0.362396362008\\t1.0\\t0.876,0.653\\t0.756,0.251\\t0.261 -0.000496   \n",
       "10007\\tENSG00000090539.11\\tCHRD\\tchr3\\t+\\t184105161\\t184105265\\t184104838\\t184104895\\t184105718\\t184105821\\t10007\\t104,33\\t26,0\\t37,7\\t4,3\\t199\\t100\\t0.564126921431\\t1.0\\t0.668,1.0\\t0.823,0.54\\t0.153  -0.000051   \n",
       "10012\\tENSG00000111271.10\\tACAD10\\tchr12\\t+\\t112183993\\t112184088\\t112182446\\t112182847\\t112184852\\t112185012\\t10012\\t15,10\\t0,0\\t12,4\\t2,0\\t194\\t100\\t1.0\\t1.0\\t1.0,1.0\\t0.756,1.0\\t0.122               -0.000665   \n",
       "10027\\tENSG00000254363.2\\tCTB-131B5.5\\tchr5\\t+\\t139548221\\t139548400\\t139547265\\t139547387\\t139552332\\t139552636\\t10027\\t0,2\\t0,0\\t7,6\\t0,1\\t199\\t100\\t1.0\\t1.0\\tNA,1.0\\t1.0,0.751\\t0.125                 0.000004   \n",
       "\n",
       "                                                                                                                                                                                                             9_REF  \\\n",
       "10003\\tENSG00000090539.11\\tCHRD\\tchr3\\t+\\t184105161\\t184105200\\t184104838\\t184104895\\t184105718\\t184105821\\t10003\\t46,21\\t26,0\\t16,1\\t4,3\\t138\\t100\\t0.360867390803\\t1.0\\t0.562,1.0\\t0.743,0.195\\t0.312   0.000242   \n",
       "10004\\tENSG00000090539.11\\tCHRD\\tchr3\\t+\\t184104279\\t184104543\\t184103833\\t184103947\\t184104632\\t184104726\\t10004\\t28,15\\t2,4\\t37,2\\t6,3\\t199\\t100\\t0.362396362008\\t1.0\\t0.876,0.653\\t0.756,0.251\\t0.261 -0.000496   \n",
       "10007\\tENSG00000090539.11\\tCHRD\\tchr3\\t+\\t184105161\\t184105265\\t184104838\\t184104895\\t184105718\\t184105821\\t10007\\t104,33\\t26,0\\t37,7\\t4,3\\t199\\t100\\t0.564126921431\\t1.0\\t0.668,1.0\\t0.823,0.54\\t0.153   0.000250   \n",
       "10012\\tENSG00000111271.10\\tACAD10\\tchr12\\t+\\t112183993\\t112184088\\t112182446\\t112182847\\t112184852\\t112185012\\t10012\\t15,10\\t0,0\\t12,4\\t2,0\\t194\\t100\\t1.0\\t1.0\\t1.0,1.0\\t0.756,1.0\\t0.122               -0.000087   \n",
       "10027\\tENSG00000254363.2\\tCTB-131B5.5\\tchr5\\t+\\t139548221\\t139548400\\t139547265\\t139547387\\t139552332\\t139552636\\t10027\\t0,2\\t0,0\\t7,6\\t0,1\\t199\\t100\\t1.0\\t1.0\\tNA,1.0\\t1.0,0.751\\t0.125                 0.000004   \n",
       "\n",
       "                                                                                                                                                                                                            ...      \\\n",
       "10003\\tENSG00000090539.11\\tCHRD\\tchr3\\t+\\t184105161\\t184105200\\t184104838\\t184104895\\t184105718\\t184105821\\t10003\\t46,21\\t26,0\\t16,1\\t4,3\\t138\\t100\\t0.360867390803\\t1.0\\t0.562,1.0\\t0.743,0.195\\t0.312     ...       \n",
       "10004\\tENSG00000090539.11\\tCHRD\\tchr3\\t+\\t184104279\\t184104543\\t184103833\\t184103947\\t184104632\\t184104726\\t10004\\t28,15\\t2,4\\t37,2\\t6,3\\t199\\t100\\t0.362396362008\\t1.0\\t0.876,0.653\\t0.756,0.251\\t0.261    ...       \n",
       "10007\\tENSG00000090539.11\\tCHRD\\tchr3\\t+\\t184105161\\t184105265\\t184104838\\t184104895\\t184105718\\t184105821\\t10007\\t104,33\\t26,0\\t37,7\\t4,3\\t199\\t100\\t0.564126921431\\t1.0\\t0.668,1.0\\t0.823,0.54\\t0.153     ...       \n",
       "10012\\tENSG00000111271.10\\tACAD10\\tchr12\\t+\\t112183993\\t112184088\\t112182446\\t112182847\\t112184852\\t112185012\\t10012\\t15,10\\t0,0\\t12,4\\t2,0\\t194\\t100\\t1.0\\t1.0\\t1.0,1.0\\t0.756,1.0\\t0.122                  ...       \n",
       "10027\\tENSG00000254363.2\\tCTB-131B5.5\\tchr5\\t+\\t139548221\\t139548400\\t139547265\\t139547387\\t139552332\\t139552636\\t10027\\t0,2\\t0,0\\t7,6\\t0,1\\t199\\t100\\t1.0\\t1.0\\tNA,1.0\\t1.0,0.751\\t0.125                   ...       \n",
       "\n",
       "                                                                                                                                                                                                          1390_TEST  \\\n",
       "10003\\tENSG00000090539.11\\tCHRD\\tchr3\\t+\\t184105161\\t184105200\\t184104838\\t184104895\\t184105718\\t184105821\\t10003\\t46,21\\t26,0\\t16,1\\t4,3\\t138\\t100\\t0.360867390803\\t1.0\\t0.562,1.0\\t0.743,0.195\\t0.312    0.001864   \n",
       "10004\\tENSG00000090539.11\\tCHRD\\tchr3\\t+\\t184104279\\t184104543\\t184103833\\t184103947\\t184104632\\t184104726\\t10004\\t28,15\\t2,4\\t37,2\\t6,3\\t199\\t100\\t0.362396362008\\t1.0\\t0.876,0.653\\t0.756,0.251\\t0.261  -0.001748   \n",
       "10007\\tENSG00000090539.11\\tCHRD\\tchr3\\t+\\t184105161\\t184105265\\t184104838\\t184104895\\t184105718\\t184105821\\t10007\\t104,33\\t26,0\\t37,7\\t4,3\\t199\\t100\\t0.564126921431\\t1.0\\t0.668,1.0\\t0.823,0.54\\t0.153    0.001931   \n",
       "10012\\tENSG00000111271.10\\tACAD10\\tchr12\\t+\\t112183993\\t112184088\\t112182446\\t112182847\\t112184852\\t112185012\\t10012\\t15,10\\t0,0\\t12,4\\t2,0\\t194\\t100\\t1.0\\t1.0\\t1.0,1.0\\t0.756,1.0\\t0.122                -0.000044   \n",
       "10027\\tENSG00000254363.2\\tCTB-131B5.5\\tchr5\\t+\\t139548221\\t139548400\\t139547265\\t139547387\\t139552332\\t139552636\\t10027\\t0,2\\t0,0\\t7,6\\t0,1\\t199\\t100\\t1.0\\t1.0\\tNA,1.0\\t1.0,0.751\\t0.125                  0.000004   \n",
       "\n",
       "                                                                                                                                                                                                          1391_TEST  \\\n",
       "10003\\tENSG00000090539.11\\tCHRD\\tchr3\\t+\\t184105161\\t184105200\\t184104838\\t184104895\\t184105718\\t184105821\\t10003\\t46,21\\t26,0\\t16,1\\t4,3\\t138\\t100\\t0.360867390803\\t1.0\\t0.562,1.0\\t0.743,0.195\\t0.312    0.001864   \n",
       "10004\\tENSG00000090539.11\\tCHRD\\tchr3\\t+\\t184104279\\t184104543\\t184103833\\t184103947\\t184104632\\t184104726\\t10004\\t28,15\\t2,4\\t37,2\\t6,3\\t199\\t100\\t0.362396362008\\t1.0\\t0.876,0.653\\t0.756,0.251\\t0.261  -0.001748   \n",
       "10007\\tENSG00000090539.11\\tCHRD\\tchr3\\t+\\t184105161\\t184105265\\t184104838\\t184104895\\t184105718\\t184105821\\t10007\\t104,33\\t26,0\\t37,7\\t4,3\\t199\\t100\\t0.564126921431\\t1.0\\t0.668,1.0\\t0.823,0.54\\t0.153    0.001931   \n",
       "10012\\tENSG00000111271.10\\tACAD10\\tchr12\\t+\\t112183993\\t112184088\\t112182446\\t112182847\\t112184852\\t112185012\\t10012\\t15,10\\t0,0\\t12,4\\t2,0\\t194\\t100\\t1.0\\t1.0\\t1.0,1.0\\t0.756,1.0\\t0.122                -0.000044   \n",
       "10027\\tENSG00000254363.2\\tCTB-131B5.5\\tchr5\\t+\\t139548221\\t139548400\\t139547265\\t139547387\\t139552332\\t139552636\\t10027\\t0,2\\t0,0\\t7,6\\t0,1\\t199\\t100\\t1.0\\t1.0\\tNA,1.0\\t1.0,0.751\\t0.125                  0.000004   \n",
       "\n",
       "                                                                                                                                                                                                          1392_TEST  \\\n",
       "10003\\tENSG00000090539.11\\tCHRD\\tchr3\\t+\\t184105161\\t184105200\\t184104838\\t184104895\\t184105718\\t184105821\\t10003\\t46,21\\t26,0\\t16,1\\t4,3\\t138\\t100\\t0.360867390803\\t1.0\\t0.562,1.0\\t0.743,0.195\\t0.312    0.001864   \n",
       "10004\\tENSG00000090539.11\\tCHRD\\tchr3\\t+\\t184104279\\t184104543\\t184103833\\t184103947\\t184104632\\t184104726\\t10004\\t28,15\\t2,4\\t37,2\\t6,3\\t199\\t100\\t0.362396362008\\t1.0\\t0.876,0.653\\t0.756,0.251\\t0.261  -0.001748   \n",
       "10007\\tENSG00000090539.11\\tCHRD\\tchr3\\t+\\t184105161\\t184105265\\t184104838\\t184104895\\t184105718\\t184105821\\t10007\\t104,33\\t26,0\\t37,7\\t4,3\\t199\\t100\\t0.564126921431\\t1.0\\t0.668,1.0\\t0.823,0.54\\t0.153    0.001931   \n",
       "10012\\tENSG00000111271.10\\tACAD10\\tchr12\\t+\\t112183993\\t112184088\\t112182446\\t112182847\\t112184852\\t112185012\\t10012\\t15,10\\t0,0\\t12,4\\t2,0\\t194\\t100\\t1.0\\t1.0\\t1.0,1.0\\t0.756,1.0\\t0.122                -0.000044   \n",
       "10027\\tENSG00000254363.2\\tCTB-131B5.5\\tchr5\\t+\\t139548221\\t139548400\\t139547265\\t139547387\\t139552332\\t139552636\\t10027\\t0,2\\t0,0\\t7,6\\t0,1\\t199\\t100\\t1.0\\t1.0\\tNA,1.0\\t1.0,0.751\\t0.125                  0.000004   \n",
       "\n",
       "                                                                                                                                                                                                          1393_TEST  \\\n",
       "10003\\tENSG00000090539.11\\tCHRD\\tchr3\\t+\\t184105161\\t184105200\\t184104838\\t184104895\\t184105718\\t184105821\\t10003\\t46,21\\t26,0\\t16,1\\t4,3\\t138\\t100\\t0.360867390803\\t1.0\\t0.562,1.0\\t0.743,0.195\\t0.312    0.002155   \n",
       "10004\\tENSG00000090539.11\\tCHRD\\tchr3\\t+\\t184104279\\t184104543\\t184103833\\t184103947\\t184104632\\t184104726\\t10004\\t28,15\\t2,4\\t37,2\\t6,3\\t199\\t100\\t0.362396362008\\t1.0\\t0.876,0.653\\t0.756,0.251\\t0.261  -0.001748   \n",
       "10007\\tENSG00000090539.11\\tCHRD\\tchr3\\t+\\t184105161\\t184105265\\t184104838\\t184104895\\t184105718\\t184105821\\t10007\\t104,33\\t26,0\\t37,7\\t4,3\\t199\\t100\\t0.564126921431\\t1.0\\t0.668,1.0\\t0.823,0.54\\t0.153    0.002232   \n",
       "10012\\tENSG00000111271.10\\tACAD10\\tchr12\\t+\\t112183993\\t112184088\\t112182446\\t112182847\\t112184852\\t112185012\\t10012\\t15,10\\t0,0\\t12,4\\t2,0\\t194\\t100\\t1.0\\t1.0\\t1.0,1.0\\t0.756,1.0\\t0.122                -0.000044   \n",
       "10027\\tENSG00000254363.2\\tCTB-131B5.5\\tchr5\\t+\\t139548221\\t139548400\\t139547265\\t139547387\\t139552332\\t139552636\\t10027\\t0,2\\t0,0\\t7,6\\t0,1\\t199\\t100\\t1.0\\t1.0\\tNA,1.0\\t1.0,0.751\\t0.125                  0.000004   \n",
       "\n",
       "                                                                                                                                                                                                          1394_TEST  \\\n",
       "10003\\tENSG00000090539.11\\tCHRD\\tchr3\\t+\\t184105161\\t184105200\\t184104838\\t184104895\\t184105718\\t184105821\\t10003\\t46,21\\t26,0\\t16,1\\t4,3\\t138\\t100\\t0.360867390803\\t1.0\\t0.562,1.0\\t0.743,0.195\\t0.312    0.002155   \n",
       "10004\\tENSG00000090539.11\\tCHRD\\tchr3\\t+\\t184104279\\t184104543\\t184103833\\t184103947\\t184104632\\t184104726\\t10004\\t28,15\\t2,4\\t37,2\\t6,3\\t199\\t100\\t0.362396362008\\t1.0\\t0.876,0.653\\t0.756,0.251\\t0.261  -0.001748   \n",
       "10007\\tENSG00000090539.11\\tCHRD\\tchr3\\t+\\t184105161\\t184105265\\t184104838\\t184104895\\t184105718\\t184105821\\t10007\\t104,33\\t26,0\\t37,7\\t4,3\\t199\\t100\\t0.564126921431\\t1.0\\t0.668,1.0\\t0.823,0.54\\t0.153    0.002232   \n",
       "10012\\tENSG00000111271.10\\tACAD10\\tchr12\\t+\\t112183993\\t112184088\\t112182446\\t112182847\\t112184852\\t112185012\\t10012\\t15,10\\t0,0\\t12,4\\t2,0\\t194\\t100\\t1.0\\t1.0\\t1.0,1.0\\t0.756,1.0\\t0.122                -0.000044   \n",
       "10027\\tENSG00000254363.2\\tCTB-131B5.5\\tchr5\\t+\\t139548221\\t139548400\\t139547265\\t139547387\\t139552332\\t139552636\\t10027\\t0,2\\t0,0\\t7,6\\t0,1\\t199\\t100\\t1.0\\t1.0\\tNA,1.0\\t1.0,0.751\\t0.125                  0.000004   \n",
       "\n",
       "                                                                                                                                                                                                          1395_TEST  \\\n",
       "10003\\tENSG00000090539.11\\tCHRD\\tchr3\\t+\\t184105161\\t184105200\\t184104838\\t184104895\\t184105718\\t184105821\\t10003\\t46,21\\t26,0\\t16,1\\t4,3\\t138\\t100\\t0.360867390803\\t1.0\\t0.562,1.0\\t0.743,0.195\\t0.312    0.002155   \n",
       "10004\\tENSG00000090539.11\\tCHRD\\tchr3\\t+\\t184104279\\t184104543\\t184103833\\t184103947\\t184104632\\t184104726\\t10004\\t28,15\\t2,4\\t37,2\\t6,3\\t199\\t100\\t0.362396362008\\t1.0\\t0.876,0.653\\t0.756,0.251\\t0.261  -0.001748   \n",
       "10007\\tENSG00000090539.11\\tCHRD\\tchr3\\t+\\t184105161\\t184105265\\t184104838\\t184104895\\t184105718\\t184105821\\t10007\\t104,33\\t26,0\\t37,7\\t4,3\\t199\\t100\\t0.564126921431\\t1.0\\t0.668,1.0\\t0.823,0.54\\t0.153    0.002232   \n",
       "10012\\tENSG00000111271.10\\tACAD10\\tchr12\\t+\\t112183993\\t112184088\\t112182446\\t112182847\\t112184852\\t112185012\\t10012\\t15,10\\t0,0\\t12,4\\t2,0\\t194\\t100\\t1.0\\t1.0\\t1.0,1.0\\t0.756,1.0\\t0.122                -0.000044   \n",
       "10027\\tENSG00000254363.2\\tCTB-131B5.5\\tchr5\\t+\\t139548221\\t139548400\\t139547265\\t139547387\\t139552332\\t139552636\\t10027\\t0,2\\t0,0\\t7,6\\t0,1\\t199\\t100\\t1.0\\t1.0\\tNA,1.0\\t1.0,0.751\\t0.125                  0.000004   \n",
       "\n",
       "                                                                                                                                                                                                          1396_TEST  \\\n",
       "10003\\tENSG00000090539.11\\tCHRD\\tchr3\\t+\\t184105161\\t184105200\\t184104838\\t184104895\\t184105718\\t184105821\\t10003\\t46,21\\t26,0\\t16,1\\t4,3\\t138\\t100\\t0.360867390803\\t1.0\\t0.562,1.0\\t0.743,0.195\\t0.312    0.002155   \n",
       "10004\\tENSG00000090539.11\\tCHRD\\tchr3\\t+\\t184104279\\t184104543\\t184103833\\t184103947\\t184104632\\t184104726\\t10004\\t28,15\\t2,4\\t37,2\\t6,3\\t199\\t100\\t0.362396362008\\t1.0\\t0.876,0.653\\t0.756,0.251\\t0.261  -0.001748   \n",
       "10007\\tENSG00000090539.11\\tCHRD\\tchr3\\t+\\t184105161\\t184105265\\t184104838\\t184104895\\t184105718\\t184105821\\t10007\\t104,33\\t26,0\\t37,7\\t4,3\\t199\\t100\\t0.564126921431\\t1.0\\t0.668,1.0\\t0.823,0.54\\t0.153    0.002232   \n",
       "10012\\tENSG00000111271.10\\tACAD10\\tchr12\\t+\\t112183993\\t112184088\\t112182446\\t112182847\\t112184852\\t112185012\\t10012\\t15,10\\t0,0\\t12,4\\t2,0\\t194\\t100\\t1.0\\t1.0\\t1.0,1.0\\t0.756,1.0\\t0.122                -0.000044   \n",
       "10027\\tENSG00000254363.2\\tCTB-131B5.5\\tchr5\\t+\\t139548221\\t139548400\\t139547265\\t139547387\\t139552332\\t139552636\\t10027\\t0,2\\t0,0\\t7,6\\t0,1\\t199\\t100\\t1.0\\t1.0\\tNA,1.0\\t1.0,0.751\\t0.125                  0.000004   \n",
       "\n",
       "                                                                                                                                                                                                          1397_TEST  \\\n",
       "10003\\tENSG00000090539.11\\tCHRD\\tchr3\\t+\\t184105161\\t184105200\\t184104838\\t184104895\\t184105718\\t184105821\\t10003\\t46,21\\t26,0\\t16,1\\t4,3\\t138\\t100\\t0.360867390803\\t1.0\\t0.562,1.0\\t0.743,0.195\\t0.312    0.002155   \n",
       "10004\\tENSG00000090539.11\\tCHRD\\tchr3\\t+\\t184104279\\t184104543\\t184103833\\t184103947\\t184104632\\t184104726\\t10004\\t28,15\\t2,4\\t37,2\\t6,3\\t199\\t100\\t0.362396362008\\t1.0\\t0.876,0.653\\t0.756,0.251\\t0.261  -0.001748   \n",
       "10007\\tENSG00000090539.11\\tCHRD\\tchr3\\t+\\t184105161\\t184105265\\t184104838\\t184104895\\t184105718\\t184105821\\t10007\\t104,33\\t26,0\\t37,7\\t4,3\\t199\\t100\\t0.564126921431\\t1.0\\t0.668,1.0\\t0.823,0.54\\t0.153    0.002232   \n",
       "10012\\tENSG00000111271.10\\tACAD10\\tchr12\\t+\\t112183993\\t112184088\\t112182446\\t112182847\\t112184852\\t112185012\\t10012\\t15,10\\t0,0\\t12,4\\t2,0\\t194\\t100\\t1.0\\t1.0\\t1.0,1.0\\t0.756,1.0\\t0.122                -0.000044   \n",
       "10027\\tENSG00000254363.2\\tCTB-131B5.5\\tchr5\\t+\\t139548221\\t139548400\\t139547265\\t139547387\\t139552332\\t139552636\\t10027\\t0,2\\t0,0\\t7,6\\t0,1\\t199\\t100\\t1.0\\t1.0\\tNA,1.0\\t1.0,0.751\\t0.125                  0.000004   \n",
       "\n",
       "                                                                                                                                                                                                          1398_TEST  \\\n",
       "10003\\tENSG00000090539.11\\tCHRD\\tchr3\\t+\\t184105161\\t184105200\\t184104838\\t184104895\\t184105718\\t184105821\\t10003\\t46,21\\t26,0\\t16,1\\t4,3\\t138\\t100\\t0.360867390803\\t1.0\\t0.562,1.0\\t0.743,0.195\\t0.312    0.002155   \n",
       "10004\\tENSG00000090539.11\\tCHRD\\tchr3\\t+\\t184104279\\t184104543\\t184103833\\t184103947\\t184104632\\t184104726\\t10004\\t28,15\\t2,4\\t37,2\\t6,3\\t199\\t100\\t0.362396362008\\t1.0\\t0.876,0.653\\t0.756,0.251\\t0.261  -0.001748   \n",
       "10007\\tENSG00000090539.11\\tCHRD\\tchr3\\t+\\t184105161\\t184105265\\t184104838\\t184104895\\t184105718\\t184105821\\t10007\\t104,33\\t26,0\\t37,7\\t4,3\\t199\\t100\\t0.564126921431\\t1.0\\t0.668,1.0\\t0.823,0.54\\t0.153    0.002232   \n",
       "10012\\tENSG00000111271.10\\tACAD10\\tchr12\\t+\\t112183993\\t112184088\\t112182446\\t112182847\\t112184852\\t112185012\\t10012\\t15,10\\t0,0\\t12,4\\t2,0\\t194\\t100\\t1.0\\t1.0\\t1.0,1.0\\t0.756,1.0\\t0.122                -0.000044   \n",
       "10027\\tENSG00000254363.2\\tCTB-131B5.5\\tchr5\\t+\\t139548221\\t139548400\\t139547265\\t139547387\\t139552332\\t139552636\\t10027\\t0,2\\t0,0\\t7,6\\t0,1\\t199\\t100\\t1.0\\t1.0\\tNA,1.0\\t1.0,0.751\\t0.125                  0.000004   \n",
       "\n",
       "                                                                                                                                                                                                          1399_TEST  \n",
       "10003\\tENSG00000090539.11\\tCHRD\\tchr3\\t+\\t184105161\\t184105200\\t184104838\\t184104895\\t184105718\\t184105821\\t10003\\t46,21\\t26,0\\t16,1\\t4,3\\t138\\t100\\t0.360867390803\\t1.0\\t0.562,1.0\\t0.743,0.195\\t0.312    0.002155  \n",
       "10004\\tENSG00000090539.11\\tCHRD\\tchr3\\t+\\t184104279\\t184104543\\t184103833\\t184103947\\t184104632\\t184104726\\t10004\\t28,15\\t2,4\\t37,2\\t6,3\\t199\\t100\\t0.362396362008\\t1.0\\t0.876,0.653\\t0.756,0.251\\t0.261  -0.001748  \n",
       "10007\\tENSG00000090539.11\\tCHRD\\tchr3\\t+\\t184105161\\t184105265\\t184104838\\t184104895\\t184105718\\t184105821\\t10007\\t104,33\\t26,0\\t37,7\\t4,3\\t199\\t100\\t0.564126921431\\t1.0\\t0.668,1.0\\t0.823,0.54\\t0.153    0.002232  \n",
       "10012\\tENSG00000111271.10\\tACAD10\\tchr12\\t+\\t112183993\\t112184088\\t112182446\\t112182847\\t112184852\\t112185012\\t10012\\t15,10\\t0,0\\t12,4\\t2,0\\t194\\t100\\t1.0\\t1.0\\t1.0,1.0\\t0.756,1.0\\t0.122                -0.000044  \n",
       "10027\\tENSG00000254363.2\\tCTB-131B5.5\\tchr5\\t+\\t139548221\\t139548400\\t139547265\\t139547387\\t139552332\\t139552636\\t10027\\t0,2\\t0,0\\t7,6\\t0,1\\t199\\t100\\t1.0\\t1.0\\tNA,1.0\\t1.0,0.751\\t0.125                  0.000004  \n",
       "\n",
       "[5 rows x 2800 columns]"
      ]
     },
     "execution_count": 11,
     "metadata": {},
     "output_type": "execute_result"
    }
   ],
   "source": [
    "merged.head()"
   ]
  },
  {
   "cell_type": "code",
   "execution_count": 12,
   "metadata": {
    "collapsed": false
   },
   "outputs": [
    {
     "ename": "NameError",
     "evalue": "name 'ix_in_question' is not defined",
     "output_type": "error",
     "traceback": [
      "\u001b[0;31m---------------------------------------------------------------------------\u001b[0m",
      "\u001b[0;31mNameError\u001b[0m                                 Traceback (most recent call last)",
      "\u001b[0;32m<ipython-input-12-ab4130ee1c08>\u001b[0m in \u001b[0;36m<module>\u001b[0;34m()\u001b[0m\n\u001b[1;32m      2\u001b[0m \u001b[0;32mfor\u001b[0m \u001b[0mc\u001b[0m \u001b[0;32min\u001b[0m \u001b[0mrange\u001b[0m\u001b[0;34m(\u001b[0m\u001b[0;36m0\u001b[0m\u001b[0;34m,\u001b[0m\u001b[0;36m1400\u001b[0m\u001b[0;34m)\u001b[0m\u001b[0;34m:\u001b[0m\u001b[0;34m\u001b[0m\u001b[0m\n\u001b[1;32m      3\u001b[0m     \u001b[0;32mfor\u001b[0m \u001b[0mi\u001b[0m \u001b[0;32min\u001b[0m \u001b[0mmerged\u001b[0m\u001b[0;34m.\u001b[0m\u001b[0mindex\u001b[0m\u001b[0;34m:\u001b[0m\u001b[0;34m\u001b[0m\u001b[0m\n\u001b[0;32m----> 4\u001b[0;31m         \u001b[0;32mif\u001b[0m \u001b[0mi\u001b[0m \u001b[0;34m!=\u001b[0m \u001b[0mix_in_question\u001b[0m\u001b[0;34m:\u001b[0m \u001b[0;31m# we don't need to check the index that was truncated.\u001b[0m\u001b[0;34m\u001b[0m\u001b[0m\n\u001b[0m\u001b[1;32m      5\u001b[0m             \u001b[0mt\u001b[0m \u001b[0;34m=\u001b[0m \u001b[0mround_nearest\u001b[0m\u001b[0;34m(\u001b[0m\u001b[0mmerged\u001b[0m\u001b[0;34m.\u001b[0m\u001b[0mix\u001b[0m\u001b[0;34m[\u001b[0m\u001b[0mi\u001b[0m\u001b[0;34m]\u001b[0m\u001b[0;34m[\u001b[0m\u001b[0;34m'{}_TEST'\u001b[0m\u001b[0;34m.\u001b[0m\u001b[0mformat\u001b[0m\u001b[0;34m(\u001b[0m\u001b[0mc\u001b[0m\u001b[0;34m)\u001b[0m\u001b[0;34m]\u001b[0m\u001b[0;34m,\u001b[0m\u001b[0;36m13\u001b[0m\u001b[0;34m)\u001b[0m\u001b[0;34m\u001b[0m\u001b[0m\n\u001b[1;32m      6\u001b[0m             \u001b[0mr\u001b[0m \u001b[0;34m=\u001b[0m \u001b[0mround_nearest\u001b[0m\u001b[0;34m(\u001b[0m\u001b[0mmerged\u001b[0m\u001b[0;34m.\u001b[0m\u001b[0mix\u001b[0m\u001b[0;34m[\u001b[0m\u001b[0mi\u001b[0m\u001b[0;34m]\u001b[0m\u001b[0;34m[\u001b[0m\u001b[0;34m'{}_REF'\u001b[0m\u001b[0;34m.\u001b[0m\u001b[0mformat\u001b[0m\u001b[0;34m(\u001b[0m\u001b[0mc\u001b[0m\u001b[0;34m)\u001b[0m\u001b[0;34m]\u001b[0m\u001b[0;34m,\u001b[0m\u001b[0;36m13\u001b[0m\u001b[0;34m)\u001b[0m\u001b[0;34m\u001b[0m\u001b[0m\n",
      "\u001b[0;31mNameError\u001b[0m: name 'ix_in_question' is not defined"
     ]
    }
   ],
   "source": [
    "\n",
    "for c in range(0,1400):\n",
    "    for i in merged.index:\n",
    "        if i != ix_in_question: # we don't need to check the index that was truncated. \n",
    "            t = round_nearest(merged.ix[i]['{}_TEST'.format(c)],13)\n",
    "            r = round_nearest(merged.ix[i]['{}_REF'.format(c)],13)\n",
    "            if(r != t):\n",
    "                if np.isnan(r) and np.isnan(r):\n",
    "                    pass\n",
    "                else:\n",
    "                    print(i, round_nearest(\n",
    "                            merged.ix[i]['{}_TEST'.format(col)],13), \n",
    "                          round_nearest(\n",
    "                            merged.ix[i]['{}_REF'.format(col)],13))\n"
   ]
  },
  {
   "cell_type": "markdown",
   "metadata": {
    "collapsed": false
   },
   "source": [
    "# Test better 5p function"
   ]
  },
  {
   "cell_type": "code",
   "execution_count": null,
   "metadata": {
    "collapsed": false
   },
   "outputs": [],
   "source": []
  },
  {
   "cell_type": "code",
   "execution_count": null,
   "metadata": {
    "collapsed": false
   },
   "outputs": [],
   "source": []
  },
  {
   "cell_type": "code",
   "execution_count": null,
   "metadata": {
    "collapsed": false
   },
   "outputs": [],
   "source": [
    "original == better"
   ]
  },
  {
   "cell_type": "code",
   "execution_count": null,
   "metadata": {
    "collapsed": false
   },
   "outputs": [],
   "source": [
    "original"
   ]
  },
  {
   "cell_type": "code",
   "execution_count": null,
   "metadata": {
    "collapsed": true
   },
   "outputs": [],
   "source": []
  }
 ],
 "metadata": {
  "kernelspec": {
   "display_name": "Python 2",
   "language": "python",
   "name": "python2"
  },
  "language_info": {
   "codemirror_mode": {
    "name": "ipython",
    "version": 2
   },
   "file_extension": ".py",
   "mimetype": "text/x-python",
   "name": "python",
   "nbconvert_exporter": "python",
   "pygments_lexer": "ipython2",
   "version": "2.7.12"
  }
 },
 "nbformat": 4,
 "nbformat_minor": 1
}
