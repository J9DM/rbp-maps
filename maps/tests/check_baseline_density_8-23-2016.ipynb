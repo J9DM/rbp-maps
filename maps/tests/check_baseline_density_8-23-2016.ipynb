{
 "cells": [
  {
   "cell_type": "code",
   "execution_count": 16,
   "metadata": {
    "collapsed": true
   },
   "outputs": [],
   "source": [
    "%matplotlib inline\n",
    "import matplotlib.pyplot as plt\n",
    "import pandas as pd\n",
    "import numpy as np\n",
    "import os\n",
    "import seaborn as sns\n",
    "from gscripts.general import dataviz"
   ]
  },
  {
   "cell_type": "code",
   "execution_count": 17,
   "metadata": {
    "collapsed": true
   },
   "outputs": [],
   "source": [
    "wd = '/home/bay001/projects/maps_20160420/analysis/tests-8-23-2016'\n",
    "allevents_raw = '204_01_RBFOX2.ip.all.feature.se.raw_density_matrix.csv'\n",
    "# included_raw = '204_01_RBFOX2.ip.included.feature.se.raw_density_matrix.csv'\n",
    "# excluded_raw = '204_01_RBFOX2.ip.excluded.feature.se.raw_density_matrix.csv'"
   ]
  },
  {
   "cell_type": "code",
   "execution_count": 18,
   "metadata": {
    "collapsed": false
   },
   "outputs": [
    {
     "data": {
      "text/html": [
       "<div>\n",
       "<table border=\"1\" class=\"dataframe\">\n",
       "  <thead>\n",
       "    <tr style=\"text-align: right;\">\n",
       "      <th></th>\n",
       "      <th>0</th>\n",
       "      <th>1</th>\n",
       "      <th>2</th>\n",
       "      <th>3</th>\n",
       "      <th>4</th>\n",
       "      <th>5</th>\n",
       "      <th>6</th>\n",
       "      <th>7</th>\n",
       "      <th>8</th>\n",
       "      <th>9</th>\n",
       "      <th>...</th>\n",
       "      <th>1390</th>\n",
       "      <th>1391</th>\n",
       "      <th>1392</th>\n",
       "      <th>1393</th>\n",
       "      <th>1394</th>\n",
       "      <th>1395</th>\n",
       "      <th>1396</th>\n",
       "      <th>1397</th>\n",
       "      <th>1398</th>\n",
       "      <th>1399</th>\n",
       "    </tr>\n",
       "  </thead>\n",
       "  <tbody>\n",
       "    <tr>\n",
       "      <th>chr10:104629562:104629602:+@chr10:104629841:104629968:+@chr10:104632205:104632355:+</th>\n",
       "      <td>-1.000000</td>\n",
       "      <td>-1.000000</td>\n",
       "      <td>-1.000000</td>\n",
       "      <td>-1.000000</td>\n",
       "      <td>-1.0</td>\n",
       "      <td>-1.000000</td>\n",
       "      <td>-1.000000</td>\n",
       "      <td>-1.000000</td>\n",
       "      <td>-1.000000</td>\n",
       "      <td>0.000000</td>\n",
       "      <td>...</td>\n",
       "      <td>NaN</td>\n",
       "      <td>NaN</td>\n",
       "      <td>NaN</td>\n",
       "      <td>NaN</td>\n",
       "      <td>NaN</td>\n",
       "      <td>NaN</td>\n",
       "      <td>NaN</td>\n",
       "      <td>NaN</td>\n",
       "      <td>NaN</td>\n",
       "      <td>NaN</td>\n",
       "    </tr>\n",
       "    <tr>\n",
       "      <th>chr10:21971154:21971186:+@chr10:21977420:21977467:+@chr10:22002701:22002879:+</th>\n",
       "      <td>-1.000000</td>\n",
       "      <td>-1.000000</td>\n",
       "      <td>-1.000000</td>\n",
       "      <td>-1.000000</td>\n",
       "      <td>-1.0</td>\n",
       "      <td>-1.000000</td>\n",
       "      <td>-1.000000</td>\n",
       "      <td>-1.000000</td>\n",
       "      <td>-1.000000</td>\n",
       "      <td>-1.000000</td>\n",
       "      <td>...</td>\n",
       "      <td>NaN</td>\n",
       "      <td>NaN</td>\n",
       "      <td>NaN</td>\n",
       "      <td>NaN</td>\n",
       "      <td>NaN</td>\n",
       "      <td>NaN</td>\n",
       "      <td>NaN</td>\n",
       "      <td>NaN</td>\n",
       "      <td>NaN</td>\n",
       "      <td>NaN</td>\n",
       "    </tr>\n",
       "    <tr>\n",
       "      <th>chr11:111625223:111625293:-@chr11:111624167:111624301:-@chr11:111622883:111623056:-</th>\n",
       "      <td>NaN</td>\n",
       "      <td>NaN</td>\n",
       "      <td>NaN</td>\n",
       "      <td>NaN</td>\n",
       "      <td>NaN</td>\n",
       "      <td>NaN</td>\n",
       "      <td>NaN</td>\n",
       "      <td>NaN</td>\n",
       "      <td>NaN</td>\n",
       "      <td>NaN</td>\n",
       "      <td>...</td>\n",
       "      <td>NaN</td>\n",
       "      <td>NaN</td>\n",
       "      <td>NaN</td>\n",
       "      <td>NaN</td>\n",
       "      <td>NaN</td>\n",
       "      <td>NaN</td>\n",
       "      <td>NaN</td>\n",
       "      <td>NaN</td>\n",
       "      <td>NaN</td>\n",
       "      <td>NaN</td>\n",
       "    </tr>\n",
       "    <tr>\n",
       "      <th>chr11:62529267:62529376:+@chr11:62530014:62530214:+@chr11:62530339:62530498:+</th>\n",
       "      <td>0.000000</td>\n",
       "      <td>0.000000</td>\n",
       "      <td>0.000000</td>\n",
       "      <td>0.000000</td>\n",
       "      <td>0.0</td>\n",
       "      <td>0.233893</td>\n",
       "      <td>0.233893</td>\n",
       "      <td>0.233893</td>\n",
       "      <td>0.233893</td>\n",
       "      <td>0.233893</td>\n",
       "      <td>...</td>\n",
       "      <td>NaN</td>\n",
       "      <td>NaN</td>\n",
       "      <td>NaN</td>\n",
       "      <td>NaN</td>\n",
       "      <td>NaN</td>\n",
       "      <td>NaN</td>\n",
       "      <td>NaN</td>\n",
       "      <td>NaN</td>\n",
       "      <td>NaN</td>\n",
       "      <td>NaN</td>\n",
       "    </tr>\n",
       "    <tr>\n",
       "      <th>chr12:51450133:51450285:+@chr12:51451789:51451911:+@chr12:51453144:51454207:+</th>\n",
       "      <td>0.233893</td>\n",
       "      <td>0.233893</td>\n",
       "      <td>0.233893</td>\n",
       "      <td>0.233893</td>\n",
       "      <td>0.0</td>\n",
       "      <td>0.000000</td>\n",
       "      <td>0.000000</td>\n",
       "      <td>0.000000</td>\n",
       "      <td>0.000000</td>\n",
       "      <td>0.000000</td>\n",
       "      <td>...</td>\n",
       "      <td>0.233893</td>\n",
       "      <td>0.233893</td>\n",
       "      <td>0.233893</td>\n",
       "      <td>0.233893</td>\n",
       "      <td>0.233893</td>\n",
       "      <td>0.233893</td>\n",
       "      <td>0.233893</td>\n",
       "      <td>0.233893</td>\n",
       "      <td>0.233893</td>\n",
       "      <td>0.233893</td>\n",
       "    </tr>\n",
       "  </tbody>\n",
       "</table>\n",
       "<p>5 rows × 1400 columns</p>\n",
       "</div>"
      ],
      "text/plain": [
       "                                                           0         1  \\\n",
       "chr10:104629562:104629602:+@chr10:104629841:104... -1.000000 -1.000000   \n",
       "chr10:21971154:21971186:+@chr10:21977420:219774... -1.000000 -1.000000   \n",
       "chr11:111625223:111625293:-@chr11:111624167:111...       NaN       NaN   \n",
       "chr11:62529267:62529376:+@chr11:62530014:625302...  0.000000  0.000000   \n",
       "chr12:51450133:51450285:+@chr12:51451789:514519...  0.233893  0.233893   \n",
       "\n",
       "                                                           2         3    4  \\\n",
       "chr10:104629562:104629602:+@chr10:104629841:104... -1.000000 -1.000000 -1.0   \n",
       "chr10:21971154:21971186:+@chr10:21977420:219774... -1.000000 -1.000000 -1.0   \n",
       "chr11:111625223:111625293:-@chr11:111624167:111...       NaN       NaN  NaN   \n",
       "chr11:62529267:62529376:+@chr11:62530014:625302...  0.000000  0.000000  0.0   \n",
       "chr12:51450133:51450285:+@chr12:51451789:514519...  0.233893  0.233893  0.0   \n",
       "\n",
       "                                                           5         6  \\\n",
       "chr10:104629562:104629602:+@chr10:104629841:104... -1.000000 -1.000000   \n",
       "chr10:21971154:21971186:+@chr10:21977420:219774... -1.000000 -1.000000   \n",
       "chr11:111625223:111625293:-@chr11:111624167:111...       NaN       NaN   \n",
       "chr11:62529267:62529376:+@chr11:62530014:625302...  0.233893  0.233893   \n",
       "chr12:51450133:51450285:+@chr12:51451789:514519...  0.000000  0.000000   \n",
       "\n",
       "                                                           7         8  \\\n",
       "chr10:104629562:104629602:+@chr10:104629841:104... -1.000000 -1.000000   \n",
       "chr10:21971154:21971186:+@chr10:21977420:219774... -1.000000 -1.000000   \n",
       "chr11:111625223:111625293:-@chr11:111624167:111...       NaN       NaN   \n",
       "chr11:62529267:62529376:+@chr11:62530014:625302...  0.233893  0.233893   \n",
       "chr12:51450133:51450285:+@chr12:51451789:514519...  0.000000  0.000000   \n",
       "\n",
       "                                                           9    ...     \\\n",
       "chr10:104629562:104629602:+@chr10:104629841:104...  0.000000    ...      \n",
       "chr10:21971154:21971186:+@chr10:21977420:219774... -1.000000    ...      \n",
       "chr11:111625223:111625293:-@chr11:111624167:111...       NaN    ...      \n",
       "chr11:62529267:62529376:+@chr11:62530014:625302...  0.233893    ...      \n",
       "chr12:51450133:51450285:+@chr12:51451789:514519...  0.000000    ...      \n",
       "\n",
       "                                                        1390      1391  \\\n",
       "chr10:104629562:104629602:+@chr10:104629841:104...       NaN       NaN   \n",
       "chr10:21971154:21971186:+@chr10:21977420:219774...       NaN       NaN   \n",
       "chr11:111625223:111625293:-@chr11:111624167:111...       NaN       NaN   \n",
       "chr11:62529267:62529376:+@chr11:62530014:625302...       NaN       NaN   \n",
       "chr12:51450133:51450285:+@chr12:51451789:514519...  0.233893  0.233893   \n",
       "\n",
       "                                                        1392      1393  \\\n",
       "chr10:104629562:104629602:+@chr10:104629841:104...       NaN       NaN   \n",
       "chr10:21971154:21971186:+@chr10:21977420:219774...       NaN       NaN   \n",
       "chr11:111625223:111625293:-@chr11:111624167:111...       NaN       NaN   \n",
       "chr11:62529267:62529376:+@chr11:62530014:625302...       NaN       NaN   \n",
       "chr12:51450133:51450285:+@chr12:51451789:514519...  0.233893  0.233893   \n",
       "\n",
       "                                                        1394      1395  \\\n",
       "chr10:104629562:104629602:+@chr10:104629841:104...       NaN       NaN   \n",
       "chr10:21971154:21971186:+@chr10:21977420:219774...       NaN       NaN   \n",
       "chr11:111625223:111625293:-@chr11:111624167:111...       NaN       NaN   \n",
       "chr11:62529267:62529376:+@chr11:62530014:625302...       NaN       NaN   \n",
       "chr12:51450133:51450285:+@chr12:51451789:514519...  0.233893  0.233893   \n",
       "\n",
       "                                                        1396      1397  \\\n",
       "chr10:104629562:104629602:+@chr10:104629841:104...       NaN       NaN   \n",
       "chr10:21971154:21971186:+@chr10:21977420:219774...       NaN       NaN   \n",
       "chr11:111625223:111625293:-@chr11:111624167:111...       NaN       NaN   \n",
       "chr11:62529267:62529376:+@chr11:62530014:625302...       NaN       NaN   \n",
       "chr12:51450133:51450285:+@chr12:51451789:514519...  0.233893  0.233893   \n",
       "\n",
       "                                                        1398      1399  \n",
       "chr10:104629562:104629602:+@chr10:104629841:104...       NaN       NaN  \n",
       "chr10:21971154:21971186:+@chr10:21977420:219774...       NaN       NaN  \n",
       "chr11:111625223:111625293:-@chr11:111624167:111...       NaN       NaN  \n",
       "chr11:62529267:62529376:+@chr11:62530014:625302...       NaN       NaN  \n",
       "chr12:51450133:51450285:+@chr12:51451789:514519...  0.233893  0.233893  \n",
       "\n",
       "[5 rows x 1400 columns]"
      ]
     },
     "execution_count": 18,
     "metadata": {},
     "output_type": "execute_result"
    }
   ],
   "source": [
    "alldf = pd.read_table(os.path.join(wd,allevents_raw),sep=',',index_col=0)\n",
    "alldf.head()"
   ]
  },
  {
   "cell_type": "code",
   "execution_count": 7,
   "metadata": {
    "collapsed": false
   },
   "outputs": [
    {
     "data": {
      "image/png": "[encoded data removed]",
      "text/plain": [
       "<matplotlib.figure.Figure at 0x2b0008eb5890>"
      ]
     },
     "metadata": {},
     "output_type": "display_data"
    }
   ],
   "source": [
    "# should correspond to the area: 104629552-104632205: Shit it doesn't!!!\n",
    "ax = plt.plot()#.replace(-1,np.nan))"
   ]
  },
  {
   "cell_type": "code",
   "execution_count": 19,
   "metadata": {
    "collapsed": false
   },
   "outputs": [],
   "source": [
    "b = {}\n",
    "b['region1'], b['region2'], b['region3'], b['region4'] = np.array_split(alldf.ix['chr10:104629562:104629602:+@chr10:104629841:104629968:+@chr10:104632205:104632355:+'],4)"
   ]
  },
  {
   "cell_type": "code",
   "execution_count": 20,
   "metadata": {
    "collapsed": false
   },
   "outputs": [],
   "source": [
    "def four_frame(region1, region2, region3, region4, \n",
    "               title, output_file, color='red'):\n",
    "    num_rows = 1\n",
    "    num_cols = 4\n",
    "    \n",
    "        \n",
    "    with dataviz.Figure(output_file, figsize=(num_cols * 2.5,num_rows * 2.5)) as fig:\n",
    "            \n",
    "        min_height = min(min(region1),min(region2),min(region3),min(region4))\n",
    "        max_height = max(max(region1),max(region2),max(region3),max(region4))\n",
    "            \n",
    "        linewidth = 2.5\n",
    "        ax = fig.add_subplot(1,4,1)\n",
    "        ax.plot(region1, linewidth=linewidth, alpha=.7, color = color)\n",
    "        # ax.plot(three_upstream_normed_nt, linewidth=linewidth, alpha=.7, color = 'blue')\n",
    "        sns.despine(ax=ax)\n",
    "        ax.set_ylim(min_height, max_height)\n",
    "        # ax.set_xticklabels(np.arange(-exon_offset, intron_offset+1, 50))\n",
    "        ax.set_ylabel(\"Mean Read Density\")\n",
    "            \n",
    "        ax = fig.add_subplot(1,4,2)\n",
    "        ax.plot(region2, linewidth=linewidth, alpha=.7, color = color)\n",
    "        # ax.plot(five_skipped_normed_nt, linewidth=linewidth, alpha=.7, color = 'blue')\n",
    "            \n",
    "        sns.despine(ax=ax, left=True)\n",
    "        ax.set_ylim(min_height, max_height)\n",
    "        # ax.set_xticklabels(np.arange(-intron_offset, exon_offset+1, 50))\n",
    "        ax.set_yticklabels([])\n",
    "            \n",
    "        ax = fig.add_subplot(1,4,3)\n",
    "        ax.plot(region3, linewidth=linewidth, alpha=.7, color = color)\n",
    "        # ax.plot(three_skipped_normed_nt, linewidth=linewidth, alpha=.7, color = 'blue')\n",
    "            \n",
    "        sns.despine(ax=ax, left=True)\n",
    "        ax.set_ylim(min_height, max_height)\n",
    "        # ax.set_xticklabels(np.arange(-exon_offset, intron_offset+1, 50))\n",
    "        ax.set_yticklabels([])\n",
    "            \n",
    "        ax = fig.add_subplot(1,4,4)\n",
    "        ax.plot(region4, linewidth=linewidth, alpha=.7, color = color)\n",
    "        # ax.plot(five_downstream_normed_nt, linewidth=linewidth, alpha=.7, color = 'blue')\n",
    "            \n",
    "        sns.despine(ax=ax, left=True)\n",
    "        ax.set_ylim(min_height, max_height)\n",
    "        # ax.set_xticklabels(np.arange(-intron_offset, exon_offset+1, 50))\n",
    "        ax.set_yticklabels([])\n",
    "        plt.suptitle(title,y=1.03)\n"
   ]
  },
  {
   "cell_type": "code",
   "execution_count": 15,
   "metadata": {
    "collapsed": false
   },
   "outputs": [
    {
     "data": {
      "image/png": "[encoded data removed]",
      "text/plain": [
       "<matplotlib.figure.Figure at 0x2b003908f110>"
      ]
     },
     "metadata": {},
     "output_type": "display_data"
    }
   ],
   "source": [
    "output = '/home/bay001/projects/maps_20160420/analysis/tests-8-23-2016/rbfox2.svg'\n",
    "four_frame(b['region1'], b['region2'], b['region3'], b['region4'], \n",
    "               title='sometitle', output_file=output, color='red')"
   ]
  },
  {
   "cell_type": "code",
   "execution_count": 21,
   "metadata": {
    "collapsed": false
   },
   "outputs": [
    {
     "data": {
      "image/png": "[encoded data removed]",
      "text/plain": [
       "<matplotlib.figure.Figure at 0x2b003966f450>"
      ]
     },
     "metadata": {},
     "output_type": "display_data"
    }
   ],
   "source": [
    "output = '/home/bay001/projects/maps_20160420/analysis/tests-8-23-2016/rbfox2.svg'\n",
    "four_frame(b['region1'], b['region2'], b['region3'], b['region4'], \n",
    "               title='sometitle', output_file=output, color='red')"
   ]
  },
  {
   "cell_type": "code",
   "execution_count": 26,
   "metadata": {
    "collapsed": false
   },
   "outputs": [
    {
     "data": {
      "text/plain": [
       "0   -1\n",
       "1   -1\n",
       "2   -1\n",
       "3   -1\n",
       "4   -1\n",
       "5   -1\n",
       "6   -1\n",
       "7   -1\n",
       "8   -1\n",
       "9   -1\n",
       "dtype: int64"
      ]
     },
     "execution_count": 26,
     "metadata": {},
     "output_type": "execute_result"
    }
   ],
   "source": [
    "pd.Series([-1]*10)"
   ]
  },
  {
   "cell_type": "code",
   "execution_count": null,
   "metadata": {
    "collapsed": true
   },
   "outputs": [],
   "source": []
  }
 ],
 "metadata": {
  "kernelspec": {
   "display_name": "Python 2",
   "language": "python",
   "name": "python2"
  },
  "language_info": {
   "codemirror_mode": {
    "name": "ipython",
    "version": 2
   },
   "file_extension": ".py",
   "mimetype": "text/x-python",
   "name": "python",
   "nbconvert_exporter": "python",
   "pygments_lexer": "ipython2",
   "version": "2.7.12"
  }
 },
 "nbformat": 4,
 "nbformat_minor": 0
}
