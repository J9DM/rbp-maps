{
 "cells": [
  {
   "cell_type": "code",
   "execution_count": 82,
   "metadata": {
    "collapsed": true
   },
   "outputs": [],
   "source": [
    "%matplotlib inline\n",
    "import matplotlib.pyplot as plt\n",
    "import pandas as pd\n",
    "import numpy as np"
   ]
  },
  {
   "cell_type": "code",
   "execution_count": 83,
   "metadata": {
    "collapsed": false
   },
   "outputs": [],
   "source": [
    "ip1 = pd.read_table('/home/bay001/projects/maps_20160420/data/204_01_RBFOX2.merged.r2.norm.neg.bw.both_region1_raw_density_matrix.csv',\n",
    "                  sep=',',index_col=0)\n",
    "ip2 = pd.read_table('/home/bay001/projects/maps_20160420/data/204_01_RBFOX2.merged.r2.norm.neg.bw.both_region2_raw_density_matrix.csv',\n",
    "                  sep=',',index_col=0)\n",
    "ip3 = pd.read_table('/home/bay001/projects/maps_20160420/data/204_01_RBFOX2.merged.r2.norm.neg.bw.both_region3_raw_density_matrix.csv',\n",
    "                  sep=',',index_col=0)\n",
    "ip4 = pd.read_table('/home/bay001/projects/maps_20160420/data/204_01_RBFOX2.merged.r2.norm.neg.bw.both_region4_raw_density_matrix.csv',\n",
    "                  sep=',',index_col=0)\n",
    "inp1 = pd.read_table('/home/bay001/projects/maps_20160420/data/RBFOX2-204-INPUT_S2_R1.unassigned.adapterTrim.round2.rmRep.rmDup.sorted.r2.norm.neg.bw.both_region1_raw_density_matrix.csv',\n",
    "                  sep=',',index_col=0)\n",
    "inp2 = pd.read_table('/home/bay001/projects/maps_20160420/data/RBFOX2-204-INPUT_S2_R1.unassigned.adapterTrim.round2.rmRep.rmDup.sorted.r2.norm.neg.bw.both_region2_raw_density_matrix.csv',\n",
    "                  sep=',',index_col=0)\n",
    "inp3 = pd.read_table('/home/bay001/projects/maps_20160420/data/RBFOX2-204-INPUT_S2_R1.unassigned.adapterTrim.round2.rmRep.rmDup.sorted.r2.norm.neg.bw.both_region3_raw_density_matrix.csv',\n",
    "                  sep=',',index_col=0)\n",
    "inp4 = pd.read_table('/home/bay001/projects/maps_20160420/data/RBFOX2-204-INPUT_S2_R1.unassigned.adapterTrim.round2.rmRep.rmDup.sorted.r2.norm.neg.bw.both_region4_raw_density_matrix.csv',\n",
    "                  sep=',',index_col=0)"
   ]
  },
  {
   "cell_type": "code",
   "execution_count": 13,
   "metadata": {
    "collapsed": false
   },
   "outputs": [
    {
     "data": {
      "text/html": [
       "<div>\n",
       "<table border=\"1\" class=\"dataframe\">\n",
       "  <thead>\n",
       "    <tr style=\"text-align: right;\">\n",
       "      <th></th>\n",
       "      <th>0</th>\n",
       "      <th>1</th>\n",
       "      <th>2</th>\n",
       "      <th>3</th>\n",
       "      <th>4</th>\n",
       "      <th>5</th>\n",
       "      <th>6</th>\n",
       "      <th>7</th>\n",
       "      <th>8</th>\n",
       "      <th>9</th>\n",
       "      <th>...</th>\n",
       "      <th>340</th>\n",
       "      <th>341</th>\n",
       "      <th>342</th>\n",
       "      <th>343</th>\n",
       "      <th>344</th>\n",
       "      <th>345</th>\n",
       "      <th>346</th>\n",
       "      <th>347</th>\n",
       "      <th>348</th>\n",
       "      <th>349</th>\n",
       "    </tr>\n",
       "  </thead>\n",
       "  <tbody>\n",
       "    <tr>\n",
       "      <th>chr10:100148111:100148265:-@chr10:100147622:100147841:-@chr10:100146958:100147064:-</th>\n",
       "      <td>1.000000</td>\n",
       "      <td>1.000000</td>\n",
       "      <td>1.000000</td>\n",
       "      <td>1.000000</td>\n",
       "      <td>1.000000</td>\n",
       "      <td>1.000000</td>\n",
       "      <td>1.000000</td>\n",
       "      <td>1.000000</td>\n",
       "      <td>1.000000</td>\n",
       "      <td>1.000000</td>\n",
       "      <td>...</td>\n",
       "      <td>NaN</td>\n",
       "      <td>NaN</td>\n",
       "      <td>NaN</td>\n",
       "      <td>NaN</td>\n",
       "      <td>NaN</td>\n",
       "      <td>NaN</td>\n",
       "      <td>NaN</td>\n",
       "      <td>NaN</td>\n",
       "      <td>NaN</td>\n",
       "      <td>NaN</td>\n",
       "    </tr>\n",
       "    <tr>\n",
       "      <th>chr10:100150355:100150511:-@chr10:100148111:100148265:-@chr10:100146958:100147064:-</th>\n",
       "      <td>NaN</td>\n",
       "      <td>NaN</td>\n",
       "      <td>NaN</td>\n",
       "      <td>NaN</td>\n",
       "      <td>NaN</td>\n",
       "      <td>NaN</td>\n",
       "      <td>NaN</td>\n",
       "      <td>NaN</td>\n",
       "      <td>NaN</td>\n",
       "      <td>NaN</td>\n",
       "      <td>...</td>\n",
       "      <td>NaN</td>\n",
       "      <td>NaN</td>\n",
       "      <td>NaN</td>\n",
       "      <td>inf</td>\n",
       "      <td>inf</td>\n",
       "      <td>inf</td>\n",
       "      <td>inf</td>\n",
       "      <td>inf</td>\n",
       "      <td>inf</td>\n",
       "      <td>inf</td>\n",
       "    </tr>\n",
       "    <tr>\n",
       "      <th>chr10:100174766:100174978:-@chr10:100174489:100174591:-@chr10:100173705:100174052:-</th>\n",
       "      <td>NaN</td>\n",
       "      <td>NaN</td>\n",
       "      <td>NaN</td>\n",
       "      <td>NaN</td>\n",
       "      <td>NaN</td>\n",
       "      <td>NaN</td>\n",
       "      <td>NaN</td>\n",
       "      <td>NaN</td>\n",
       "      <td>NaN</td>\n",
       "      <td>NaN</td>\n",
       "      <td>...</td>\n",
       "      <td>NaN</td>\n",
       "      <td>NaN</td>\n",
       "      <td>NaN</td>\n",
       "      <td>NaN</td>\n",
       "      <td>NaN</td>\n",
       "      <td>NaN</td>\n",
       "      <td>NaN</td>\n",
       "      <td>NaN</td>\n",
       "      <td>NaN</td>\n",
       "      <td>NaN</td>\n",
       "    </tr>\n",
       "    <tr>\n",
       "      <th>chr10:100186972:100187021:-@chr10:100185575:100185742:-@chr10:100185298:100185477:-</th>\n",
       "      <td>0.000000</td>\n",
       "      <td>0.000000</td>\n",
       "      <td>0.000000</td>\n",
       "      <td>0.000000</td>\n",
       "      <td>0.000000</td>\n",
       "      <td>0.293596</td>\n",
       "      <td>0.293596</td>\n",
       "      <td>0.293596</td>\n",
       "      <td>0.293596</td>\n",
       "      <td>0.293596</td>\n",
       "      <td>...</td>\n",
       "      <td>NaN</td>\n",
       "      <td>0.000000</td>\n",
       "      <td>0.000000</td>\n",
       "      <td>0.000000</td>\n",
       "      <td>0.000000</td>\n",
       "      <td>0.000000</td>\n",
       "      <td>0.000000</td>\n",
       "      <td>0.000000</td>\n",
       "      <td>0.000000</td>\n",
       "      <td>1.000000</td>\n",
       "    </tr>\n",
       "    <tr>\n",
       "      <th>chr10:100190328:100190427:-@chr10:100189548:100189646:-@chr10:100189330:100189399:-</th>\n",
       "      <td>inf</td>\n",
       "      <td>inf</td>\n",
       "      <td>inf</td>\n",
       "      <td>inf</td>\n",
       "      <td>inf</td>\n",
       "      <td>NaN</td>\n",
       "      <td>NaN</td>\n",
       "      <td>NaN</td>\n",
       "      <td>NaN</td>\n",
       "      <td>NaN</td>\n",
       "      <td>...</td>\n",
       "      <td>inf</td>\n",
       "      <td>inf</td>\n",
       "      <td>inf</td>\n",
       "      <td>inf</td>\n",
       "      <td>inf</td>\n",
       "      <td>inf</td>\n",
       "      <td>inf</td>\n",
       "      <td>inf</td>\n",
       "      <td>inf</td>\n",
       "      <td>inf</td>\n",
       "    </tr>\n",
       "  </tbody>\n",
       "</table>\n",
       "<p>5 rows × 350 columns</p>\n",
       "</div>"
      ],
      "text/plain": [
       "                                                           0         1  \\\n",
       "chr10:100148111:100148265:-@chr10:100147622:100...  1.000000  1.000000   \n",
       "chr10:100150355:100150511:-@chr10:100148111:100...       NaN       NaN   \n",
       "chr10:100174766:100174978:-@chr10:100174489:100...       NaN       NaN   \n",
       "chr10:100186972:100187021:-@chr10:100185575:100...  0.000000  0.000000   \n",
       "chr10:100190328:100190427:-@chr10:100189548:100...       inf       inf   \n",
       "\n",
       "                                                           2         3  \\\n",
       "chr10:100148111:100148265:-@chr10:100147622:100...  1.000000  1.000000   \n",
       "chr10:100150355:100150511:-@chr10:100148111:100...       NaN       NaN   \n",
       "chr10:100174766:100174978:-@chr10:100174489:100...       NaN       NaN   \n",
       "chr10:100186972:100187021:-@chr10:100185575:100...  0.000000  0.000000   \n",
       "chr10:100190328:100190427:-@chr10:100189548:100...       inf       inf   \n",
       "\n",
       "                                                           4         5  \\\n",
       "chr10:100148111:100148265:-@chr10:100147622:100...  1.000000  1.000000   \n",
       "chr10:100150355:100150511:-@chr10:100148111:100...       NaN       NaN   \n",
       "chr10:100174766:100174978:-@chr10:100174489:100...       NaN       NaN   \n",
       "chr10:100186972:100187021:-@chr10:100185575:100...  0.000000  0.293596   \n",
       "chr10:100190328:100190427:-@chr10:100189548:100...       inf       NaN   \n",
       "\n",
       "                                                           6         7  \\\n",
       "chr10:100148111:100148265:-@chr10:100147622:100...  1.000000  1.000000   \n",
       "chr10:100150355:100150511:-@chr10:100148111:100...       NaN       NaN   \n",
       "chr10:100174766:100174978:-@chr10:100174489:100...       NaN       NaN   \n",
       "chr10:100186972:100187021:-@chr10:100185575:100...  0.293596  0.293596   \n",
       "chr10:100190328:100190427:-@chr10:100189548:100...       NaN       NaN   \n",
       "\n",
       "                                                           8         9  \\\n",
       "chr10:100148111:100148265:-@chr10:100147622:100...  1.000000  1.000000   \n",
       "chr10:100150355:100150511:-@chr10:100148111:100...       NaN       NaN   \n",
       "chr10:100174766:100174978:-@chr10:100174489:100...       NaN       NaN   \n",
       "chr10:100186972:100187021:-@chr10:100185575:100...  0.293596  0.293596   \n",
       "chr10:100190328:100190427:-@chr10:100189548:100...       NaN       NaN   \n",
       "\n",
       "                                                      ...     340       341  \\\n",
       "chr10:100148111:100148265:-@chr10:100147622:100...    ...     NaN       NaN   \n",
       "chr10:100150355:100150511:-@chr10:100148111:100...    ...     NaN       NaN   \n",
       "chr10:100174766:100174978:-@chr10:100174489:100...    ...     NaN       NaN   \n",
       "chr10:100186972:100187021:-@chr10:100185575:100...    ...     NaN  0.000000   \n",
       "chr10:100190328:100190427:-@chr10:100189548:100...    ...     inf       inf   \n",
       "\n",
       "                                                         342       343  \\\n",
       "chr10:100148111:100148265:-@chr10:100147622:100...       NaN       NaN   \n",
       "chr10:100150355:100150511:-@chr10:100148111:100...       NaN       inf   \n",
       "chr10:100174766:100174978:-@chr10:100174489:100...       NaN       NaN   \n",
       "chr10:100186972:100187021:-@chr10:100185575:100...  0.000000  0.000000   \n",
       "chr10:100190328:100190427:-@chr10:100189548:100...       inf       inf   \n",
       "\n",
       "                                                         344       345  \\\n",
       "chr10:100148111:100148265:-@chr10:100147622:100...       NaN       NaN   \n",
       "chr10:100150355:100150511:-@chr10:100148111:100...       inf       inf   \n",
       "chr10:100174766:100174978:-@chr10:100174489:100...       NaN       NaN   \n",
       "chr10:100186972:100187021:-@chr10:100185575:100...  0.000000  0.000000   \n",
       "chr10:100190328:100190427:-@chr10:100189548:100...       inf       inf   \n",
       "\n",
       "                                                         346       347  \\\n",
       "chr10:100148111:100148265:-@chr10:100147622:100...       NaN       NaN   \n",
       "chr10:100150355:100150511:-@chr10:100148111:100...       inf       inf   \n",
       "chr10:100174766:100174978:-@chr10:100174489:100...       NaN       NaN   \n",
       "chr10:100186972:100187021:-@chr10:100185575:100...  0.000000  0.000000   \n",
       "chr10:100190328:100190427:-@chr10:100189548:100...       inf       inf   \n",
       "\n",
       "                                                         348       349  \n",
       "chr10:100148111:100148265:-@chr10:100147622:100...       NaN       NaN  \n",
       "chr10:100150355:100150511:-@chr10:100148111:100...       inf       inf  \n",
       "chr10:100174766:100174978:-@chr10:100174489:100...       NaN       NaN  \n",
       "chr10:100186972:100187021:-@chr10:100185575:100...  0.000000  1.000000  \n",
       "chr10:100190328:100190427:-@chr10:100189548:100...       inf       inf  \n",
       "\n",
       "[5 rows x 350 columns]"
      ]
     },
     "execution_count": 13,
     "metadata": {},
     "output_type": "execute_result"
    }
   ],
   "source": [
    "ip1.div(inp1).head()"
   ]
  },
  {
   "cell_type": "code",
   "execution_count": 15,
   "metadata": {
    "collapsed": false
   },
   "outputs": [
    {
     "data": {
      "text/plain": [
       "0      0.002857\n",
       "1      0.002857\n",
       "2      0.002857\n",
       "3      0.002857\n",
       "4      0.002857\n",
       "5      0.002857\n",
       "6      0.002857\n",
       "7      0.002857\n",
       "8      0.002857\n",
       "9      0.002857\n",
       "10     0.002857\n",
       "11     0.002857\n",
       "12     0.002857\n",
       "13     0.002857\n",
       "14     0.002857\n",
       "15     0.002857\n",
       "16     0.002857\n",
       "17     0.002857\n",
       "18     0.002857\n",
       "19     0.002857\n",
       "20     0.002857\n",
       "21     0.002857\n",
       "22     0.002857\n",
       "23     0.002857\n",
       "24     0.002857\n",
       "25     0.002857\n",
       "26     0.002857\n",
       "27     0.002857\n",
       "28     0.002857\n",
       "29     0.002857\n",
       "         ...   \n",
       "320    0.002857\n",
       "321    0.002857\n",
       "322    0.002857\n",
       "323    0.002857\n",
       "324    0.002857\n",
       "325    0.002857\n",
       "326    0.002857\n",
       "327    0.002857\n",
       "328    0.002857\n",
       "329    0.002857\n",
       "330    0.002857\n",
       "331    0.002857\n",
       "332    0.002857\n",
       "333    0.002857\n",
       "334    0.002857\n",
       "335    0.002857\n",
       "336    0.002857\n",
       "337    0.002857\n",
       "338    0.002857\n",
       "339    0.002857\n",
       "340    0.002857\n",
       "341    0.002857\n",
       "342    0.002857\n",
       "343    0.002857\n",
       "344    0.002857\n",
       "345    0.002857\n",
       "346    0.002857\n",
       "347    0.002857\n",
       "348    0.002857\n",
       "349    0.002857\n",
       "Name: chr10:100174766:100174978:-@chr10:100174489:100174591:-@chr10:100173705:100174052:-, dtype: float64"
      ]
     },
     "execution_count": 15,
     "metadata": {},
     "output_type": "execute_result"
    }
   ],
   "source": [
    "# This is how we add a min pseudodensity (1/len of region) to an input region that didn't exist in the dataframe\n",
    "inp1.ix['chr10:100174766:100174978:-@chr10:100174489:100174591:-@chr10:100173705:100174052:-'] = np.nan\n",
    "inp1.ix['chr10:100174766:100174978:-@chr10:100174489:100174591:-@chr10:100173705:100174052:-'].fillna(1.0/350)"
   ]
  },
  {
   "cell_type": "code",
   "execution_count": 84,
   "metadata": {
    "collapsed": false
   },
   "outputs": [],
   "source": [
    "def normalize(densities, min_density_threshold):\n",
    "    \n",
    "        densities = densities.replace(-1, np.nan)   \n",
    "        df = densities[densities.sum(axis=1) > min_density_threshold]\n",
    "        min_normalized_read_number = min([item for item in df.unstack().values if item > 0])\n",
    "        df = df + min_normalized_read_number\n",
    "        pdf = df.div(df.sum(axis=1), axis=0)\n",
    "        sem = pdf.sem(axis=0)\n",
    "        # make a change to the dataframe\n",
    "        return pdf, pdf.mean(), sem"
   ]
  },
  {
   "cell_type": "code",
   "execution_count": 85,
   "metadata": {
    "collapsed": false
   },
   "outputs": [],
   "source": [
    "pdf1, mean1, sem1 = normalize(ip1,0)\n",
    "pdf2, mean2, sem2 = normalize(ip2,0)\n",
    "pdf3, mean3, sem3 = normalize(ip3,0)\n",
    "pdf4, mean4, sem4 = normalize(ip4,0)\n",
    "\n",
    "pdfi1, meani1, semi1 = normalize(inp1,0)\n",
    "pdfi2, meani2, semi2 = normalize(inp2,0)\n",
    "pdfi3, meani3, semi3 = normalize(inp3,0)\n",
    "pdfi4, meani4, semi4 = normalize(inp4,0)"
   ]
  },
  {
   "cell_type": "code",
   "execution_count": 91,
   "metadata": {
    "collapsed": false
   },
   "outputs": [
    {
     "data": {
      "text/plain": [
       "(0.0026, 0.004)"
      ]
     },
     "execution_count": 91,
     "metadata": {},
     "output_type": "execute_result"
    },
    {
     "data": {
      "image/png": "[encoded data removed]",
      "text/plain": [
       "<matplotlib.figure.Figure at 0x2ace316aa1d0>"
      ]
     },
     "metadata": {},
     "output_type": "display_data"
    }
   ],
   "source": [
    "f, (ax1, ax2, ax3, ax4) = plt.subplots(1, 4, sharey=True,figsize=(15,2.5))\n",
    "ax1.plot(mean1)\n",
    "ax2.plot(mean2)\n",
    "ax3.plot(mean3)\n",
    "ax4.plot(mean4)\n",
    "plt.ylim(0.0026,0.004)"
   ]
  },
  {
   "cell_type": "code",
   "execution_count": 90,
   "metadata": {
    "collapsed": false
   },
   "outputs": [
    {
     "data": {
      "text/plain": [
       "(0.0026, 0.004)"
      ]
     },
     "execution_count": 90,
     "metadata": {},
     "output_type": "execute_result"
    },
    {
     "data": {
      "image/png": "[encoded data removed]",
      "text/plain": [
       "<matplotlib.figure.Figure at 0x2ace314dcc50>"
      ]
     },
     "metadata": {},
     "output_type": "display_data"
    }
   ],
   "source": [
    "f, (ax1, ax2, ax3, ax4) = plt.subplots(1, 4, sharey=True,figsize=(15,2.5))\n",
    "ax1.plot(meani1)\n",
    "ax2.plot(meani2)\n",
    "ax3.plot(meani3)\n",
    "ax4.plot(meani4)\n",
    "plt.ylim(0.0026,0.004)"
   ]
  },
  {
   "cell_type": "code",
   "execution_count": 92,
   "metadata": {
    "collapsed": false
   },
   "outputs": [
    {
     "data": {
      "text/plain": [
       "[<matplotlib.lines.Line2D at 0x2ace31c96290>]"
      ]
     },
     "execution_count": 92,
     "metadata": {},
     "output_type": "execute_result"
    },
    {
     "data": {
      "image/png": "[encoded data removed]",
      "text/plain": [
       "<matplotlib.figure.Figure at 0x2ace31a2b810>"
      ]
     },
     "metadata": {},
     "output_type": "display_data"
    }
   ],
   "source": [
    "f, (ax1, ax2, ax3, ax4) = plt.subplots(1, 4, sharey=True,figsize=(15,2.5))\n",
    "ax1.plot(mean1 - meani1)\n",
    "ax2.plot(mean2 - meani2)\n",
    "ax3.plot(mean3 - meani3)\n",
    "ax4.plot(mean4 - meani4)\n"
   ]
  },
  {
   "cell_type": "code",
   "execution_count": 16,
   "metadata": {
    "collapsed": false
   },
   "outputs": [],
   "source": [
    "ip1 = pd.read_table('/home/bay001/projects/maps_20160420/data/204_01_RBFOX2.merged.r2.norm.neg.bw.both_region1_raw_density_matrix.csv',\n",
    "                  sep=',',index_col=0)\n",
    "\n",
    "inp1 = pd.read_table('/home/bay001/projects/maps_20160420/data/RBFOX2-204-INPUT_S2_R1.unassigned.adapterTrim.round2.rmRep.rmDup.sorted.r2.norm.neg.bw.both_region1_raw_density_matrix.csv',\n",
    "                  sep=',',index_col=0)\n",
    "\n",
    "def entropy1(densities, input_densities, min_density_threshold):\n",
    "        densities = densities.replace(-1, np.nan)  \n",
    "        \n",
    "        df = densities[densities.sum(axis=1) > min_density_threshold]\n",
    "        min_normalized_read_number = min([item for item in df.unstack().values if item > 0])\n",
    "        df = df + min_normalized_read_number\n",
    "        pdf = df.div(df.sum(axis=1), axis=0)\n",
    "        \n",
    "        input_densities = input_densities.replace(-1, np.nan)  \n",
    "        dfi = input_densities[input_densities.sum(axis=1) > min_density_threshold]\n",
    "        min_normalized_read_number = min([item for item in dfi.unstack().values if item > 0])\n",
    "        dfi = dfi + min_normalized_read_number\n",
    "        pdfi = dfi.div(dfi.sum(axis=1), axis=0)\n",
    "        \n",
    "        for idx in pdf.index:\n",
    "            try: # for regions in the ip that have a corresponding input, divide to get pi/qi\n",
    "                pdf.ix[idx] = (pdf.ix[idx].div(pdfi.ix[idx])) \n",
    "            except KeyError as e: # except regions that don't have a corresponding input\n",
    "                pdfi.ix[idx] = np.nan # fill with NANs\n",
    "                pdfi.ix[idx].fillna(MIN_PDF) # fill the NANs with min pseudodensity\n",
    "                pdf.ix[idx] = (pdf.ix[idx].div(pdfi.ix[idx])) # then do division\n",
    "        en = df.div(df.sum(axis=1), axis=0).multiply(np.log2(pdf)) # then pi*log2(pi/qi)\n",
    "        \n",
    "        return pdf, pdfi, en, en.mean()     "
   ]
  },
  {
   "cell_type": "code",
   "execution_count": 21,
   "metadata": {
    "collapsed": false
   },
   "outputs": [
    {
     "ename": "KeyboardInterrupt",
     "evalue": "",
     "output_type": "error",
     "traceback": [
      "\u001b[1;31m---------------------------------------------------------------------------\u001b[0m",
      "\u001b[1;31mKeyboardInterrupt\u001b[0m                         Traceback (most recent call last)",
      "\u001b[1;32m<ipython-input-21-b4bb341f5457>\u001b[0m in \u001b[0;36m<module>\u001b[1;34m()\u001b[0m\n\u001b[1;32m----> 1\u001b[1;33m \u001b[0mget_ipython\u001b[0m\u001b[1;33m(\u001b[0m\u001b[1;33m)\u001b[0m\u001b[1;33m.\u001b[0m\u001b[0mrun_cell_magic\u001b[0m\u001b[1;33m(\u001b[0m\u001b[1;34mu'timeit'\u001b[0m\u001b[1;33m,\u001b[0m \u001b[1;34mu''\u001b[0m\u001b[1;33m,\u001b[0m \u001b[1;34mu'pdf1, pdf1i, en1, mean1 = entropy1(ip1, inp1, 0)'\u001b[0m\u001b[1;33m)\u001b[0m\u001b[1;33m\u001b[0m\u001b[0m\n\u001b[0m",
      "\u001b[1;32m/home/bay001/anaconda/lib/python2.7/site-packages/IPython/core/interactiveshell.pyc\u001b[0m in \u001b[0;36mrun_cell_magic\u001b[1;34m(self, magic_name, line, cell)\u001b[0m\n\u001b[0;32m   2291\u001b[0m             \u001b[0mmagic_arg_s\u001b[0m \u001b[1;33m=\u001b[0m \u001b[0mself\u001b[0m\u001b[1;33m.\u001b[0m\u001b[0mvar_expand\u001b[0m\u001b[1;33m(\u001b[0m\u001b[0mline\u001b[0m\u001b[1;33m,\u001b[0m \u001b[0mstack_depth\u001b[0m\u001b[1;33m)\u001b[0m\u001b[1;33m\u001b[0m\u001b[0m\n\u001b[0;32m   2292\u001b[0m             \u001b[1;32mwith\u001b[0m \u001b[0mself\u001b[0m\u001b[1;33m.\u001b[0m\u001b[0mbuiltin_trap\u001b[0m\u001b[1;33m:\u001b[0m\u001b[1;33m\u001b[0m\u001b[0m\n\u001b[1;32m-> 2293\u001b[1;33m                 \u001b[0mresult\u001b[0m \u001b[1;33m=\u001b[0m \u001b[0mfn\u001b[0m\u001b[1;33m(\u001b[0m\u001b[0mmagic_arg_s\u001b[0m\u001b[1;33m,\u001b[0m \u001b[0mcell\u001b[0m\u001b[1;33m)\u001b[0m\u001b[1;33m\u001b[0m\u001b[0m\n\u001b[0m\u001b[0;32m   2294\u001b[0m             \u001b[1;32mreturn\u001b[0m \u001b[0mresult\u001b[0m\u001b[1;33m\u001b[0m\u001b[0m\n\u001b[0;32m   2295\u001b[0m \u001b[1;33m\u001b[0m\u001b[0m\n",
      "\u001b[1;32m<decorator-gen-59>\u001b[0m in \u001b[0;36mtimeit\u001b[1;34m(self, line, cell)\u001b[0m\n",
      "\u001b[1;32m/home/bay001/anaconda/lib/python2.7/site-packages/IPython/core/magic.pyc\u001b[0m in \u001b[0;36m<lambda>\u001b[1;34m(f, *a, **k)\u001b[0m\n\u001b[0;32m    191\u001b[0m     \u001b[1;31m# but it's overkill for just that one bit of state.\u001b[0m\u001b[1;33m\u001b[0m\u001b[1;33m\u001b[0m\u001b[0m\n\u001b[0;32m    192\u001b[0m     \u001b[1;32mdef\u001b[0m \u001b[0mmagic_deco\u001b[0m\u001b[1;33m(\u001b[0m\u001b[0marg\u001b[0m\u001b[1;33m)\u001b[0m\u001b[1;33m:\u001b[0m\u001b[1;33m\u001b[0m\u001b[0m\n\u001b[1;32m--> 193\u001b[1;33m         \u001b[0mcall\u001b[0m \u001b[1;33m=\u001b[0m \u001b[1;32mlambda\u001b[0m \u001b[0mf\u001b[0m\u001b[1;33m,\u001b[0m \u001b[1;33m*\u001b[0m\u001b[0ma\u001b[0m\u001b[1;33m,\u001b[0m \u001b[1;33m**\u001b[0m\u001b[0mk\u001b[0m\u001b[1;33m:\u001b[0m \u001b[0mf\u001b[0m\u001b[1;33m(\u001b[0m\u001b[1;33m*\u001b[0m\u001b[0ma\u001b[0m\u001b[1;33m,\u001b[0m \u001b[1;33m**\u001b[0m\u001b[0mk\u001b[0m\u001b[1;33m)\u001b[0m\u001b[1;33m\u001b[0m\u001b[0m\n\u001b[0m\u001b[0;32m    194\u001b[0m \u001b[1;33m\u001b[0m\u001b[0m\n\u001b[0;32m    195\u001b[0m         \u001b[1;32mif\u001b[0m \u001b[0mcallable\u001b[0m\u001b[1;33m(\u001b[0m\u001b[0marg\u001b[0m\u001b[1;33m)\u001b[0m\u001b[1;33m:\u001b[0m\u001b[1;33m\u001b[0m\u001b[0m\n",
      "\u001b[1;32m/home/bay001/anaconda/lib/python2.7/site-packages/IPython/core/magics/execution.pyc\u001b[0m in \u001b[0;36mtimeit\u001b[1;34m(self, line, cell)\u001b[0m\n\u001b[0;32m   1040\u001b[0m                     \u001b[1;32mbreak\u001b[0m\u001b[1;33m\u001b[0m\u001b[0m\n\u001b[0;32m   1041\u001b[0m                 \u001b[0mnumber\u001b[0m \u001b[1;33m*=\u001b[0m \u001b[1;36m10\u001b[0m\u001b[1;33m\u001b[0m\u001b[0m\n\u001b[1;32m-> 1042\u001b[1;33m         \u001b[0mall_runs\u001b[0m \u001b[1;33m=\u001b[0m \u001b[0mtimer\u001b[0m\u001b[1;33m.\u001b[0m\u001b[0mrepeat\u001b[0m\u001b[1;33m(\u001b[0m\u001b[0mrepeat\u001b[0m\u001b[1;33m,\u001b[0m \u001b[0mnumber\u001b[0m\u001b[1;33m)\u001b[0m\u001b[1;33m\u001b[0m\u001b[0m\n\u001b[0m\u001b[0;32m   1043\u001b[0m         \u001b[0mbest\u001b[0m \u001b[1;33m=\u001b[0m \u001b[0mmin\u001b[0m\u001b[1;33m(\u001b[0m\u001b[0mall_runs\u001b[0m\u001b[1;33m)\u001b[0m \u001b[1;33m/\u001b[0m \u001b[0mnumber\u001b[0m\u001b[1;33m\u001b[0m\u001b[0m\n\u001b[0;32m   1044\u001b[0m         \u001b[1;32mif\u001b[0m \u001b[1;32mnot\u001b[0m \u001b[0mquiet\u001b[0m \u001b[1;33m:\u001b[0m\u001b[1;33m\u001b[0m\u001b[0m\n",
      "\u001b[1;32m/home/bay001/anaconda/lib/python2.7/timeit.pyc\u001b[0m in \u001b[0;36mrepeat\u001b[1;34m(self, repeat, number)\u001b[0m\n\u001b[0;32m    228\u001b[0m         \u001b[0mr\u001b[0m \u001b[1;33m=\u001b[0m \u001b[1;33m[\u001b[0m\u001b[1;33m]\u001b[0m\u001b[1;33m\u001b[0m\u001b[0m\n\u001b[0;32m    229\u001b[0m         \u001b[1;32mfor\u001b[0m \u001b[0mi\u001b[0m \u001b[1;32min\u001b[0m \u001b[0mrange\u001b[0m\u001b[1;33m(\u001b[0m\u001b[0mrepeat\u001b[0m\u001b[1;33m)\u001b[0m\u001b[1;33m:\u001b[0m\u001b[1;33m\u001b[0m\u001b[0m\n\u001b[1;32m--> 230\u001b[1;33m             \u001b[0mt\u001b[0m \u001b[1;33m=\u001b[0m \u001b[0mself\u001b[0m\u001b[1;33m.\u001b[0m\u001b[0mtimeit\u001b[0m\u001b[1;33m(\u001b[0m\u001b[0mnumber\u001b[0m\u001b[1;33m)\u001b[0m\u001b[1;33m\u001b[0m\u001b[0m\n\u001b[0m\u001b[0;32m    231\u001b[0m             \u001b[0mr\u001b[0m\u001b[1;33m.\u001b[0m\u001b[0mappend\u001b[0m\u001b[1;33m(\u001b[0m\u001b[0mt\u001b[0m\u001b[1;33m)\u001b[0m\u001b[1;33m\u001b[0m\u001b[0m\n\u001b[0;32m    232\u001b[0m         \u001b[1;32mreturn\u001b[0m \u001b[0mr\u001b[0m\u001b[1;33m\u001b[0m\u001b[0m\n",
      "\u001b[1;32m/home/bay001/anaconda/lib/python2.7/site-packages/IPython/core/magics/execution.pyc\u001b[0m in \u001b[0;36mtimeit\u001b[1;34m(self, number)\u001b[0m\n\u001b[0;32m    131\u001b[0m         \u001b[0mgc\u001b[0m\u001b[1;33m.\u001b[0m\u001b[0mdisable\u001b[0m\u001b[1;33m(\u001b[0m\u001b[1;33m)\u001b[0m\u001b[1;33m\u001b[0m\u001b[0m\n\u001b[0;32m    132\u001b[0m         \u001b[1;32mtry\u001b[0m\u001b[1;33m:\u001b[0m\u001b[1;33m\u001b[0m\u001b[0m\n\u001b[1;32m--> 133\u001b[1;33m             \u001b[0mtiming\u001b[0m \u001b[1;33m=\u001b[0m \u001b[0mself\u001b[0m\u001b[1;33m.\u001b[0m\u001b[0minner\u001b[0m\u001b[1;33m(\u001b[0m\u001b[0mit\u001b[0m\u001b[1;33m,\u001b[0m \u001b[0mself\u001b[0m\u001b[1;33m.\u001b[0m\u001b[0mtimer\u001b[0m\u001b[1;33m)\u001b[0m\u001b[1;33m\u001b[0m\u001b[0m\n\u001b[0m\u001b[0;32m    134\u001b[0m         \u001b[1;32mfinally\u001b[0m\u001b[1;33m:\u001b[0m\u001b[1;33m\u001b[0m\u001b[0m\n\u001b[0;32m    135\u001b[0m             \u001b[1;32mif\u001b[0m \u001b[0mgcold\u001b[0m\u001b[1;33m:\u001b[0m\u001b[1;33m\u001b[0m\u001b[0m\n",
      "\u001b[1;32m<magic-timeit>\u001b[0m in \u001b[0;36minner\u001b[1;34m(_it, _timer)\u001b[0m\n",
      "\u001b[1;32m<ipython-input-16-db64dda4d0e2>\u001b[0m in \u001b[0;36mentropy1\u001b[1;34m(densities, input_densities, min_density_threshold)\u001b[0m\n\u001b[0;32m     23\u001b[0m                 \u001b[0mpdf\u001b[0m\u001b[1;33m.\u001b[0m\u001b[0mix\u001b[0m\u001b[1;33m[\u001b[0m\u001b[0midx\u001b[0m\u001b[1;33m]\u001b[0m \u001b[1;33m=\u001b[0m \u001b[1;33m(\u001b[0m\u001b[0mpdf\u001b[0m\u001b[1;33m.\u001b[0m\u001b[0mix\u001b[0m\u001b[1;33m[\u001b[0m\u001b[0midx\u001b[0m\u001b[1;33m]\u001b[0m\u001b[1;33m.\u001b[0m\u001b[0mdiv\u001b[0m\u001b[1;33m(\u001b[0m\u001b[0mpdfi\u001b[0m\u001b[1;33m.\u001b[0m\u001b[0mix\u001b[0m\u001b[1;33m[\u001b[0m\u001b[0midx\u001b[0m\u001b[1;33m]\u001b[0m\u001b[1;33m)\u001b[0m\u001b[1;33m)\u001b[0m\u001b[1;33m\u001b[0m\u001b[0m\n\u001b[0;32m     24\u001b[0m             \u001b[1;32mexcept\u001b[0m \u001b[0mKeyError\u001b[0m \u001b[1;32mas\u001b[0m \u001b[0me\u001b[0m\u001b[1;33m:\u001b[0m \u001b[1;31m# except regions that don't have a corresponding input\u001b[0m\u001b[1;33m\u001b[0m\u001b[0m\n\u001b[1;32m---> 25\u001b[1;33m                 \u001b[0mpdfi\u001b[0m\u001b[1;33m.\u001b[0m\u001b[0mix\u001b[0m\u001b[1;33m[\u001b[0m\u001b[0midx\u001b[0m\u001b[1;33m]\u001b[0m \u001b[1;33m=\u001b[0m \u001b[0mnp\u001b[0m\u001b[1;33m.\u001b[0m\u001b[0mnan\u001b[0m \u001b[1;31m# fill with NANs\u001b[0m\u001b[1;33m\u001b[0m\u001b[0m\n\u001b[0m\u001b[0;32m     26\u001b[0m                 \u001b[0mpdfi\u001b[0m\u001b[1;33m.\u001b[0m\u001b[0mix\u001b[0m\u001b[1;33m[\u001b[0m\u001b[0midx\u001b[0m\u001b[1;33m]\u001b[0m\u001b[1;33m.\u001b[0m\u001b[0mfillna\u001b[0m\u001b[1;33m(\u001b[0m\u001b[0mMIN_PDF\u001b[0m\u001b[1;33m)\u001b[0m \u001b[1;31m# fill the NANs with min pseudodensity\u001b[0m\u001b[1;33m\u001b[0m\u001b[0m\n\u001b[0;32m     27\u001b[0m                 \u001b[0mpdf\u001b[0m\u001b[1;33m.\u001b[0m\u001b[0mix\u001b[0m\u001b[1;33m[\u001b[0m\u001b[0midx\u001b[0m\u001b[1;33m]\u001b[0m \u001b[1;33m=\u001b[0m \u001b[1;33m(\u001b[0m\u001b[0mpdf\u001b[0m\u001b[1;33m.\u001b[0m\u001b[0mix\u001b[0m\u001b[1;33m[\u001b[0m\u001b[0midx\u001b[0m\u001b[1;33m]\u001b[0m\u001b[1;33m.\u001b[0m\u001b[0mdiv\u001b[0m\u001b[1;33m(\u001b[0m\u001b[0mpdfi\u001b[0m\u001b[1;33m.\u001b[0m\u001b[0mix\u001b[0m\u001b[1;33m[\u001b[0m\u001b[0midx\u001b[0m\u001b[1;33m]\u001b[0m\u001b[1;33m)\u001b[0m\u001b[1;33m)\u001b[0m \u001b[1;31m# then do division\u001b[0m\u001b[1;33m\u001b[0m\u001b[0m\n",
      "\u001b[1;32m/home/bay001/anaconda/lib/python2.7/site-packages/pandas/core/indexing.pyc\u001b[0m in \u001b[0;36m__setitem__\u001b[1;34m(self, key, value)\u001b[0m\n\u001b[0;32m    113\u001b[0m     \u001b[1;32mdef\u001b[0m \u001b[0m__setitem__\u001b[0m\u001b[1;33m(\u001b[0m\u001b[0mself\u001b[0m\u001b[1;33m,\u001b[0m \u001b[0mkey\u001b[0m\u001b[1;33m,\u001b[0m \u001b[0mvalue\u001b[0m\u001b[1;33m)\u001b[0m\u001b[1;33m:\u001b[0m\u001b[1;33m\u001b[0m\u001b[0m\n\u001b[0;32m    114\u001b[0m         \u001b[0mindexer\u001b[0m \u001b[1;33m=\u001b[0m \u001b[0mself\u001b[0m\u001b[1;33m.\u001b[0m\u001b[0m_get_setitem_indexer\u001b[0m\u001b[1;33m(\u001b[0m\u001b[0mkey\u001b[0m\u001b[1;33m)\u001b[0m\u001b[1;33m\u001b[0m\u001b[0m\n\u001b[1;32m--> 115\u001b[1;33m         \u001b[0mself\u001b[0m\u001b[1;33m.\u001b[0m\u001b[0m_setitem_with_indexer\u001b[0m\u001b[1;33m(\u001b[0m\u001b[0mindexer\u001b[0m\u001b[1;33m,\u001b[0m \u001b[0mvalue\u001b[0m\u001b[1;33m)\u001b[0m\u001b[1;33m\u001b[0m\u001b[0m\n\u001b[0m\u001b[0;32m    116\u001b[0m \u001b[1;33m\u001b[0m\u001b[0m\n\u001b[0;32m    117\u001b[0m     \u001b[1;32mdef\u001b[0m \u001b[0m_has_valid_type\u001b[0m\u001b[1;33m(\u001b[0m\u001b[0mself\u001b[0m\u001b[1;33m,\u001b[0m \u001b[0mk\u001b[0m\u001b[1;33m,\u001b[0m \u001b[0maxis\u001b[0m\u001b[1;33m)\u001b[0m\u001b[1;33m:\u001b[0m\u001b[1;33m\u001b[0m\u001b[0m\n",
      "\u001b[1;32m/home/bay001/anaconda/lib/python2.7/site-packages/pandas/core/indexing.pyc\u001b[0m in \u001b[0;36m_setitem_with_indexer\u001b[1;34m(self, indexer, value)\u001b[0m\n\u001b[0;32m    331\u001b[0m                         \u001b[0mvalue\u001b[0m \u001b[1;33m=\u001b[0m \u001b[0mSeries\u001b[0m\u001b[1;33m(\u001b[0m\u001b[0mvalue\u001b[0m\u001b[1;33m,\u001b[0m\u001b[0mindex\u001b[0m\u001b[1;33m=\u001b[0m\u001b[0mself\u001b[0m\u001b[1;33m.\u001b[0m\u001b[0mobj\u001b[0m\u001b[1;33m.\u001b[0m\u001b[0mcolumns\u001b[0m\u001b[1;33m,\u001b[0m\u001b[0mname\u001b[0m\u001b[1;33m=\u001b[0m\u001b[0mindexer\u001b[0m\u001b[1;33m)\u001b[0m\u001b[1;33m\u001b[0m\u001b[0m\n\u001b[0;32m    332\u001b[0m \u001b[1;33m\u001b[0m\u001b[0m\n\u001b[1;32m--> 333\u001b[1;33m                     \u001b[0mself\u001b[0m\u001b[1;33m.\u001b[0m\u001b[0mobj\u001b[0m\u001b[1;33m.\u001b[0m\u001b[0m_data\u001b[0m \u001b[1;33m=\u001b[0m \u001b[0mself\u001b[0m\u001b[1;33m.\u001b[0m\u001b[0mobj\u001b[0m\u001b[1;33m.\u001b[0m\u001b[0mappend\u001b[0m\u001b[1;33m(\u001b[0m\u001b[0mvalue\u001b[0m\u001b[1;33m)\u001b[0m\u001b[1;33m.\u001b[0m\u001b[0m_data\u001b[0m\u001b[1;33m\u001b[0m\u001b[0m\n\u001b[0m\u001b[0;32m    334\u001b[0m                     \u001b[0mself\u001b[0m\u001b[1;33m.\u001b[0m\u001b[0mobj\u001b[0m\u001b[1;33m.\u001b[0m\u001b[0m_maybe_update_cacher\u001b[0m\u001b[1;33m(\u001b[0m\u001b[0mclear\u001b[0m\u001b[1;33m=\u001b[0m\u001b[0mTrue\u001b[0m\u001b[1;33m)\u001b[0m\u001b[1;33m\u001b[0m\u001b[0m\n\u001b[0;32m    335\u001b[0m                     \u001b[1;32mreturn\u001b[0m \u001b[0mself\u001b[0m\u001b[1;33m.\u001b[0m\u001b[0mobj\u001b[0m\u001b[1;33m\u001b[0m\u001b[0m\n",
      "\u001b[1;32m/home/bay001/anaconda/lib/python2.7/site-packages/pandas/core/frame.pyc\u001b[0m in \u001b[0;36mappend\u001b[1;34m(self, other, ignore_index, verify_integrity)\u001b[0m\n\u001b[0;32m   4159\u001b[0m \u001b[1;33m\u001b[0m\u001b[0m\n\u001b[0;32m   4160\u001b[0m             \u001b[1;32mif\u001b[0m \u001b[1;32mnot\u001b[0m \u001b[0mself\u001b[0m\u001b[1;33m.\u001b[0m\u001b[0mcolumns\u001b[0m\u001b[1;33m.\u001b[0m\u001b[0mequals\u001b[0m\u001b[1;33m(\u001b[0m\u001b[0mcombined_columns\u001b[0m\u001b[1;33m)\u001b[0m\u001b[1;33m:\u001b[0m\u001b[1;33m\u001b[0m\u001b[0m\n\u001b[1;32m-> 4161\u001b[1;33m                 \u001b[0mself\u001b[0m \u001b[1;33m=\u001b[0m \u001b[0mself\u001b[0m\u001b[1;33m.\u001b[0m\u001b[0mreindex\u001b[0m\u001b[1;33m(\u001b[0m\u001b[0mcolumns\u001b[0m\u001b[1;33m=\u001b[0m\u001b[0mcombined_columns\u001b[0m\u001b[1;33m)\u001b[0m\u001b[1;33m\u001b[0m\u001b[0m\n\u001b[0m\u001b[0;32m   4162\u001b[0m         \u001b[1;32melif\u001b[0m \u001b[0misinstance\u001b[0m\u001b[1;33m(\u001b[0m\u001b[0mother\u001b[0m\u001b[1;33m,\u001b[0m \u001b[0mlist\u001b[0m\u001b[1;33m)\u001b[0m \u001b[1;32mand\u001b[0m \u001b[1;32mnot\u001b[0m \u001b[0misinstance\u001b[0m\u001b[1;33m(\u001b[0m\u001b[0mother\u001b[0m\u001b[1;33m[\u001b[0m\u001b[1;36m0\u001b[0m\u001b[1;33m]\u001b[0m\u001b[1;33m,\u001b[0m \u001b[0mDataFrame\u001b[0m\u001b[1;33m)\u001b[0m\u001b[1;33m:\u001b[0m\u001b[1;33m\u001b[0m\u001b[0m\n\u001b[0;32m   4163\u001b[0m             \u001b[0mother\u001b[0m \u001b[1;33m=\u001b[0m \u001b[0mDataFrame\u001b[0m\u001b[1;33m(\u001b[0m\u001b[0mother\u001b[0m\u001b[1;33m)\u001b[0m\u001b[1;33m\u001b[0m\u001b[0m\n",
      "\u001b[1;32m/home/bay001/anaconda/lib/python2.7/site-packages/pandas/core/frame.pyc\u001b[0m in \u001b[0;36mreindex\u001b[1;34m(self, index, columns, **kwargs)\u001b[0m\n\u001b[0;32m   2627\u001b[0m     \u001b[1;32mdef\u001b[0m \u001b[0mreindex\u001b[0m\u001b[1;33m(\u001b[0m\u001b[0mself\u001b[0m\u001b[1;33m,\u001b[0m \u001b[0mindex\u001b[0m\u001b[1;33m=\u001b[0m\u001b[0mNone\u001b[0m\u001b[1;33m,\u001b[0m \u001b[0mcolumns\u001b[0m\u001b[1;33m=\u001b[0m\u001b[0mNone\u001b[0m\u001b[1;33m,\u001b[0m \u001b[1;33m**\u001b[0m\u001b[0mkwargs\u001b[0m\u001b[1;33m)\u001b[0m\u001b[1;33m:\u001b[0m\u001b[1;33m\u001b[0m\u001b[0m\n\u001b[0;32m   2628\u001b[0m         return super(DataFrame, self).reindex(index=index, columns=columns,\n\u001b[1;32m-> 2629\u001b[1;33m                                               **kwargs)\n\u001b[0m\u001b[0;32m   2630\u001b[0m \u001b[1;33m\u001b[0m\u001b[0m\n\u001b[0;32m   2631\u001b[0m     \u001b[1;33m@\u001b[0m\u001b[0mAppender\u001b[0m\u001b[1;33m(\u001b[0m\u001b[0m_shared_docs\u001b[0m\u001b[1;33m[\u001b[0m\u001b[1;34m'reindex_axis'\u001b[0m\u001b[1;33m]\u001b[0m \u001b[1;33m%\u001b[0m \u001b[0m_shared_doc_kwargs\u001b[0m\u001b[1;33m)\u001b[0m\u001b[1;33m\u001b[0m\u001b[0m\n",
      "\u001b[1;32m/home/bay001/anaconda/lib/python2.7/site-packages/pandas/core/generic.pyc\u001b[0m in \u001b[0;36mreindex\u001b[1;34m(self, *args, **kwargs)\u001b[0m\n\u001b[0;32m   1846\u001b[0m         \u001b[1;31m# perform the reindex on the axes\u001b[0m\u001b[1;33m\u001b[0m\u001b[1;33m\u001b[0m\u001b[0m\n\u001b[0;32m   1847\u001b[0m         return self._reindex_axes(axes, level, limit, tolerance,\n\u001b[1;32m-> 1848\u001b[1;33m                                   method, fill_value, copy).__finalize__(self)\n\u001b[0m\u001b[0;32m   1849\u001b[0m \u001b[1;33m\u001b[0m\u001b[0m\n\u001b[0;32m   1850\u001b[0m     def _reindex_axes(self, axes, level, limit, tolerance, method,\n",
      "\u001b[1;32m/home/bay001/anaconda/lib/python2.7/site-packages/pandas/core/frame.pyc\u001b[0m in \u001b[0;36m_reindex_axes\u001b[1;34m(self, axes, level, limit, tolerance, method, fill_value, copy)\u001b[0m\n\u001b[0;32m   2571\u001b[0m         \u001b[1;32mif\u001b[0m \u001b[0mcolumns\u001b[0m \u001b[1;32mis\u001b[0m \u001b[1;32mnot\u001b[0m \u001b[0mNone\u001b[0m\u001b[1;33m:\u001b[0m\u001b[1;33m\u001b[0m\u001b[0m\n\u001b[0;32m   2572\u001b[0m             frame = frame._reindex_columns(columns, copy, level, fill_value,\n\u001b[1;32m-> 2573\u001b[1;33m                                            limit, tolerance)\n\u001b[0m\u001b[0;32m   2574\u001b[0m \u001b[1;33m\u001b[0m\u001b[0m\n\u001b[0;32m   2575\u001b[0m         \u001b[0mindex\u001b[0m \u001b[1;33m=\u001b[0m \u001b[0maxes\u001b[0m\u001b[1;33m[\u001b[0m\u001b[1;34m'index'\u001b[0m\u001b[1;33m]\u001b[0m\u001b[1;33m\u001b[0m\u001b[0m\n",
      "\u001b[1;32m/home/bay001/anaconda/lib/python2.7/site-packages/pandas/core/frame.pyc\u001b[0m in \u001b[0;36m_reindex_columns\u001b[1;34m(self, new_columns, copy, level, fill_value, limit, tolerance)\u001b[0m\n\u001b[0;32m   2596\u001b[0m         return self._reindex_with_indexers({1: [new_columns, indexer]},\n\u001b[0;32m   2597\u001b[0m                                            \u001b[0mcopy\u001b[0m\u001b[1;33m=\u001b[0m\u001b[0mcopy\u001b[0m\u001b[1;33m,\u001b[0m \u001b[0mfill_value\u001b[0m\u001b[1;33m=\u001b[0m\u001b[0mfill_value\u001b[0m\u001b[1;33m,\u001b[0m\u001b[1;33m\u001b[0m\u001b[0m\n\u001b[1;32m-> 2598\u001b[1;33m                                            allow_dups=False)\n\u001b[0m\u001b[0;32m   2599\u001b[0m \u001b[1;33m\u001b[0m\u001b[0m\n\u001b[0;32m   2600\u001b[0m     \u001b[1;32mdef\u001b[0m \u001b[0m_reindex_multi\u001b[0m\u001b[1;33m(\u001b[0m\u001b[0mself\u001b[0m\u001b[1;33m,\u001b[0m \u001b[0maxes\u001b[0m\u001b[1;33m,\u001b[0m \u001b[0mcopy\u001b[0m\u001b[1;33m,\u001b[0m \u001b[0mfill_value\u001b[0m\u001b[1;33m)\u001b[0m\u001b[1;33m:\u001b[0m\u001b[1;33m\u001b[0m\u001b[0m\n",
      "\u001b[1;32m/home/bay001/anaconda/lib/python2.7/site-packages/pandas/core/generic.pyc\u001b[0m in \u001b[0;36m_reindex_with_indexers\u001b[1;34m(self, reindexers, fill_value, copy, allow_dups)\u001b[0m\n\u001b[0;32m   1957\u001b[0m                                                 \u001b[0mfill_value\u001b[0m\u001b[1;33m=\u001b[0m\u001b[0mfill_value\u001b[0m\u001b[1;33m,\u001b[0m\u001b[1;33m\u001b[0m\u001b[0m\n\u001b[0;32m   1958\u001b[0m                                                 \u001b[0mallow_dups\u001b[0m\u001b[1;33m=\u001b[0m\u001b[0mallow_dups\u001b[0m\u001b[1;33m,\u001b[0m\u001b[1;33m\u001b[0m\u001b[0m\n\u001b[1;32m-> 1959\u001b[1;33m                                                 copy=copy)\n\u001b[0m\u001b[0;32m   1960\u001b[0m \u001b[1;33m\u001b[0m\u001b[0m\n\u001b[0;32m   1961\u001b[0m         \u001b[1;32mif\u001b[0m \u001b[0mcopy\u001b[0m \u001b[1;32mand\u001b[0m \u001b[0mnew_data\u001b[0m \u001b[1;32mis\u001b[0m \u001b[0mself\u001b[0m\u001b[1;33m.\u001b[0m\u001b[0m_data\u001b[0m\u001b[1;33m:\u001b[0m\u001b[1;33m\u001b[0m\u001b[0m\n",
      "\u001b[1;32m/home/bay001/anaconda/lib/python2.7/site-packages/pandas/core/internals.pyc\u001b[0m in \u001b[0;36mreindex_indexer\u001b[1;34m(self, new_axis, indexer, axis, fill_value, allow_dups, copy)\u001b[0m\n\u001b[0;32m   3381\u001b[0m                 \u001b[1;32mreturn\u001b[0m \u001b[0mself\u001b[0m\u001b[1;33m\u001b[0m\u001b[0m\n\u001b[0;32m   3382\u001b[0m \u001b[1;33m\u001b[0m\u001b[0m\n\u001b[1;32m-> 3383\u001b[1;33m             \u001b[0mresult\u001b[0m \u001b[1;33m=\u001b[0m \u001b[0mself\u001b[0m\u001b[1;33m.\u001b[0m\u001b[0mcopy\u001b[0m\u001b[1;33m(\u001b[0m\u001b[0mdeep\u001b[0m\u001b[1;33m=\u001b[0m\u001b[0mcopy\u001b[0m\u001b[1;33m)\u001b[0m\u001b[1;33m\u001b[0m\u001b[0m\n\u001b[0m\u001b[0;32m   3384\u001b[0m             \u001b[0mresult\u001b[0m\u001b[1;33m.\u001b[0m\u001b[0maxes\u001b[0m \u001b[1;33m=\u001b[0m \u001b[0mlist\u001b[0m\u001b[1;33m(\u001b[0m\u001b[0mself\u001b[0m\u001b[1;33m.\u001b[0m\u001b[0maxes\u001b[0m\u001b[1;33m)\u001b[0m\u001b[1;33m\u001b[0m\u001b[0m\n\u001b[0;32m   3385\u001b[0m             \u001b[0mresult\u001b[0m\u001b[1;33m.\u001b[0m\u001b[0maxes\u001b[0m\u001b[1;33m[\u001b[0m\u001b[0maxis\u001b[0m\u001b[1;33m]\u001b[0m \u001b[1;33m=\u001b[0m \u001b[0mnew_axis\u001b[0m\u001b[1;33m\u001b[0m\u001b[0m\n",
      "\u001b[1;32m/home/bay001/anaconda/lib/python2.7/site-packages/pandas/core/internals.pyc\u001b[0m in \u001b[0;36mcopy\u001b[1;34m(self, deep)\u001b[0m\n\u001b[0;32m   2948\u001b[0m             \u001b[0mnew_axes\u001b[0m \u001b[1;33m=\u001b[0m \u001b[0mlist\u001b[0m\u001b[1;33m(\u001b[0m\u001b[0mself\u001b[0m\u001b[1;33m.\u001b[0m\u001b[0maxes\u001b[0m\u001b[1;33m)\u001b[0m\u001b[1;33m\u001b[0m\u001b[0m\n\u001b[0;32m   2949\u001b[0m         return self.apply('copy', axes=new_axes, deep=deep,\n\u001b[1;32m-> 2950\u001b[1;33m                           do_integrity_check=False)\n\u001b[0m\u001b[0;32m   2951\u001b[0m \u001b[1;33m\u001b[0m\u001b[0m\n\u001b[0;32m   2952\u001b[0m     \u001b[1;32mdef\u001b[0m \u001b[0mas_matrix\u001b[0m\u001b[1;33m(\u001b[0m\u001b[0mself\u001b[0m\u001b[1;33m,\u001b[0m \u001b[0mitems\u001b[0m\u001b[1;33m=\u001b[0m\u001b[0mNone\u001b[0m\u001b[1;33m)\u001b[0m\u001b[1;33m:\u001b[0m\u001b[1;33m\u001b[0m\u001b[0m\n",
      "\u001b[1;32m/home/bay001/anaconda/lib/python2.7/site-packages/pandas/core/internals.pyc\u001b[0m in \u001b[0;36mapply\u001b[1;34m(self, f, axes, filter, do_integrity_check, consolidate, **kwargs)\u001b[0m\n\u001b[0;32m   2708\u001b[0m                                                  copy=align_copy)\n\u001b[0;32m   2709\u001b[0m \u001b[1;33m\u001b[0m\u001b[0m\n\u001b[1;32m-> 2710\u001b[1;33m             \u001b[0mapplied\u001b[0m \u001b[1;33m=\u001b[0m \u001b[0mgetattr\u001b[0m\u001b[1;33m(\u001b[0m\u001b[0mb\u001b[0m\u001b[1;33m,\u001b[0m \u001b[0mf\u001b[0m\u001b[1;33m)\u001b[0m\u001b[1;33m(\u001b[0m\u001b[1;33m**\u001b[0m\u001b[0mkwargs\u001b[0m\u001b[1;33m)\u001b[0m\u001b[1;33m\u001b[0m\u001b[0m\n\u001b[0m\u001b[0;32m   2711\u001b[0m \u001b[1;33m\u001b[0m\u001b[0m\n\u001b[0;32m   2712\u001b[0m             \u001b[1;32mif\u001b[0m \u001b[0misinstance\u001b[0m\u001b[1;33m(\u001b[0m\u001b[0mapplied\u001b[0m\u001b[1;33m,\u001b[0m \u001b[0mlist\u001b[0m\u001b[1;33m)\u001b[0m\u001b[1;33m:\u001b[0m\u001b[1;33m\u001b[0m\u001b[0m\n",
      "\u001b[1;32m/home/bay001/anaconda/lib/python2.7/site-packages/pandas/core/internals.pyc\u001b[0m in \u001b[0;36mcopy\u001b[1;34m(self, deep)\u001b[0m\n\u001b[0;32m    547\u001b[0m         \u001b[0mvalues\u001b[0m \u001b[1;33m=\u001b[0m \u001b[0mself\u001b[0m\u001b[1;33m.\u001b[0m\u001b[0mvalues\u001b[0m\u001b[1;33m\u001b[0m\u001b[0m\n\u001b[0;32m    548\u001b[0m         \u001b[1;32mif\u001b[0m \u001b[0mdeep\u001b[0m\u001b[1;33m:\u001b[0m\u001b[1;33m\u001b[0m\u001b[0m\n\u001b[1;32m--> 549\u001b[1;33m             \u001b[0mvalues\u001b[0m \u001b[1;33m=\u001b[0m \u001b[0mvalues\u001b[0m\u001b[1;33m.\u001b[0m\u001b[0mcopy\u001b[0m\u001b[1;33m(\u001b[0m\u001b[1;33m)\u001b[0m\u001b[1;33m\u001b[0m\u001b[0m\n\u001b[0m\u001b[0;32m    550\u001b[0m         return self.make_block(values,\n\u001b[0;32m    551\u001b[0m                                \u001b[0mklass\u001b[0m\u001b[1;33m=\u001b[0m\u001b[0mself\u001b[0m\u001b[1;33m.\u001b[0m\u001b[0m__class__\u001b[0m\u001b[1;33m,\u001b[0m\u001b[1;33m\u001b[0m\u001b[0m\n",
      "\u001b[1;31mKeyboardInterrupt\u001b[0m: "
     ]
    }
   ],
   "source": [
    "%%timeit \n",
    "pdf1, pdf1i, en1, mean1 = entropy1(ip1, inp1, 0)"
   ]
  },
  {
   "cell_type": "code",
   "execution_count": null,
   "metadata": {
    "collapsed": false
   },
   "outputs": [],
   "source": [
    "pdf1, pdf1i, en1, mean1 = entropy1(ip1, inp1, 0)\n",
    "pdf2, pdf2i, en2, mean2 = entropy1(ip2, inp2, 0)\n",
    "pdf3, pdf3i, en3, mean3 = entropy1(ip3, inp3, 0)\n",
    "pdf4, pdf4i, en4, mean4 = entropy1(ip4, inp4, 0)"
   ]
  },
  {
   "cell_type": "code",
   "execution_count": null,
   "metadata": {
    "collapsed": false
   },
   "outputs": [],
   "source": [
    "f, (ax1, ax2, ax3, ax4) = plt.subplots(1, 4, sharey=False,figsize=(15,2.5))\n",
    "ax1.plot(mean1)\n",
    "ax2.plot(mean2)\n",
    "ax3.plot(mean3)\n",
    "ax4.plot(mean4)"
   ]
  },
  {
   "cell_type": "code",
   "execution_count": null,
   "metadata": {
    "collapsed": false
   },
   "outputs": [],
   "source": [
    "ip1 = pd.read_table('/home/bay001/projects/maps_20160420/data/204_01_RBFOX2.merged.r2.norm.neg.bw.both_region1_raw_density_matrix.csv',\n",
    "                  sep=',',index_col=0)\n",
    "\n",
    "inp1 = pd.read_table('/home/bay001/projects/maps_20160420/data/RBFOX2-204-INPUT_S2_R1.unassigned.adapterTrim.round2.rmRep.rmDup.sorted.r2.norm.neg.bw.both_region1_raw_density_matrix.csv',\n",
    "                  sep=',',index_col=0)\n",
    "\n",
    "MIN_PDF = 1.0/350\n",
    "\n",
    "def entropy2(densities, input_densities, min_density_threshold):\n",
    "        densities = densities.replace(-1, np.nan)  \n",
    "        \n",
    "        df = densities[densities.sum(axis=1) > min_density_threshold]\n",
    "        min_normalized_read_number = min([item for item in df.unstack().values if item > 0])\n",
    "        df = df + min_normalized_read_number\n",
    "        pdf = df.div(df.sum(axis=1), axis=0)\n",
    "        \n",
    "        input_densities = input_densities.replace(-1, np.nan)  \n",
    "        dfi = input_densities[input_densities.sum(axis=1) > min_density_threshold]\n",
    "        min_normalized_read_number = min([item for item in dfi.unstack().values if item > 0])\n",
    "        dfi = dfi + min_normalized_read_number\n",
    "        pdfi = dfi.div(dfi.sum(axis=1), axis=0)\n",
    "        \n",
    "        for mi in pdf.ix[pdf.index.isin(pdfi.index)==False].index:\n",
    "            pdfi.ix[mi] = np.nan\n",
    "            pdfi.ix[mi].fillna(MIN_PDF)\n",
    "        \n",
    "        en = pdf.multiply(np.log2(pdf.div(pdfi)))\n",
    "        return pdf, pdfi, en, en.mean()"
   ]
  },
  {
   "cell_type": "code",
   "execution_count": null,
   "metadata": {
    "collapsed": false
   },
   "outputs": [],
   "source": [
    "pdf1_2, pdf1i_2, en1_2, mean1_2 = entropy2(ip1, inp1, 0)"
   ]
  },
  {
   "cell_type": "code",
   "execution_count": 76,
   "metadata": {
    "collapsed": false
   },
   "outputs": [],
   "source": [
    "ip1 = pd.read_table('/home/bay001/projects/maps_20160420/data/204_01_RBFOX2.merged.r2.norm.neg.bw.both_region1_raw_density_matrix.csv',\n",
    "                  sep=',',index_col=0)\n",
    "\n",
    "inp1 = pd.read_table('/home/bay001/projects/maps_20160420/data/RBFOX2-204-INPUT_S2_R1.unassigned.adapterTrim.round2.rmRep.rmDup.sorted.r2.norm.neg.bw.both_region1_raw_density_matrix.csv',\n",
    "                  sep=',',index_col=0)\n",
    "\n",
    "MIN_PDF = 1.0/350\n",
    "\n",
    "def entropy3(densities, input_densities, min_density_threshold):\n",
    "        densities = densities.replace(-1, np.nan)  \n",
    "        \n",
    "        df = densities[densities.sum(axis=1) > min_density_threshold]\n",
    "        min_normalized_read_number = min([item for item in df.unstack().values if item > 0])\n",
    "        df = df + min_normalized_read_number\n",
    "        pdf = df.div(df.sum(axis=1), axis=0)\n",
    "        \n",
    "        input_densities = input_densities.replace(-1, np.nan)  \n",
    "        dfi = input_densities[input_densities.sum(axis=1) > min_density_threshold]\n",
    "        min_normalized_read_number = min([item for item in dfi.unstack().values if item > 0])\n",
    "        dfi = dfi + min_normalized_read_number\n",
    "        pdfi = dfi.div(dfi.sum(axis=1), axis=0)\n",
    "        \n",
    "        pdft = pd.merge(pdf,pdfi,how='left',left_index=True,right_index=True).fillna(MIN_PDF)\n",
    "        \n",
    "        pdf = pdft.filter(regex='\\d+_x')\n",
    "        pdfi = pdft.filter(regex='\\d+_y')\n",
    "        pdf = pdf.rename(columns=lambda x: x.replace('_x', ''))\n",
    "        pdfi = pdfi.rename(columns=lambda x: x.replace('_y', ''))\n",
    "\n",
    "        en = pdf.multiply(np.log2(pdf.div(pdfi)))\n",
    "        \n",
    "        return pdf, pdfi, en, en.mean()"
   ]
  },
  {
   "cell_type": "code",
   "execution_count": 60,
   "metadata": {
    "collapsed": false
   },
   "outputs": [
    {
     "name": "stdout",
     "output_type": "stream",
     "text": [
      "1 loops, best of 3: 6.5 s per loop\n"
     ]
    }
   ],
   "source": [
    "%%timeit \n",
    "pdf1, pdf1i, en1, mean1 = entropy3(ip1, inp1, 0)"
   ]
  },
  {
   "cell_type": "code",
   "execution_count": 93,
   "metadata": {
    "collapsed": false
   },
   "outputs": [],
   "source": [
    "ip1 = pd.read_table('/home/bay001/projects/maps_20160420/data/204_01_RBFOX2.merged.r2.norm.neg.bw.both_region1_raw_density_matrix.csv',\n",
    "                  sep=',',index_col=0)\n",
    "ip2 = pd.read_table('/home/bay001/projects/maps_20160420/data/204_01_RBFOX2.merged.r2.norm.neg.bw.both_region2_raw_density_matrix.csv',\n",
    "                  sep=',',index_col=0)\n",
    "ip3 = pd.read_table('/home/bay001/projects/maps_20160420/data/204_01_RBFOX2.merged.r2.norm.neg.bw.both_region3_raw_density_matrix.csv',\n",
    "                  sep=',',index_col=0)\n",
    "ip4 = pd.read_table('/home/bay001/projects/maps_20160420/data/204_01_RBFOX2.merged.r2.norm.neg.bw.both_region4_raw_density_matrix.csv',\n",
    "                  sep=',',index_col=0)\n",
    "inp1 = pd.read_table('/home/bay001/projects/maps_20160420/data/RBFOX2-204-INPUT_S2_R1.unassigned.adapterTrim.round2.rmRep.rmDup.sorted.r2.norm.neg.bw.both_region1_raw_density_matrix.csv',\n",
    "                  sep=',',index_col=0)\n",
    "inp2 = pd.read_table('/home/bay001/projects/maps_20160420/data/RBFOX2-204-INPUT_S2_R1.unassigned.adapterTrim.round2.rmRep.rmDup.sorted.r2.norm.neg.bw.both_region2_raw_density_matrix.csv',\n",
    "                  sep=',',index_col=0)\n",
    "inp3 = pd.read_table('/home/bay001/projects/maps_20160420/data/RBFOX2-204-INPUT_S2_R1.unassigned.adapterTrim.round2.rmRep.rmDup.sorted.r2.norm.neg.bw.both_region3_raw_density_matrix.csv',\n",
    "                  sep=',',index_col=0)\n",
    "inp4 = pd.read_table('/home/bay001/projects/maps_20160420/data/RBFOX2-204-INPUT_S2_R1.unassigned.adapterTrim.round2.rmRep.rmDup.sorted.r2.norm.neg.bw.both_region4_raw_density_matrix.csv',\n",
    "                  sep=',',index_col=0)\n",
    "\n",
    "pdf1, pdf1i, en1, mean1 = entropy3(ip1, inp1, 0)\n",
    "pdf2, pdf2i, en2, mean2 = entropy3(ip2, inp2, 0)\n",
    "pdf3, pdf3i, en3, mean3 = entropy3(ip3, inp3, 0)\n",
    "pdf4, pdf4i, en4, mean4 = entropy3(ip4, inp4, 0)"
   ]
  },
  {
   "cell_type": "code",
   "execution_count": 94,
   "metadata": {
    "collapsed": false
   },
   "outputs": [
    {
     "data": {
      "text/plain": [
       "[<matplotlib.lines.Line2D at 0x2acdfc1e3310>]"
      ]
     },
     "execution_count": 94,
     "metadata": {},
     "output_type": "execute_result"
    },
    {
     "data": {
      "image/png": "[encoded data removed]",
      "text/plain": [
       "<matplotlib.figure.Figure at 0x2ace31d19790>"
      ]
     },
     "metadata": {},
     "output_type": "display_data"
    }
   ],
   "source": [
    "f, (ax1, ax2, ax3, ax4) = plt.subplots(1, 4, sharey=True,figsize=(15,2.5))\n",
    "ax1.plot(mean1)\n",
    "ax2.plot(mean2)\n",
    "ax3.plot(mean3)\n",
    "ax4.plot(mean4)"
   ]
  },
  {
   "cell_type": "code",
   "execution_count": 79,
   "metadata": {
    "collapsed": false
   },
   "outputs": [],
   "source": [
    "ip1 = pd.read_table('/home/bay001/projects/maps_20160420/data/204_01_RBFOX2.merged.r2.norm.neg.bw.both_region1_raw_density_matrix.csv',\n",
    "                  sep=',',index_col=0)\n",
    "\n",
    "inp1 = pd.read_table('/home/bay001/projects/maps_20160420/data/RBFOX2-204-INPUT_S2_R1.unassigned.adapterTrim.round2.rmRep.rmDup.sorted.r2.norm.neg.bw.both_region1_raw_density_matrix.csv',\n",
    "                  sep=',',index_col=0)\n",
    "\n",
    "MIN_PDF = 1.0/350\n",
    "\n",
    "def entropy4(densities, input_densities, min_density_threshold):\n",
    "        densities = densities.replace(-1, np.nan)  \n",
    "        \n",
    "        df = densities[densities.sum(axis=1) > min_density_threshold]\n",
    "        min_normalized_read_number = min([item for item in df.unstack().values if item > 0])\n",
    "        df = df + min_normalized_read_number\n",
    "        \n",
    "        \n",
    "        input_densities = input_densities.replace(-1, np.nan)  \n",
    "        dfi = input_densities[input_densities.sum(axis=1) > min_density_threshold]\n",
    "        min_normalized_read_number = min([item for item in dfi.unstack().values if item > 0])\n",
    "        dfi = dfi + min_normalized_read_number\n",
    "        \n",
    "        dft = pd.merge(df,dfi, how='left',left_index=True,right_index=True).fillna(min_normalized_read_number)\n",
    "        \n",
    "        df = dft.filter(regex='\\d+_x')\n",
    "        dfi = dft.filter(regex='\\d+_y')\n",
    "        \n",
    "        df = df.rename(columns=lambda x: x.replace('_x', ''))\n",
    "        dfi = dfi.rename(columns=lambda x: x.replace('_y', ''))\n",
    "        \n",
    "        pdf = df.div(df.sum(axis=1), axis=0)\n",
    "        pdfi = dfi.div(dfi.sum(axis=1), axis=0)\n",
    "        \n",
    "        subtraction = \n",
    "        error = pdf.multiply(np.log2(pdf.div(pdfi)))\n",
    "        \n",
    "        return pdf, pdfi, en, en.mean()"
   ]
  },
  {
   "cell_type": "code",
   "execution_count": 95,
   "metadata": {
    "collapsed": false
   },
   "outputs": [],
   "source": [
    "ip1 = pd.read_table('/home/bay001/projects/maps_20160420/data/204_01_RBFOX2.merged.r2.norm.neg.bw.both_region1_raw_density_matrix.csv',\n",
    "                  sep=',',index_col=0)\n",
    "ip2 = pd.read_table('/home/bay001/projects/maps_20160420/data/204_01_RBFOX2.merged.r2.norm.neg.bw.both_region2_raw_density_matrix.csv',\n",
    "                  sep=',',index_col=0)\n",
    "ip3 = pd.read_table('/home/bay001/projects/maps_20160420/data/204_01_RBFOX2.merged.r2.norm.neg.bw.both_region3_raw_density_matrix.csv',\n",
    "                  sep=',',index_col=0)\n",
    "ip4 = pd.read_table('/home/bay001/projects/maps_20160420/data/204_01_RBFOX2.merged.r2.norm.neg.bw.both_region4_raw_density_matrix.csv',\n",
    "                  sep=',',index_col=0)\n",
    "inp1 = pd.read_table('/home/bay001/projects/maps_20160420/data/RBFOX2-204-INPUT_S2_R1.unassigned.adapterTrim.round2.rmRep.rmDup.sorted.r2.norm.neg.bw.both_region1_raw_density_matrix.csv',\n",
    "                  sep=',',index_col=0)\n",
    "inp2 = pd.read_table('/home/bay001/projects/maps_20160420/data/RBFOX2-204-INPUT_S2_R1.unassigned.adapterTrim.round2.rmRep.rmDup.sorted.r2.norm.neg.bw.both_region2_raw_density_matrix.csv',\n",
    "                  sep=',',index_col=0)\n",
    "inp3 = pd.read_table('/home/bay001/projects/maps_20160420/data/RBFOX2-204-INPUT_S2_R1.unassigned.adapterTrim.round2.rmRep.rmDup.sorted.r2.norm.neg.bw.both_region3_raw_density_matrix.csv',\n",
    "                  sep=',',index_col=0)\n",
    "inp4 = pd.read_table('/home/bay001/projects/maps_20160420/data/RBFOX2-204-INPUT_S2_R1.unassigned.adapterTrim.round2.rmRep.rmDup.sorted.r2.norm.neg.bw.both_region4_raw_density_matrix.csv',\n",
    "                  sep=',',index_col=0)\n",
    "\n",
    "pdf1, pdf1i, en1, mean1 = entropy4(ip1, inp1, 0)\n",
    "pdf2, pdf2i, en2, mean2 = entropy4(ip2, inp2, 0)\n",
    "pdf3, pdf3i, en3, mean3 = entropy4(ip3, inp3, 0)\n",
    "pdf4, pdf4i, en4, mean4 = entropy4(ip4, inp4, 0)"
   ]
  },
  {
   "cell_type": "code",
   "execution_count": 96,
   "metadata": {
    "collapsed": false
   },
   "outputs": [
    {
     "data": {
      "text/plain": [
       "[<matplotlib.lines.Line2D at 0x2ace31619c90>]"
      ]
     },
     "execution_count": 96,
     "metadata": {},
     "output_type": "execute_result"
    },
    {
     "data": {
      "image/png": "[encoded data removed]",
      "text/plain": [
       "<matplotlib.figure.Figure at 0x2ace31a2ba50>"
      ]
     },
     "metadata": {},
     "output_type": "display_data"
    }
   ],
   "source": [
    "f, (ax1, ax2, ax3, ax4) = plt.subplots(1, 4, sharey=True,figsize=(15,2.5))\n",
    "ax1.plot(mean1)\n",
    "ax2.plot(mean2)\n",
    "ax3.plot(mean3)\n",
    "ax4.plot(mean4)"
   ]
  },
  {
   "cell_type": "code",
   "execution_count": 103,
   "metadata": {
    "collapsed": false
   },
   "outputs": [],
   "source": [
    "def normalize2(densities, input_densities, min_density_threshold):\n",
    "        densities = densities.replace(-1, np.nan)  \n",
    "        \n",
    "        df = densities[densities.sum(axis=1) > min_density_threshold]\n",
    "        min_normalized_read_number = min([item for item in df.unstack().values if item > 0])\n",
    "        df = df + min_normalized_read_number\n",
    "        \n",
    "        input_densities = input_densities.replace(-1, np.nan)  \n",
    "        dfi = input_densities[input_densities.sum(axis=1) > min_density_threshold]\n",
    "        min_normalized_read_number = min([item for item in dfi.unstack().values if item > 0])\n",
    "        dfi = dfi + min_normalized_read_number\n",
    "        \n",
    "        dft = pd.merge(df,dfi, how='left',left_index=True,right_index=True).fillna(min_normalized_read_number)\n",
    "        \n",
    "        df = dft.filter(regex='\\d+_x')\n",
    "        dfi = dft.filter(regex='\\d+_y')\n",
    "        \n",
    "        df = df.rename(columns=lambda x: x.replace('_x', ''))\n",
    "        dfi = dfi.rename(columns=lambda x: x.replace('_y', ''))\n",
    "        \n",
    "        pdf = df.div(df.sum(axis=1), axis=0)\n",
    "        pdfi = dfi.div(dfi.sum(axis=1), axis=0)\n",
    "        \n",
    "        en = pdf.sub(pdfi)\n",
    "        \n",
    "        return pdf, pdfi, en, en.mean()"
   ]
  },
  {
   "cell_type": "code",
   "execution_count": 104,
   "metadata": {
    "collapsed": true
   },
   "outputs": [],
   "source": [
    "ip1 = pd.read_table('/home/bay001/projects/maps_20160420/data/204_01_RBFOX2.merged.r2.norm.neg.bw.both_region1_raw_density_matrix.csv',\n",
    "                  sep=',',index_col=0)\n",
    "ip2 = pd.read_table('/home/bay001/projects/maps_20160420/data/204_01_RBFOX2.merged.r2.norm.neg.bw.both_region2_raw_density_matrix.csv',\n",
    "                  sep=',',index_col=0)\n",
    "ip3 = pd.read_table('/home/bay001/projects/maps_20160420/data/204_01_RBFOX2.merged.r2.norm.neg.bw.both_region3_raw_density_matrix.csv',\n",
    "                  sep=',',index_col=0)\n",
    "ip4 = pd.read_table('/home/bay001/projects/maps_20160420/data/204_01_RBFOX2.merged.r2.norm.neg.bw.both_region4_raw_density_matrix.csv',\n",
    "                  sep=',',index_col=0)\n",
    "inp1 = pd.read_table('/home/bay001/projects/maps_20160420/data/RBFOX2-204-INPUT_S2_R1.unassigned.adapterTrim.round2.rmRep.rmDup.sorted.r2.norm.neg.bw.both_region1_raw_density_matrix.csv',\n",
    "                  sep=',',index_col=0)\n",
    "inp2 = pd.read_table('/home/bay001/projects/maps_20160420/data/RBFOX2-204-INPUT_S2_R1.unassigned.adapterTrim.round2.rmRep.rmDup.sorted.r2.norm.neg.bw.both_region2_raw_density_matrix.csv',\n",
    "                  sep=',',index_col=0)\n",
    "inp3 = pd.read_table('/home/bay001/projects/maps_20160420/data/RBFOX2-204-INPUT_S2_R1.unassigned.adapterTrim.round2.rmRep.rmDup.sorted.r2.norm.neg.bw.both_region3_raw_density_matrix.csv',\n",
    "                  sep=',',index_col=0)\n",
    "inp4 = pd.read_table('/home/bay001/projects/maps_20160420/data/RBFOX2-204-INPUT_S2_R1.unassigned.adapterTrim.round2.rmRep.rmDup.sorted.r2.norm.neg.bw.both_region4_raw_density_matrix.csv',\n",
    "                  sep=',',index_col=0)\n",
    "\n",
    "pdf1, pdf1i, en1, mean1 = normalize2(ip1, inp1, 0)\n",
    "pdf2, pdf2i, en2, mean2 = normalize2(ip2, inp2, 0)\n",
    "pdf3, pdf3i, en3, mean3 = normalize2(ip3, inp3, 0)\n",
    "pdf4, pdf4i, en4, mean4 = normalize2(ip4, inp4, 0)"
   ]
  },
  {
   "cell_type": "code",
   "execution_count": 105,
   "metadata": {
    "collapsed": false
   },
   "outputs": [
    {
     "data": {
      "text/plain": [
       "[<matplotlib.lines.Line2D at 0x2acdb8394ad0>]"
      ]
     },
     "execution_count": 105,
     "metadata": {},
     "output_type": "execute_result"
    },
    {
     "data": {
      "image/png": "[encoded data removed]",
      "text/plain": [
       "<matplotlib.figure.Figure at 0x2acdfc5f1990>"
      ]
     },
     "metadata": {},
     "output_type": "display_data"
    }
   ],
   "source": [
    "f, (ax1, ax2, ax3, ax4) = plt.subplots(1, 4, sharey=True,figsize=(15,2.5))\n",
    "ax1.plot(mean1)\n",
    "ax2.plot(mean2)\n",
    "ax3.plot(mean3)\n",
    "ax4.plot(mean4)"
   ]
  },
  {
   "cell_type": "code",
   "execution_count": null,
   "metadata": {
    "collapsed": true
   },
   "outputs": [],
   "source": []
  }
 ],
 "metadata": {
  "kernelspec": {
   "display_name": "Python 2",
   "language": "python",
   "name": "python2"
  },
  "language_info": {
   "codemirror_mode": {
    "name": "ipython",
    "version": 2
   },
   "file_extension": ".py",
   "mimetype": "text/x-python",
   "name": "python",
   "nbconvert_exporter": "python",
   "pygments_lexer": "ipython2",
   "version": "2.7.11"
  }
 },
 "nbformat": 4,
 "nbformat_minor": 0
}
