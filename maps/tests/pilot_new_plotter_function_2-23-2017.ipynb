{
 "cells": [
  {
   "cell_type": "code",
   "execution_count": 4,
   "metadata": {
    "collapsed": false
   },
   "outputs": [],
   "source": [
    "%matplotlib inline\n",
    "import matplotlib.pyplot as plt\n",
    "import sys\n",
    "sys.path.insert(0, '/home/bay001/projects/codebase/rbp-maps/maps/')\n",
    "import pandas as pd\n",
    "import numpy as np\n",
    "\n",
    "from density import Map\n",
    "from density import ReadDensity\n",
    "from plot import Plot"
   ]
  },
  {
   "cell_type": "code",
   "execution_count": 5,
   "metadata": {
    "collapsed": false
   },
   "outputs": [
    {
     "name": "stdout",
     "output_type": "stream",
     "text": [
      "/home/bay001/projects/codebase/rbfox2/204_01_RBFOX2.merged.r2.bam\n",
      "/home/bay001/projects/codebase/rbfox2/RBFOX2-204-INPUT_S2_R1.unassigned.adapterTrim.round2.rmRep.rmDup.sorted.r2.bam\n"
     ]
    }
   ],
   "source": [
    "ip_bam = '/home/bay001/projects/codebase/rbfox2/204_01_RBFOX2.merged.r2.bam'\n",
    "input_bam = '/home/bay001/projects/codebase/rbfox2/RBFOX2-204-INPUT_S2_R1.unassigned.adapterTrim.round2.rmRep.rmDup.sorted.r2.bam'\n",
    "\n",
    "ip_pos_bw = '/home/bay001/projects/codebase/rbfox2/204_01_RBFOX2.merged.r2.norm.neg.bw' # flipped?\n",
    "ip_neg_bw = '/home/bay001/projects/codebase/rbfox2/204_01_RBFOX2.merged.r2.norm.pos.bw' # flipped?\n",
    "input_pos_bw = '/home/bay001/projects/codebase/rbfox2/RBFOX2-204-INPUT_S2_R1.unassigned.adapterTrim.round2.rmRep.rmDup.sorted.r2.norm.neg.bw'\n",
    "input_neg_bw = '/home/bay001/projects/codebase/rbfox2/RBFOX2-204-INPUT_S2_R1.unassigned.adapterTrim.round2.rmRep.rmDup.sorted.r2.norm.pos.bw'\n",
    "\n",
    "ip_read_density = ReadDensity.ReadDensity(\n",
    "    pos = ip_pos_bw, \n",
    "    neg = ip_neg_bw, \n",
    "    bam = ip_bam\n",
    ")\n",
    "input_read_density = ReadDensity.ReadDensity(\n",
    "    pos = input_pos_bw,\n",
    "    neg = input_neg_bw,\n",
    "    bam = input_bam\n",
    ")"
   ]
  },
  {
   "cell_type": "code",
   "execution_count": 6,
   "metadata": {
    "collapsed": false
   },
   "outputs": [
    {
     "ename": "NameError",
     "evalue": "name 'os' is not defined",
     "output_type": "error",
     "traceback": [
      "\u001b[0;31m---------------------------------------------------------------------------\u001b[0m",
      "\u001b[0;31mNameError\u001b[0m                                 Traceback (most recent call last)",
      "\u001b[0;32m<ipython-input-6-2a88eeb076c5>\u001b[0m in \u001b[0;36m<module>\u001b[0;34m()\u001b[0m\n\u001b[1;32m      1\u001b[0m \u001b[0mwd\u001b[0m \u001b[0;34m=\u001b[0m \u001b[0;34m'/home/bay001/projects/codebase/rbfox2/'\u001b[0m\u001b[0;34m\u001b[0m\u001b[0m\n\u001b[1;32m      2\u001b[0m \u001b[0;34m\u001b[0m\u001b[0m\n\u001b[0;32m----> 3\u001b[0;31m regions = os.path.join(\n\u001b[0m\u001b[1;32m      4\u001b[0m     \u001b[0mwd\u001b[0m\u001b[0;34m,\u001b[0m\u001b[0;34m\u001b[0m\u001b[0m\n\u001b[1;32m      5\u001b[0m     \u001b[0;34m'RBFOX2-BGHLV26-HepG2-SE.MATS.JunctionCountOnly.txt'\u001b[0m\u001b[0;34m\u001b[0m\u001b[0m\n",
      "\u001b[0;31mNameError\u001b[0m: name 'os' is not defined"
     ]
    }
   ],
   "source": []
  },
  {
   "cell_type": "code",
   "execution_count": null,
   "metadata": {
    "collapsed": true
   },
   "outputs": [],
   "source": []
  }
 ],
 "metadata": {
  "kernelspec": {
   "display_name": "Python 2",
   "language": "python",
   "name": "python2"
  },
  "language_info": {
   "codemirror_mode": {
    "name": "ipython",
    "version": 2
   },
   "file_extension": ".py",
   "mimetype": "text/x-python",
   "name": "python",
   "nbconvert_exporter": "python",
   "pygments_lexer": "ipython2",
   "version": "2.7.12"
  }
 },
 "nbformat": 4,
 "nbformat_minor": 1
}
