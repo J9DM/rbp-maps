{
 "cells": [
  {
   "cell_type": "markdown",
   "metadata": {},
   "source": [
    "# Once the tscc jobs are done, we need to make sure they are all made. "
   ]
  },
  {
   "cell_type": "code",
   "execution_count": 1,
   "metadata": {
    "collapsed": true
   },
   "outputs": [],
   "source": [
    "import pandas as pd\n",
    "import numpy as np\n",
    "import os"
   ]
  },
  {
   "cell_type": "code",
   "execution_count": 83,
   "metadata": {
    "collapsed": true
   },
   "outputs": [],
   "source": [
    "cdsstartmaps = !ls /projects/ps-yeolab3/bay001/maps/current/cdsstarts/*.subtract_by_region*.svg\n",
    "txstartmaps = !ls /projects/ps-yeolab3/bay001/maps/current/txstarts/*.subtract_by_region*.svg\n",
    "txstopmaps = !ls /projects/ps-yeolab3/bay001/maps/current/txends/*.subtract_by_region*.svg\n",
    "semaps = !ls /projects/ps-yeolab3/bay001/maps/current/se/*.subtract_by_region*.svg\n",
    "a3ssmaps = !ls /projects/ps-yeolab3/bay001/maps/current/a3ss/*.subtract_by_region*.svg\n",
    "a5ssmaps = !ls /projects/ps-yeolab3/bay001/maps/current/a5ss/*.subtract_by_region*.svg\n",
    "mxemaps = !ls /projects/ps-yeolab3/bay001/maps/current/mxe/*.subtract_by_region*.svg\n",
    "rimaps = !ls /projects/ps-yeolab3/bay001/maps/current/ri/*.subtract_by_region*.svg"
   ]
  },
  {
   "cell_type": "code",
   "execution_count": 84,
   "metadata": {
    "collapsed": true
   },
   "outputs": [],
   "source": [
    "def get_rep1name(row):\n",
    "    return \"{}_01_{}\".format(row['uID'],row['RBP'])\n",
    "def get_rep2name(row):\n",
    "    return \"{}_02_{}\".format(row['uID'],row['RBP'])"
   ]
  },
  {
   "cell_type": "code",
   "execution_count": 85,
   "metadata": {
    "collapsed": false
   },
   "outputs": [],
   "source": [
    "sm = pd.read_table('/home/bay001/projects/maps_20160420/permanent_data/ALLDATASETS_submittedonly.txt')"
   ]
  },
  {
   "cell_type": "code",
   "execution_count": 86,
   "metadata": {
    "collapsed": false
   },
   "outputs": [],
   "source": [
    "rep1 = set(submitted_manifest.apply(get_rep1name,axis=1))\n",
    "rep2 = set(submitted_manifest.apply(get_rep2name,axis=1))"
   ]
  },
  {
   "cell_type": "code",
   "execution_count": 87,
   "metadata": {
    "collapsed": false
   },
   "outputs": [],
   "source": [
    "# get list of RBPs already covered\n",
    "txstartlist = []\n",
    "for name in txstartmaps:\n",
    "    txstartlist.append(os.path.basename(name).replace('.txstarts.subtract_by_region.removeoutliers.svg',''))\n",
    "txstoplist = []\n",
    "for name in txstopmaps:\n",
    "    txstoplist.append(os.path.basename(name).replace('.txstops.subtract_by_region.removeoutliers.svg',''))\n",
    "cdsstartlist = []\n",
    "for name in cdsstartmaps:\n",
    "    cdsstartlist.append(os.path.basename(name).replace('.txstops.subtract_by_region.removeoutliers.svg',''))\n",
    "selist = []\n",
    "for name in semaps:\n",
    "    selist.append(os.path.basename(name).replace('.se.subtract_by_region.removeoutliers.svg',''))\n",
    "a3sslist = []\n",
    "for name in a3ssmaps:\n",
    "    a3sslist.append(os.path.basename(name).replace('.a3ss.subtract_by_region.removeoutliers.svg',''))\n",
    "a5sslist = []\n",
    "for name in a5ssmaps:\n",
    "    a5sslist.append(os.path.basename(name).replace('.a5ss.subtract_by_region.removeoutliers.svg',''))\n",
    "rilist = []\n",
    "for name in rimaps:\n",
    "    rilist.append(os.path.basename(name).replace('.ri.subtract_by_region.removeoutliers.svg',''))\n",
    "mxelist = []\n",
    "for name in mxemaps:\n",
    "    mxelist.append(os.path.basename(name).replace('.mxe.subtract_by_region.removeoutliers.svg',''))\n"
   ]
  },
  {
   "cell_type": "code",
   "execution_count": 88,
   "metadata": {
    "collapsed": false
   },
   "outputs": [],
   "source": [
    "# any rep1 or rep2 that isn't in the covered list will be caught here:\n",
    "txstarttodo = set(rep1 - set(txstartlist)).union(rep2 - set(txstartlist))\n",
    "txstoptodo = set(rep1 - set(txstoplist)).union(rep2 - set(txstoplist))\n",
    "cdsstarttodo = set(rep1 - set(cdsstartlist)).union(rep2 - set(cdsstartlist))"
   ]
  },
  {
   "cell_type": "code",
   "execution_count": 103,
   "metadata": {
    "collapsed": false
   },
   "outputs": [],
   "source": [
    "# any rep1 or rep2 that isn't in the covered list will be caught here:\n",
    "setodo = set(rep1 - set(selist)).union(rep2 - set(selist))\n",
    "a3sstodo = set(rep1 - set(a3sslist)).union(rep2 - set(a3sslist))\n",
    "a5sstodo = set(rep1 - set(a5sslist)).union(rep2 - set(a5sslist))\n",
    "ritodo = set(rep1 - set(rilist)).union(rep2 - set(rilist))\n",
    "mxetodo = set(rep1 - set(mxelist)).union(rep2 - set(mxelist))"
   ]
  },
  {
   "cell_type": "code",
   "execution_count": null,
   "metadata": {
    "collapsed": true
   },
   "outputs": [],
   "source": [
    "# isolate uID for manifest subset\n",
    "def getID(s):\n",
    "    return s.split('_')[0]"
   ]
  },
  {
   "cell_type": "markdown",
   "metadata": {},
   "source": [
    "# subset the submitted manifest with the missing RBP reps"
   ]
  },
  {
   "cell_type": "code",
   "execution_count": 100,
   "metadata": {
    "collapsed": false
   },
   "outputs": [],
   "source": [
    "uidlist = []\n",
    "for se in setodo:\n",
    "    uidlist.append(getID(se))\n",
    "sm[sm['uID'].isin(uidlist)].to_csv('/home/bay001/projects/maps_20160420/permanent_data/se.todo.manifest.txt',\n",
    "                                  sep='\\t',index=None,header=None)"
   ]
  },
  {
   "cell_type": "code",
   "execution_count": 105,
   "metadata": {
    "collapsed": false
   },
   "outputs": [],
   "source": [
    "uidlist = []\n",
    "for a3ss in a3sstodo:\n",
    "    uidlist.append(getID(a3ss))\n",
    "sm[sm['uID'].isin(uidlist)].to_csv('/home/bay001/projects/maps_20160420/permanent_data/a3ss.todo.manifest.txt',\n",
    "                                  sep='\\t',index=None,header=None)"
   ]
  },
  {
   "cell_type": "code",
   "execution_count": 106,
   "metadata": {
    "collapsed": false
   },
   "outputs": [],
   "source": [
    "uidlist = []\n",
    "for a5ss in a5sstodo:\n",
    "    uidlist.append(getID(a5ss))\n",
    "sm[sm['uID'].isin(uidlist)].to_csv('/home/bay001/projects/maps_20160420/permanent_data/a5ss.todo.manifest.txt',\n",
    "                                  sep='\\t',index=None,header=None)"
   ]
  },
  {
   "cell_type": "code",
   "execution_count": 107,
   "metadata": {
    "collapsed": true
   },
   "outputs": [],
   "source": [
    "uidlist = []\n",
    "for mxe in mxetodo:\n",
    "    uidlist.append(getID(mxe))\n",
    "sm[sm['uID'].isin(uidlist)].to_csv('/home/bay001/projects/maps_20160420/permanent_data/mxe.todo.manifest.txt',\n",
    "                                  sep='\\t',index=None,header=None)"
   ]
  },
  {
   "cell_type": "code",
   "execution_count": 108,
   "metadata": {
    "collapsed": true
   },
   "outputs": [],
   "source": [
    "uidlist = []\n",
    "for ri in ritodo:\n",
    "    uidlist.append(getID(ri))\n",
    "sm[sm['uID'].isin(uidlist)].to_csv('/home/bay001/projects/maps_20160420/permanent_data/ri.todo.manifest.txt',\n",
    "                                  sep='\\t',index=None,header=None)"
   ]
  },
  {
   "cell_type": "code",
   "execution_count": 109,
   "metadata": {
    "collapsed": true
   },
   "outputs": [],
   "source": [
    "uidlist = []\n",
    "for tx in txstoptodo:\n",
    "    uidlist.append(getID(tx))\n",
    "sm[sm['uID'].isin(uidlist)].to_csv('/home/bay001/projects/maps_20160420/permanent_data/txstop.todo.manifest.txt',\n",
    "                                  sep='\\t',index=None,header=None)"
   ]
  },
  {
   "cell_type": "code",
   "execution_count": 110,
   "metadata": {
    "collapsed": true
   },
   "outputs": [],
   "source": [
    "uidlist = []\n",
    "for tx in txstarttodo:\n",
    "    uidlist.append(getID(tx))\n",
    "sm[sm['uID'].isin(uidlist)].to_csv('/home/bay001/projects/maps_20160420/permanent_data/txstart.todo.manifest.txt',\n",
    "                                  sep='\\t',index=None,header=None)"
   ]
  },
  {
   "cell_type": "code",
   "execution_count": 111,
   "metadata": {
    "collapsed": true
   },
   "outputs": [],
   "source": [
    "uidlist = []\n",
    "for cds in cdsstarttodo:\n",
    "    uidlist.append(getID(cds))\n",
    "sm[sm['uID'].isin(uidlist)].to_csv('/home/bay001/projects/maps_20160420/permanent_data/cdsstart.todo.manifest.txt',\n",
    "                                  sep='\\t',index=None,header=None)"
   ]
  },
  {
   "cell_type": "code",
   "execution_count": null,
   "metadata": {
    "collapsed": true
   },
   "outputs": [],
   "source": []
  }
 ],
 "metadata": {
  "kernelspec": {
   "display_name": "Python 2",
   "language": "python",
   "name": "python2"
  },
  "language_info": {
   "codemirror_mode": {
    "name": "ipython",
    "version": 2
   },
   "file_extension": ".py",
   "mimetype": "text/x-python",
   "name": "python",
   "nbconvert_exporter": "python",
   "pygments_lexer": "ipython2",
   "version": "2.7.12"
  }
 },
 "nbformat": 4,
 "nbformat_minor": 1
}
