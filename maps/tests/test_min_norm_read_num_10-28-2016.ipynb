{
 "cells": [
  {
   "cell_type": "code",
   "execution_count": 3,
   "metadata": {
    "collapsed": true
   },
   "outputs": [],
   "source": [
    "%matplotlib inline\n",
    "import matplotlib.pyplot as plt\n",
    "import pandas as pd\n",
    "import numpy as np\n",
    "import pyBigWig\n"
   ]
  },
  {
   "cell_type": "code",
   "execution_count": 4,
   "metadata": {
    "collapsed": true
   },
   "outputs": [],
   "source": [
    "'''\n",
    "Created on May 3, 2016\n",
    "\n",
    "@author: Gabe\n",
    "'''\n",
    "import pyBigWig\n",
    "import numpy as np\n",
    "\n",
    "class ReadDensity():\n",
    "    \"\"\"\n",
    "    ReadDensity class\n",
    "    Attributes:\n",
    "        self.pos(positive *.bw file)\n",
    "        self.neg(negative *.bw file)\n",
    "    \"\"\"\n",
    "    def __init__(self, pos, neg, name = None):\n",
    "        try:\n",
    "            self.pos = pyBigWig.open(pos)\n",
    "            self.neg = pyBigWig.open(neg)\n",
    "            self.name = name if name is not None else pos.replace('pos','*').replace('neg','*')\n",
    "        except Exception as e:\n",
    "            print(\"couldn't open the bigwig files!\")\n",
    "            print(e)\n",
    "            return 1\n",
    "    def get_name(self):\n",
    "        \"\"\"\n",
    "        returns name\n",
    "        \"\"\"\n",
    "        return self.name\n",
    "    \n",
    "    def values(self, chrom, start, end, strand):\n",
    "        \"\"\"\n",
    "        Given a chromosome coordinate, return a list of values\n",
    "        pertaining to the rbpmaps over each nucleotide position.\n",
    "        Reverse the list if going in the negative strand.\n",
    "        \n",
    "        Args:\n",
    "            chrom (str): (eg. chr1)\n",
    "            start (int): 0-based start (first position in chromosome is 0)\n",
    "            end (int): 1-based end (last position is not included)\n",
    "            strand (char): either '+' or '-'\n",
    "        \"\"\"\n",
    "        try:\n",
    "            if strand == \"+\":\n",
    "                return self.pos.values(chrom, start, end)\n",
    "            elif strand == \"-\":\n",
    "                return list(reversed(self.neg.values(chrom, start, end)))\n",
    "            else:\n",
    "                raise(\"Strand neither + or -\")\n",
    "        except RuntimeError:\n",
    "            # usually occurs when no chromosome exists in the bigwig file\n",
    "            return [np.NaN]*abs(start-end)\n"
   ]
  },
  {
   "cell_type": "code",
   "execution_count": 5,
   "metadata": {
    "collapsed": false
   },
   "outputs": [
    {
     "data": {
      "text/plain": [
       "\"        \\nannotation = 'chr3:53274267:53274364:-@chr3:53271813:53271836:-@chr3:53268999:53269190:-'\\nprint(annotation)\\nF = SkippedExonFeature(annotation, 'miso')\\nup, se, down = F.get_bedtools()\\nprint(up)\\nprint(se)\\nprint(down)\\n\""
      ]
     },
     "execution_count": 5,
     "metadata": {},
     "output_type": "execute_result"
    }
   ],
   "source": [
    "'''\n",
    "Created on Sep 21, 2016\n",
    "\n",
    "@author: brian\n",
    "'''\n",
    "import pybedtools as bt\n",
    "\n",
    "class Feature():\n",
    "    '''\n",
    "    classdocs\n",
    "    '''\n",
    "\n",
    "\n",
    "    def __init__(self, annotation, source):\n",
    "        '''\n",
    "        Constructor\n",
    "        '''\n",
    "        self.annotation = annotation.rstrip()\n",
    "        self.source = source\n",
    "\n",
    "    def get_bedtool(self):\n",
    "        if(self.source == 'bed'):\n",
    "            chrom, start, end, name, score, strand = self.annotation.split('\\t')\n",
    "        return bt.create_interval_from_list([chrom,\n",
    "                                             start,\n",
    "                                             end,\n",
    "                                             name,\n",
    "                                             score,\n",
    "                                             strand])\n",
    "\n",
    "\"\"\"        \n",
    "annotation = 'chr3:53274267:53274364:-@chr3:53271813:53271836:-@chr3:53268999:53269190:-'\n",
    "print(annotation)\n",
    "F = SkippedExonFeature(annotation, 'miso')\n",
    "up, se, down = F.get_bedtools()\n",
    "print(up)\n",
    "print(se)\n",
    "print(down)\n",
    "\"\"\""
   ]
  },
  {
   "cell_type": "code",
   "execution_count": 6,
   "metadata": {
    "collapsed": true
   },
   "outputs": [],
   "source": [
    "import itertools\n",
    "\n",
    "def some_range(rbp, interval, left_flank = 0, right_flank = 0):\n",
    "    if interval.strand == \"+\":\n",
    "        wiggle = rbp.values(interval.chrom, interval.start - left_flank, interval.end + right_flank, interval.strand)\n",
    "    elif interval.strand == \"-\":\n",
    "        wiggle = rbp.values(interval.chrom, interval.start - left_flank, interval.end + right_flank, interval.strand)\n",
    "    else:\n",
    "        print \"Strand not correct\", interval.strand\n",
    "        raise()\n",
    "    return wiggle   \n",
    "def get_scale(wiggle):\n",
    "    # type: (Series) -> Series\n",
    "    '''\n",
    "    Returns a wiggle of any N that is divisible by 100.\n",
    "    \n",
    "    '''\n",
    "    if(len(wiggle)==100): # no need to do any calculating.\n",
    "        return wiggle\n",
    "    elif len(wiggle) == 1:\n",
    "        return pd.Series(list(itertools.chain.from_iterable([multiply(w) for w in wiggle])))\n",
    "    elif len(wiggle) < 100: \n",
    "        wiggle = pd.Series(list(itertools.chain.from_iterable([multiply(w) for w in wiggle])))\n",
    "        \n",
    "    dist = [0]*100\n",
    "    x = 0\n",
    "    step = 0.01\n",
    "    y = 0\n",
    "        \n",
    "    for pos, value in enumerate(wiggle):\n",
    "        if(float(pos+1)/len(wiggle)) < step:\n",
    "            y = y + 1\n",
    "            dist[x] = dist[x] + value            \n",
    "        else:\n",
    "            dist[x] = dist[x] / y\n",
    "                \n",
    "            step = step + 0.01\n",
    "            x = x + 1\n",
    "            dist[x] = value\n",
    "            y = 1\n",
    "    dist[x] = dist[x] / y\n",
    "    return(pd.Series(dist))\n",
    "def rename_index(interval_name):\n",
    "    # type: (str) -> str\n",
    "    '''\n",
    "    Reformats a BedTool Interval name into a non-tabbed format.\n",
    "    '''\n",
    "    chrom, start, end, name, score, strand = str(interval_name).strip().split('\\t')\n",
    "    return \"{}:{}-{}:{}:{}\".format(chrom, start, end, name, strand)\n"
   ]
  },
  {
   "cell_type": "code",
   "execution_count": 7,
   "metadata": {
    "collapsed": true
   },
   "outputs": [],
   "source": [
    "def normalize_and_per_region_subtract(density, input_density, min_density_threshold = 0):\n",
    "    \"\"\"\n",
    "    Normalizes ip matrix of m x n (where m is the row of each event in a feature,\n",
    "    and n is the column relating to nucleotide position). \n",
    "    \"\"\"\n",
    "    # PDF_CONST = 1.0/len(density.columns)\n",
    "    \n",
    "    df_indices = density.index\n",
    "    dfi_indices = input_density.index\n",
    "    missing = set(df_indices) - set(dfi_indices)\n",
    "    \n",
    "    input_density = input_density.append(input_density.ix[missing])\n",
    "    \n",
    "    pdf = calculate_pdf(density, min_density_threshold)\n",
    "    pdfi = calculate_pdf(input_density, min_density_threshold)\n",
    "    \n",
    "    \n",
    "    \n",
    "    # pdfi = fill_all_nans_with_minpdf(pdfi, PDF_CONST)\n",
    "    # pdf = fill_all_nans_with_minpdf(pdf, PDF_CONST)\n",
    "    \n",
    "    subtracted = pdf.sub(pdfi)\n",
    "    # print(\"TYPE AFTER PER REGION SUBTRACT: {}\".format(type(subtracted)))\n",
    "    return subtracted\n",
    "\n",
    "def calculate_pdf(density, min_density_threshold = 0):\n",
    "    \"\"\"\n",
    "    Calculates the PDF of a density matrix.\n",
    "    Logic:\n",
    "    \n",
    "    Args: \n",
    "        density (pandas.DataFrame) : r x c matrix of densities. May contain\n",
    "            NaN corresponding to values in which no density was returned.\n",
    "            These values should be counted.\n",
    "            May contain -1 corresponding to values in which a particular\n",
    "            region is shorter than the full DataFrame length. These \n",
    "            values should not be counted.\n",
    "        min_density_threshold (integer) : minimum total density across\n",
    "            a row. (Deprecated - may be removed in the future)\n",
    "    \n",
    "    Returns:\n",
    "        pdf (pandas.DataFrame) : r x c matrix of densities normalized\n",
    "            across each respective (r)ow as a probability density func.\n",
    "    \"\"\"\n",
    "    density = density.fillna(0) # NaNs are regions which contain zero density\n",
    "    df = density.replace(-1, np.nan) # -1 are regions which should not be counted at all\n",
    "    \n",
    "    # df = df[df.sum(axis=1) > min_density_threshold]\n",
    "    \n",
    "    min_normalized_read_number = min([item for item in df.unstack().values if item > 0])\n",
    "    print(min_normalized_read_number)\n",
    "    df = df + min_normalized_read_number\n",
    "    pdf = df.div(df.sum(axis=1), axis=0)\n",
    "    return pdf # , mean, sem"
   ]
  },
  {
   "cell_type": "code",
   "execution_count": 9,
   "metadata": {
    "collapsed": false
   },
   "outputs": [],
   "source": [
    "df = pd.read_table('/projects/ps-yeolab3/bay001/maps/archived/10-27-2016/se/204_01_RBFOX2.ip.all.feature.se.raw_density_matrix.csv',\n",
    "                  sep=',',index_col=0)\n",
    "dfi = pd.read_table('/projects/ps-yeolab3/bay001/maps/archived/10-27-2016/se/204_01_RBFOX2.input.all.feature.se.raw_density_matrix.csv',\n",
    "                   sep=',',index_col=0)"
   ]
  },
  {
   "cell_type": "code",
   "execution_count": 10,
   "metadata": {
    "collapsed": false
   },
   "outputs": [
    {
     "name": "stdout",
     "output_type": "stream",
     "text": [
      "0.233893454075\n",
      "0.265550494194\n"
     ]
    }
   ],
   "source": [
    "X = normalize_and_per_region_subtract(df,dfi,0)"
   ]
  },
  {
   "cell_type": "code",
   "execution_count": 13,
   "metadata": {
    "collapsed": false
   },
   "outputs": [],
   "source": [
    "interval = bt.create_interval_from_list(['chr10','100004277','100004430','shouldbeblank','0','+'])\n",
    "pos = '/projects/ps-yeolab3/encode/analysis/encode_v12/204_01_RBFOX2.merged.r2.norm.pos.bw'\n",
    "neg = '/projects/ps-yeolab3/encode/analysis/encode_v12/204_01_RBFOX2.merged.r2.norm.neg.bw'\n",
    "rbp = ReadDensity(neg,pos)\n",
    "i = some_range(rbp,interval)"
   ]
  },
  {
   "cell_type": "code",
   "execution_count": 15,
   "metadata": {
    "collapsed": false
   },
   "outputs": [],
   "source": [
    "import pysam"
   ]
  },
  {
   "cell_type": "code",
   "execution_count": 21,
   "metadata": {
    "collapsed": false
   },
   "outputs": [],
   "source": [
    "input_bam = '/projects/ps-yeolab3/encode/analysis/encode_v12/204_01_RBFOX2.merged.r2.bam'\n",
    "bam = pysam.AlignmentFile(input_bam)"
   ]
  },
  {
   "cell_type": "code",
   "execution_count": 22,
   "metadata": {
    "collapsed": false
   },
   "outputs": [
    {
     "data": {
      "text/plain": [
       "4275451"
      ]
     },
     "execution_count": 22,
     "metadata": {},
     "output_type": "execute_result"
    }
   ],
   "source": [
    "bam.count()"
   ]
  },
  {
   "cell_type": "code",
   "execution_count": 25,
   "metadata": {
    "collapsed": false
   },
   "outputs": [
    {
     "data": {
      "text/plain": [
       "<pysam.calignmentfile.IteratorRowAll at 0x2b5e3c5500b8>"
      ]
     },
     "execution_count": 25,
     "metadata": {},
     "output_type": "execute_result"
    }
   ],
   "source": [
    "bam.fetch(until_eof=True)"
   ]
  },
  {
   "cell_type": "code",
   "execution_count": null,
   "metadata": {
    "collapsed": false
   },
   "outputs": [],
   "source": [
    "%%timeit\n",
    "calculate_pdf(df,0)"
   ]
  },
  {
   "cell_type": "code",
   "execution_count": 38,
   "metadata": {
    "collapsed": false
   },
   "outputs": [
    {
     "name": "stdout",
     "output_type": "stream",
     "text": [
      "0.233893454075\n",
      "0.265550494194\n"
     ]
    }
   ],
   "source": [
    "Y = normalize_and_per_region_subtract2(df, dfi, 0)"
   ]
  },
  {
   "cell_type": "code",
   "execution_count": 36,
   "metadata": {
    "collapsed": false
   },
   "outputs": [],
   "source": [
    "X.to_csv('~/testX.txt')\n",
    "Y.to_csv('~/testY.txt')"
   ]
  },
  {
   "cell_type": "code",
   "execution_count": 11,
   "metadata": {
    "collapsed": false
   },
   "outputs": [],
   "source": [
    "! diff ~/testX.txt ~/testY.txt"
   ]
  },
  {
   "cell_type": "code",
   "execution_count": 18,
   "metadata": {
    "collapsed": true
   },
   "outputs": [],
   "source": [
    "def entropy_of_reads(density, input_density, min_density_threshold = 0):\n",
    "    \"\"\"\n",
    "    Return the entropy of each position\n",
    "    Logic: \n",
    "        Fill NaNs with zero - we want to count all regions and add pseudocount\n",
    "        Fill -1 with NaNs - we want to negate any -1, which signifies a premature exon boundary\n",
    "        Add minimum pseudocount\n",
    "        Calculate entropy\n",
    "    \"\"\"\n",
    "    df_indices = density.index\n",
    "    dfi_indices = input_density.index\n",
    "    missing = (set(df_indices) - set(dfi_indices))\n",
    "    \n",
    "    input_density = input_density.append(input_density.ix[missing])\n",
    "    \n",
    "    density = density.fillna(0) # NaNs are regions which contain zero density\n",
    "    df = density.replace(-1, np.nan) # -1 are regions which should not be counted at all\n",
    "    \n",
    "    input_density = input_density.fillna(0) # NaNs are regions which contain zero density\n",
    "    dfi = input_density.replace(-1, np.nan) # -1 are regions which should not be counted at all\n",
    "    \n",
    "    min_ip_read_number = min([item for item in df.unstack().values if item > 0])\n",
    "    min_in_read_number = min([item for item in dfi.unstack().values if item > 0])\n",
    "    min_read_number = min(min_ip_read_number,min_in_read_number)\n",
    "    \n",
    "    df = df + min_read_number\n",
    "    dfi = dfi + min_read_number\n",
    "    \n",
    "    en = df.multiply(np.log2(df.div(dfi)))\n",
    "    # print(\"TYPE AFTER ENTROPY OF READS: {}\".format(type(en)))\n",
    "    return en"
   ]
  },
  {
   "cell_type": "code",
   "execution_count": 30,
   "metadata": {
    "collapsed": false
   },
   "outputs": [],
   "source": [
    "x = {'a':1}"
   ]
  },
  {
   "cell_type": "code",
   "execution_count": 31,
   "metadata": {
    "collapsed": false
   },
   "outputs": [
    {
     "data": {
      "text/plain": [
       "1"
      ]
     },
     "execution_count": 31,
     "metadata": {},
     "output_type": "execute_result"
    }
   ],
   "source": [
    "len(x)"
   ]
  },
  {
   "cell_type": "code",
   "execution_count": null,
   "metadata": {
    "collapsed": true
   },
   "outputs": [],
   "source": []
  }
 ],
 "metadata": {
  "kernelspec": {
   "display_name": "Python 2",
   "language": "python",
   "name": "python2"
  },
  "language_info": {
   "codemirror_mode": {
    "name": "ipython",
    "version": 2
   },
   "file_extension": ".py",
   "mimetype": "text/x-python",
   "name": "python",
   "nbconvert_exporter": "python",
   "pygments_lexer": "ipython2",
   "version": "2.7.12"
  }
 },
 "nbformat": 4,
 "nbformat_minor": 1
}
