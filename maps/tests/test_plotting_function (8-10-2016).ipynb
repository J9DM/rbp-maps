{
 "cells": [
  {
   "cell_type": "code",
   "execution_count": 110,
   "metadata": {
    "collapsed": false
   },
   "outputs": [],
   "source": [
    "%matplotlib inline\n",
    "import matplotlib\n",
    "# matplotlib.use('Agg')\n",
    "import pandas as pd\n",
    "import matplotlib.pyplot as plt\n",
    "# import seaborn as sns\n",
    "from gscripts.general import dataviz\n",
    "import os\n",
    "import numpy as np"
   ]
  },
  {
   "cell_type": "code",
   "execution_count": 19,
   "metadata": {
    "collapsed": true
   },
   "outputs": [],
   "source": [
    "wd = '/projects/ps-yeolab3/bay001/maps/se/xintao/8-5-2016'\n",
    "region1 = pd.read_table(os.path.join(wd,'204_01_RBFOX2.ip.three_upstream.se.raw_density_matrix.csv'),sep=\",\",index_col=0).mean()\n",
    "region2 = pd.read_table(os.path.join(wd,'204_01_RBFOX2.ip.five_skipped.se.raw_density_matrix.csv'),sep=\",\",index_col=0).mean()\n",
    "region3 = pd.read_table(os.path.join(wd,'204_01_RBFOX2.ip.three_skipped.se.raw_density_matrix.csv'),sep=\",\",index_col=0).mean()\n",
    "region4 = pd.read_table(os.path.join(wd,'204_01_RBFOX2.ip.five_downstream.se.raw_density_matrix.csv'),sep=\",\",index_col=0).mean()"
   ]
  },
  {
   "cell_type": "code",
   "execution_count": 155,
   "metadata": {
    "collapsed": true
   },
   "outputs": [],
   "source": [
    "def four_frame(region1, region2, region3, region4, \n",
    "               title, output_file, color='red'):\n",
    "    num_rows = 1\n",
    "    num_cols = 4\n",
    "    \n",
    "        \n",
    "    with dataviz.Figure(output_file, figsize=(num_cols * 2.5,num_rows * 2.5)) as fig:\n",
    "        \n",
    "        sns.set_style({'xtick.major.size':5,\n",
    "                   'ytick.major.size':5,\n",
    "                   'xtick.color':'.15'})\n",
    "        \n",
    "        min_height = min(min(region1),min(region2),min(region3),min(region4))\n",
    "        max_height = max(max(region1),max(region2),max(region3),max(region4))\n",
    "            \n",
    "        linewidth = 2.5\n",
    "        ax = fig.add_subplot(1,4,1)\n",
    "        ax.plot(region1, linewidth=linewidth, alpha=.7, color = color)\n",
    "        # ax.plot(three_upstream_normed_nt, linewidth=linewidth, alpha=.7, color = 'blue')\n",
    "        sns.despine(ax=ax)\n",
    "        ax.set_ylim(min_height, max_height)\n",
    "        ax.set_xticklabels(range(-50,351,50),rotation=90)\n",
    "        ax.axvline(x=50,linestyle=':',alpha=0.5)\n",
    "        ax.set_ylabel(\"Mean Read Density\")\n",
    "            \n",
    "        \n",
    "        sns.set_style({'ytick.major.size':0})\n",
    "        \n",
    "        \n",
    "        ax = fig.add_subplot(1,4,2)\n",
    "        ax.plot(region2, linewidth=linewidth, alpha=.7, color = color)\n",
    "        # ax.plot(five_skipped_normed_nt, linewidth=linewidth, alpha=.7, color = 'blue')\n",
    "            \n",
    "        sns.despine(ax=ax, left=True)\n",
    "        ax.set_ylim(min_height, max_height)\n",
    "        ax.set_xticklabels(range(-300,51,50),rotation=90)\n",
    "        ax.axvline(x=300,linestyle=':',alpha=0.5)\n",
    "        ax.set_yticklabels([])\n",
    "            \n",
    "        \n",
    "        \n",
    "        \n",
    "        \n",
    "        ax = fig.add_subplot(1,4,3)\n",
    "        ax.plot(region3, linewidth=linewidth, alpha=.7, color = color)\n",
    "        # ax.plot(three_skipped_normed_nt, linewidth=linewidth, alpha=.7, color = 'blue')\n",
    "            \n",
    "        sns.despine(ax=ax, left=True)\n",
    "        ax.set_ylim(min_height, max_height)\n",
    "        \n",
    "        ax.set_yticklabels([])\n",
    "        ax.axvline(x=50,linestyle=':',alpha=0.5)\n",
    "        ax.set_xticklabels(range(-50,351,50),rotation=90)\n",
    "        \n",
    "        \n",
    "        ax = fig.add_subplot(1,4,4)\n",
    "        ax.plot(region4, linewidth=linewidth, alpha=.7, color = color)\n",
    "        # ax.plot(five_downstream_normed_nt, linewidth=linewidth, alpha=.7, color = 'blue')\n",
    "            \n",
    "        sns.despine(ax=ax, left=True)\n",
    "        ax.set_ylim(min_height, max_height)\n",
    "        ax.set_yticklabels([])\n",
    "        ax.axvline(x=300,linestyle=':',alpha=0.5)\n",
    "        ax.set_xticklabels(range(-300,51,50),rotation=90)\n",
    "        \n",
    "        \n",
    "        \n",
    "        plt.suptitle(title,y=1.03)"
   ]
  },
  {
   "cell_type": "code",
   "execution_count": 156,
   "metadata": {
    "collapsed": false
   },
   "outputs": [
    {
     "data": {
      "image/png": "[encoded data removed]",
      "text/plain": [
       "<matplotlib.figure.Figure at 0x2b438f91f2d0>"
      ]
     },
     "metadata": {},
     "output_type": "display_data"
    }
   ],
   "source": [
    "output_file = '/home/bay001/projects/maps_20160420/permanent_data/test.svg'\n",
    "four_frame(region1, region2, region3, region4, \"RBFOX2test.svg\",output_file)"
   ]
  },
  {
   "cell_type": "code",
   "execution_count": 172,
   "metadata": {
    "collapsed": false
   },
   "outputs": [
    {
     "data": {
      "text/html": [
       "<div>\n",
       "<table border=\"1\" class=\"dataframe\">\n",
       "  <thead>\n",
       "    <tr style=\"text-align: right;\">\n",
       "      <th></th>\n",
       "      <th>0</th>\n",
       "      <th>1</th>\n",
       "    </tr>\n",
       "  </thead>\n",
       "  <tbody>\n",
       "    <tr>\n",
       "      <th>0</th>\n",
       "      <td>three</td>\n",
       "      <td>3</td>\n",
       "    </tr>\n",
       "    <tr>\n",
       "      <th>1</th>\n",
       "      <td>two</td>\n",
       "      <td>2</td>\n",
       "    </tr>\n",
       "    <tr>\n",
       "      <th>2</th>\n",
       "      <td>one</td>\n",
       "      <td>1</td>\n",
       "    </tr>\n",
       "  </tbody>\n",
       "</table>\n",
       "</div>"
      ],
      "text/plain": [
       "       0  1\n",
       "0  three  3\n",
       "1    two  2\n",
       "2    one  1"
      ]
     },
     "execution_count": 172,
     "metadata": {},
     "output_type": "execute_result"
    }
   ],
   "source": [
    "spd = {'one':1,'two':2,'three':3}\n",
    "pd.DataFrame(spd.items())"
   ]
  },
  {
   "cell_type": "code",
   "execution_count": 83,
   "metadata": {
    "collapsed": false
   },
   "outputs": [
    {
     "data": {
      "text/plain": [
       "0      0.182521\n",
       "1      0.186459\n",
       "2      0.189412\n",
       "3      0.192159\n",
       "4      0.194070\n",
       "5      0.197098\n",
       "6      0.201161\n",
       "7      0.209438\n",
       "8      0.209780\n",
       "9      0.211167\n",
       "10     0.213984\n",
       "11     0.215868\n",
       "12     0.218059\n",
       "13     0.224410\n",
       "14     0.231051\n",
       "15     0.232524\n",
       "16     0.240417\n",
       "17     0.241270\n",
       "18     0.243244\n",
       "19     0.247625\n",
       "20     0.244654\n",
       "21     0.249623\n",
       "22     0.253384\n",
       "23     0.254437\n",
       "24     0.259094\n",
       "25     0.263664\n",
       "26     0.271670\n",
       "27     0.274346\n",
       "28     0.277167\n",
       "29     0.281300\n",
       "         ...   \n",
       "320    0.231388\n",
       "321    0.231992\n",
       "322    0.229035\n",
       "323    0.228409\n",
       "324    0.222652\n",
       "325    0.220375\n",
       "326    0.214990\n",
       "327    0.211029\n",
       "328    0.210700\n",
       "329    0.206416\n",
       "330    0.203075\n",
       "331    0.200231\n",
       "332    0.195606\n",
       "333    0.188073\n",
       "334    0.185466\n",
       "335    0.183292\n",
       "336    0.181322\n",
       "337    0.177684\n",
       "338    0.172424\n",
       "339    0.168210\n",
       "340    0.162759\n",
       "341    0.160077\n",
       "342    0.156446\n",
       "343    0.154621\n",
       "344    0.152764\n",
       "345    0.149558\n",
       "346    0.145051\n",
       "347    0.145045\n",
       "348    0.141532\n",
       "349    0.137927\n",
       "dtype: float64"
      ]
     },
     "execution_count": 83,
     "metadata": {},
     "output_type": "execute_result"
    }
   ],
   "source": [
    "region4"
   ]
  },
  {
   "cell_type": "code",
   "execution_count": null,
   "metadata": {
    "collapsed": true
   },
   "outputs": [],
   "source": []
  }
 ],
 "metadata": {
  "kernelspec": {
   "display_name": "Python 2",
   "language": "python",
   "name": "python2"
  },
  "language_info": {
   "codemirror_mode": {
    "name": "ipython",
    "version": 2
   },
   "file_extension": ".py",
   "mimetype": "text/x-python",
   "name": "python",
   "nbconvert_exporter": "python",
   "pygments_lexer": "ipython2",
   "version": "2.7.12"
  }
 },
 "nbformat": 4,
 "nbformat_minor": 0
}
