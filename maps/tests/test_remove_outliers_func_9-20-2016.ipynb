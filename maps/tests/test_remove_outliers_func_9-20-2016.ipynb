{
 "cells": [
  {
   "cell_type": "markdown",
   "metadata": {},
   "source": [
    "# scratchpad for piloting the remove-outliers function"
   ]
  },
  {
   "cell_type": "code",
   "execution_count": 63,
   "metadata": {
    "collapsed": true
   },
   "outputs": [],
   "source": [
    "%matplotlib inline\n",
    "import matplotlib.pyplot as plt\n",
    "import seaborn as sns\n",
    "import pandas as pd\n",
    "import numpy as np\n",
    "import os\n",
    "import glob\n",
    "import matplotlib.patches as mpatches\n",
    "\n",
    "from itertools import izip"
   ]
  },
  {
   "cell_type": "code",
   "execution_count": 64,
   "metadata": {
    "collapsed": false
   },
   "outputs": [
    {
     "data": {
      "text/html": [
       "<div>\n",
       "<table border=\"1\" class=\"dataframe\">\n",
       "  <thead>\n",
       "    <tr style=\"text-align: right;\">\n",
       "      <th></th>\n",
       "      <th>0</th>\n",
       "      <th>1</th>\n",
       "      <th>2</th>\n",
       "      <th>3</th>\n",
       "      <th>4</th>\n",
       "      <th>5</th>\n",
       "    </tr>\n",
       "  </thead>\n",
       "  <tbody>\n",
       "    <tr>\n",
       "      <th>A11_01_01</th>\n",
       "      <td>1314</td>\n",
       "      <td>156</td>\n",
       "      <td>1562</td>\n",
       "      <td>231</td>\n",
       "      <td>82</td>\n",
       "      <td>62</td>\n",
       "    </tr>\n",
       "    <tr>\n",
       "      <th>A11_02_01</th>\n",
       "      <td>1088</td>\n",
       "      <td>263</td>\n",
       "      <td>1247</td>\n",
       "      <td>234</td>\n",
       "      <td>90</td>\n",
       "      <td>72</td>\n",
       "    </tr>\n",
       "    <tr>\n",
       "      <th>A1_01_01</th>\n",
       "      <td>2821</td>\n",
       "      <td>42</td>\n",
       "      <td>34</td>\n",
       "      <td>1592</td>\n",
       "      <td>140</td>\n",
       "      <td>62</td>\n",
       "    </tr>\n",
       "    <tr>\n",
       "      <th>A1_02_01</th>\n",
       "      <td>3177</td>\n",
       "      <td>45</td>\n",
       "      <td>36</td>\n",
       "      <td>1757</td>\n",
       "      <td>138</td>\n",
       "      <td>65</td>\n",
       "    </tr>\n",
       "  </tbody>\n",
       "</table>\n",
       "</div>"
      ],
      "text/plain": [
       "              0    1     2     3    4   5\n",
       "A11_01_01  1314  156  1562   231   82  62\n",
       "A11_02_01  1088  263  1247   234   90  72\n",
       "A1_01_01   2821   42    34  1592  140  62\n",
       "A1_02_01   3177   45    36  1757  138  65"
      ]
     },
     "execution_count": 64,
     "metadata": {},
     "output_type": "execute_result"
    }
   ],
   "source": [
    "# this just makes a random dataframe, code stolen from some other notebook\n",
    "wd = '/home/bay001/projects/tbos_clipseq_20160809/analysis/v3_8-15-2016'\n",
    "bedhead = ['chrom','start','end','l10pval','l2fc','strand','ann','gene']\n",
    "regions = ['3utr','5utr','CDS','5utr_and_3utr','intron','noncoding_exon','noncoding_intron','intergenic']\n",
    "suffix = '.peaks.l2inputnormnew.bed.compressed.bed.annotated'\n",
    "\n",
    "FOLD_CHANGE_CUTOFF = 3\n",
    "PVALUE_CUTOFF = 5\n",
    "import re\n",
    "def get_counts(wd):\n",
    "    samples = {}\n",
    "    for f in glob.glob(os.path.join(wd,'*.annotated')):\n",
    "        df = pd.read_table(f,names=bedhead)\n",
    "        df = df[(df['l10pval'] > PVALUE_CUTOFF) & (df['l2fc'] > FOLD_CHANGE_CUTOFF)]\n",
    "        basename = f.replace(wd+'/','').replace(suffix,'')\n",
    "        basename = re.sub(r'\\.basedon_\\w+','',basename)\n",
    "        samples[basename] = {}\n",
    "        df['region'] = df.apply(return_region,axis=1)\n",
    "        for key,value in df['region'].value_counts().iteritems():\n",
    "            samples[basename][key] = value\n",
    "        for region in regions:\n",
    "            if region not in samples[basename]:\n",
    "                samples[basename][region] = 0\n",
    "    return samples\n",
    "def return_region(row):\n",
    "    region = row['ann'].split('|')[0]\n",
    "    \n",
    "    return region\n",
    "# take out intergenic and 3_and_5prime annotations per discussion 8-25-2016\n",
    "samples = get_counts(wd)\n",
    "df = pd.DataFrame(samples)\n",
    "df.drop('5utr_and_3utr',inplace=True)\n",
    "df.drop('intergenic',inplace=True)\n",
    "df = df.T\n",
    "\n",
    "# this is just messing around with a maps function, but i'm too lazy to make a new notebook :) \n",
    "df2 = df.head(4)\n",
    "df2.columns = range(0,6)\n",
    "df2"
   ]
  },
  {
   "cell_type": "code",
   "execution_count": 153,
   "metadata": {
    "collapsed": true
   },
   "outputs": [],
   "source": [
    "def remove_outliers(rbpdataframe, conf = 0.95):\n",
    "    x = 0\n",
    "    means = list()\n",
    "    sems = list()\n",
    "    for key, value in rbpdataframe.iteritems():\n",
    "        print(key)\n",
    "        df = rbpdataframe[key].dropna()\n",
    "        nums = len(df)\n",
    "        droppercent = (1-conf)/2.0\n",
    "        dropnum = int(nums*(droppercent))\n",
    "        df = df.sort_values()\n",
    "        if(dropnum>0):\n",
    "            df = df[dropnum:-dropnum]\n",
    "        \n",
    "        means.append(df.mean())\n",
    "        sems.append(df.sem())\n",
    "    return means, sems"
   ]
  },
  {
   "cell_type": "code",
   "execution_count": 154,
   "metadata": {
    "collapsed": false
   },
   "outputs": [
    {
     "name": "stdout",
     "output_type": "stream",
     "text": [
      "0\n",
      "1\n",
      "2\n",
      "3\n",
      "4\n",
      "5\n"
     ]
    }
   ],
   "source": [
    "m, s = remove_outliers(df2,0.5)\n"
   ]
  },
  {
   "cell_type": "code",
   "execution_count": 156,
   "metadata": {
    "collapsed": false
   },
   "outputs": [
    {
     "data": {
      "text/plain": [
       "list"
      ]
     },
     "execution_count": 156,
     "metadata": {},
     "output_type": "execute_result"
    }
   ],
   "source": [
    "type(m)"
   ]
  },
  {
   "cell_type": "code",
   "execution_count": 162,
   "metadata": {
    "collapsed": false
   },
   "outputs": [
    {
     "data": {
      "text/plain": [
       "array([ 116.66666667,  641.5       ,  913.        ,  114.        ,   63.5       ])"
      ]
     },
     "execution_count": 162,
     "metadata": {},
     "output_type": "execute_result"
    }
   ],
   "source": [
    "np.array(m)[1:]"
   ]
  },
  {
   "cell_type": "code",
   "execution_count": 56,
   "metadata": {
    "collapsed": false
   },
   "outputs": [
    {
     "data": {
      "text/html": [
       "<div>\n",
       "<table border=\"1\" class=\"dataframe\">\n",
       "  <thead>\n",
       "    <tr style=\"text-align: right;\">\n",
       "      <th></th>\n",
       "      <th>0</th>\n",
       "      <th>1</th>\n",
       "      <th>0</th>\n",
       "      <th>1</th>\n",
       "    </tr>\n",
       "  </thead>\n",
       "  <tbody>\n",
       "    <tr>\n",
       "      <th>A11_01_01</th>\n",
       "      <td>1314</td>\n",
       "      <td>156</td>\n",
       "      <td>1314</td>\n",
       "      <td>156</td>\n",
       "    </tr>\n",
       "    <tr>\n",
       "      <th>A11_02_01</th>\n",
       "      <td>1088</td>\n",
       "      <td>263</td>\n",
       "      <td>1088</td>\n",
       "      <td>263</td>\n",
       "    </tr>\n",
       "    <tr>\n",
       "      <th>A1_01_01</th>\n",
       "      <td>2821</td>\n",
       "      <td>42</td>\n",
       "      <td>2821</td>\n",
       "      <td>42</td>\n",
       "    </tr>\n",
       "    <tr>\n",
       "      <th>A1_02_01</th>\n",
       "      <td>3177</td>\n",
       "      <td>45</td>\n",
       "      <td>3177</td>\n",
       "      <td>45</td>\n",
       "    </tr>\n",
       "  </tbody>\n",
       "</table>\n",
       "</div>"
      ],
      "text/plain": [
       "              0    1     0    1\n",
       "A11_01_01  1314  156  1314  156\n",
       "A11_02_01  1088  263  1088  263\n",
       "A1_01_01   2821   42  2821   42\n",
       "A1_02_01   3177   45  3177   45"
      ]
     },
     "execution_count": 56,
     "metadata": {},
     "output_type": "execute_result"
    }
   ],
   "source": [
    "pd.concat([df2[df2.columns[:2]],df2[df2.columns[:2]]],axis=1)"
   ]
  },
  {
   "cell_type": "code",
   "execution_count": 61,
   "metadata": {
    "collapsed": false
   },
   "outputs": [],
   "source": [
    "x = np.array(list(range(0,5)))\n",
    "y = np.array(list(range(1,6)))"
   ]
  },
  {
   "cell_type": "code",
   "execution_count": 62,
   "metadata": {
    "collapsed": false
   },
   "outputs": [
    {
     "data": {
      "text/plain": [
       "array([-1, -1, -1, -1, -1])"
      ]
     },
     "execution_count": 62,
     "metadata": {},
     "output_type": "execute_result"
    }
   ],
   "source": [
    "x-y"
   ]
  },
  {
   "cell_type": "code",
   "execution_count": null,
   "metadata": {
    "collapsed": true
   },
   "outputs": [],
   "source": []
  }
 ],
 "metadata": {
  "kernelspec": {
   "display_name": "Python 2",
   "language": "python",
   "name": "python2"
  },
  "language_info": {
   "codemirror_mode": {
    "name": "ipython",
    "version": 2
   },
   "file_extension": ".py",
   "mimetype": "text/x-python",
   "name": "python",
   "nbconvert_exporter": "python",
   "pygments_lexer": "ipython2",
   "version": "2.7.12"
  }
 },
 "nbformat": 4,
 "nbformat_minor": 0
}
