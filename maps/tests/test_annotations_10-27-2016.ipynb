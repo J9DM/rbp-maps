{
 "cells": [
  {
   "cell_type": "code",
   "execution_count": 1,
   "metadata": {
    "collapsed": true
   },
   "outputs": [],
   "source": [
    "import pandas as pd\n",
    "import os\n",
    "import numpy as np"
   ]
  },
  {
   "cell_type": "code",
   "execution_count": 2,
   "metadata": {
    "collapsed": false
   },
   "outputs": [
    {
     "data": {
      "text/html": [
       "<div>\n",
       "<table border=\"1\" class=\"dataframe\">\n",
       "  <thead>\n",
       "    <tr style=\"text-align: right;\">\n",
       "      <th></th>\n",
       "      <th>ID</th>\n",
       "      <th>GeneID</th>\n",
       "      <th>geneSymbol</th>\n",
       "      <th>chr</th>\n",
       "      <th>strand</th>\n",
       "      <th>exonStart_0base</th>\n",
       "      <th>exonEnd</th>\n",
       "      <th>upstreamES</th>\n",
       "      <th>upstreamEE</th>\n",
       "      <th>downstreamES</th>\n",
       "      <th>...</th>\n",
       "      <th>SJC_SAMPLE_1</th>\n",
       "      <th>IJC_SAMPLE_2</th>\n",
       "      <th>SJC_SAMPLE_2</th>\n",
       "      <th>IncFormLen</th>\n",
       "      <th>SkipFormLen</th>\n",
       "      <th>PValue</th>\n",
       "      <th>FDR</th>\n",
       "      <th>IncLevel1</th>\n",
       "      <th>IncLevel2</th>\n",
       "      <th>IncLevelDifference</th>\n",
       "    </tr>\n",
       "  </thead>\n",
       "  <tbody>\n",
       "    <tr>\n",
       "      <th>0</th>\n",
       "      <td>12823</td>\n",
       "      <td>ENSG00000131504.11</td>\n",
       "      <td>DIAPH1</td>\n",
       "      <td>chr5</td>\n",
       "      <td>-</td>\n",
       "      <td>140967790</td>\n",
       "      <td>140967817</td>\n",
       "      <td>140966608</td>\n",
       "      <td>140966764</td>\n",
       "      <td>140998364</td>\n",
       "      <td>...</td>\n",
       "      <td>74,29</td>\n",
       "      <td>40,24</td>\n",
       "      <td>3,6</td>\n",
       "      <td>126</td>\n",
       "      <td>100</td>\n",
       "      <td>0.0</td>\n",
       "      <td>0.0</td>\n",
       "      <td>0.07,0.0</td>\n",
       "      <td>0.914,0.76</td>\n",
       "      <td>-0.802</td>\n",
       "    </tr>\n",
       "    <tr>\n",
       "      <th>1</th>\n",
       "      <td>1579</td>\n",
       "      <td>ENSG00000122591.7</td>\n",
       "      <td>FAM126A</td>\n",
       "      <td>chr7</td>\n",
       "      <td>-</td>\n",
       "      <td>22986570</td>\n",
       "      <td>22986866</td>\n",
       "      <td>22980887</td>\n",
       "      <td>22985782</td>\n",
       "      <td>22999874</td>\n",
       "      <td>...</td>\n",
       "      <td>26,57</td>\n",
       "      <td>51,59</td>\n",
       "      <td>16,18</td>\n",
       "      <td>199</td>\n",
       "      <td>100</td>\n",
       "      <td>0.0</td>\n",
       "      <td>0.0</td>\n",
       "      <td>0.019,0.058</td>\n",
       "      <td>0.616,0.622</td>\n",
       "      <td>-0.581</td>\n",
       "    </tr>\n",
       "  </tbody>\n",
       "</table>\n",
       "<p>2 rows × 23 columns</p>\n",
       "</div>"
      ],
      "text/plain": [
       "      ID              GeneID geneSymbol   chr strand  exonStart_0base  \\\n",
       "0  12823  ENSG00000131504.11     DIAPH1  chr5      -        140967790   \n",
       "1   1579   ENSG00000122591.7    FAM126A  chr7      -         22986570   \n",
       "\n",
       "     exonEnd  upstreamES  upstreamEE  downstreamES         ...          \\\n",
       "0  140967817   140966608   140966764     140998364         ...           \n",
       "1   22986866    22980887    22985782      22999874         ...           \n",
       "\n",
       "   SJC_SAMPLE_1  IJC_SAMPLE_2 SJC_SAMPLE_2 IncFormLen SkipFormLen PValue  FDR  \\\n",
       "0         74,29         40,24          3,6        126         100    0.0  0.0   \n",
       "1         26,57         51,59        16,18        199         100    0.0  0.0   \n",
       "\n",
       "     IncLevel1    IncLevel2  IncLevelDifference  \n",
       "0     0.07,0.0   0.914,0.76              -0.802  \n",
       "1  0.019,0.058  0.616,0.622              -0.581  \n",
       "\n",
       "[2 rows x 23 columns]"
      ]
     },
     "execution_count": 2,
     "metadata": {},
     "output_type": "execute_result"
    }
   ],
   "source": [
    "rbfox2 = pd.read_table('/projects/ps-yeolab3/bay001/maps/annotations/RBFOX2-HepG2-SE.txt')\n",
    "rbfox2.head(2)"
   ]
  },
  {
   "cell_type": "code",
   "execution_count": 9,
   "metadata": {
    "collapsed": false
   },
   "outputs": [
    {
     "data": {
      "text/plain": [
       "(4069, 23)"
      ]
     },
     "execution_count": 9,
     "metadata": {},
     "output_type": "execute_result"
    }
   ],
   "source": [
    "rbfox2[(rbfox2['IncLevelDifference']>0.1)].shape"
   ]
  },
  {
   "cell_type": "code",
   "execution_count": 8,
   "metadata": {
    "collapsed": false
   },
   "outputs": [
    {
     "data": {
      "text/plain": [
       "(508, 23)"
      ]
     },
     "execution_count": 8,
     "metadata": {},
     "output_type": "execute_result"
    }
   ],
   "source": [
    "rbfox2[(rbfox2['IncLevelDifference']>0.1) &\n",
    "       (rbfox2['PValue']<0.05)].shape"
   ]
  },
  {
   "cell_type": "code",
   "execution_count": null,
   "metadata": {
    "collapsed": true
   },
   "outputs": [],
   "source": []
  }
 ],
 "metadata": {
  "kernelspec": {
   "display_name": "Python 2",
   "language": "python",
   "name": "python2"
  },
  "language_info": {
   "codemirror_mode": {
    "name": "ipython",
    "version": 2
   },
   "file_extension": ".py",
   "mimetype": "text/x-python",
   "name": "python",
   "nbconvert_exporter": "python",
   "pygments_lexer": "ipython2",
   "version": "2.7.12"
  }
 },
 "nbformat": 4,
 "nbformat_minor": 1
}
