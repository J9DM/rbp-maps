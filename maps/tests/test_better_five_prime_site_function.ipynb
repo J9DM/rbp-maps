{
 "cells": [
  {
   "cell_type": "code",
   "execution_count": 1,
   "metadata": {
    "collapsed": false
   },
   "outputs": [
    {
     "name": "stdout",
     "output_type": "stream",
     "text": [
      "/home/bay001/projects/codebase/rbfox2/204_01_RBFOX2.merged.r2.bam\n",
      "/home/bay001/projects/codebase/rbfox2/RBFOX2-204-INPUT_S2_R1.unassigned.adapterTrim.round2.rmRep.rmDup.sorted.r2.bam\n"
     ]
    }
   ],
   "source": [
    "%reload_ext autoreload\n",
    "%autoreload 2\n",
    "import pandas as pd\n",
    "import numpy as np\n",
    "import os\n",
    "import sys\n",
    "import math\n",
    "\n",
    "sys.path.insert(0, '/home/bay001/projects/codebase/rbp-maps/maps/')\n",
    "from pandas.util.testing import assert_frame_equal\n",
    "from density import ReadDensity\n",
    "from density import normalization_functions as norm\n",
    "from density import deprecated_interval_functions\n",
    "from density import intervals\n",
    "from density import Feature\n",
    "\n",
    "import math\n",
    "\n",
    "pd.set_option('max_colwidth', 1000)\n",
    "pd.set_option('display.max_rows', 1500)\n",
    "\n",
    "wd = '/home/bay001/projects/codebase/rbfox2/'\n",
    "\n",
    "regions = os.path.join(\n",
    "    wd,\n",
    "    'RBFOX2-BGHLV26-HepG2-SE.MATS.JunctionCountOnly.txt'\n",
    ")\n",
    "\n",
    "ip_bam = os.path.join(\n",
    "    wd,\n",
    "    '204_01_RBFOX2.merged.r2.bam'\n",
    ")\n",
    "input_bam = os.path.join(\n",
    "    wd,\n",
    "    'RBFOX2-204-INPUT_S2_R1.unassigned.adapterTrim.round2.rmRep.rmDup.sorted.r2.bam'\n",
    ")\n",
    "\n",
    "ip_pos_bw = os.path.join(\n",
    "    wd,\n",
    "    '204_01_RBFOX2.merged.r2.norm.neg.bw'\n",
    ") # flipped?\n",
    "ip_neg_bw = os.path.join(\n",
    "    wd,\n",
    "    '204_01_RBFOX2.merged.r2.norm.pos.bw'\n",
    ") # flipped?\n",
    "input_pos_bw = os.path.join(\n",
    "    wd,\n",
    "    'RBFOX2-204-INPUT_S2_R1.unassigned.adapterTrim.round2.rmRep.rmDup.sorted.r2.norm.neg.bw'\n",
    ") # flipped?\n",
    "input_neg_bw = os.path.join(\n",
    "    wd,\n",
    "    'RBFOX2-204-INPUT_S2_R1.unassigned.adapterTrim.round2.rmRep.rmDup.sorted.r2.norm.pos.bw'\n",
    ") # flipped?\n",
    "\n",
    "ip_read_density = ReadDensity.ReadDensity(\n",
    "    pos = ip_pos_bw,\n",
    "    neg = ip_neg_bw,\n",
    "    bam = ip_bam\n",
    ")\n",
    "\n",
    "input_read_density = ReadDensity.ReadDensity(\n",
    "    pos = input_pos_bw,\n",
    "    neg = input_neg_bw,\n",
    "    bam = input_bam\n",
    ")\n",
    "annotation_file = '/home/bay001/projects/codebase/rbfox2/RBFOX2-BGHLV26-HepG2-SE.MATS.JunctionCountOnly.txt'\n",
    "\n",
    "def nan_to_num(somelist,num=-1):\n",
    "    return [num if math.isnan(x) else x for x in somelist]"
   ]
  },
  {
   "cell_type": "code",
   "execution_count": 2,
   "metadata": {
    "collapsed": false
   },
   "outputs": [],
   "source": [
    "exon_offset = 50\n",
    "intron_offset = 300\n",
    "with open(annotation_file,'r') as f:\n",
    "    f.next()\n",
    "    for line in f:\n",
    "        f = Feature.SkippedExonFeature(\n",
    "            annotation=line.strip(),\n",
    "            source='rmats'\n",
    "        )\n",
    "        up, skip, down = f.get_bedtools()\n",
    "        ofpad,original,otpad = deprecated_interval_functions.five_prime_site(ip_read_density,skip,down,exon_offset,intron_offset)\n",
    "        bfpad,better,btpad = intervals.five_prime_site(ip_read_density,skip,down,exon_offset,intron_offset)\n",
    "        try:\n",
    "            assert(ofpad == bfpad)\n",
    "            assert(otpad == btpad)\n",
    "            assert(\n",
    "                nan_to_num(original)==nan_to_num(better)\n",
    "            )\n",
    "        except AssertionError:\n",
    "            print(ofpad,bfpad,up,skip, otpad,btpad, len(original), len(better), skip.strand)\n",
    "            break"
   ]
  },
  {
   "cell_type": "code",
   "execution_count": 3,
   "metadata": {
    "collapsed": false
   },
   "outputs": [],
   "source": [
    "exon_offset = 50\n",
    "intron_offset = 300\n",
    "with open(annotation_file,'r') as f:\n",
    "    f.next()\n",
    "    for line in f:\n",
    "        f = Feature.SkippedExonFeature(\n",
    "            annotation=line.strip(),\n",
    "            source='rmats'\n",
    "        )\n",
    "        up, skip, down = f.get_bedtools()\n",
    "        ofpad,original,otpad = deprecated_interval_functions.three_prime_site(ip_read_density,up,skip,exon_offset,intron_offset)\n",
    "        bfpad,better,btpad = intervals.three_prime_site(ip_read_density,up,skip,exon_offset,intron_offset)\n",
    "        try:\n",
    "            assert(ofpad == bfpad)\n",
    "            assert(otpad == btpad)\n",
    "            assert(\n",
    "                nan_to_num(original)==nan_to_num(better)\n",
    "            )\n",
    "        except AssertionError:\n",
    "            print(ofpad,bfpad,up,skip, otpad,btpad, len(original), len(better), skip.strand)\n",
    "            break"
   ]
  },
  {
   "cell_type": "markdown",
   "metadata": {
    "collapsed": true
   },
   "source": [
    "# Test without neighboring exon"
   ]
  },
  {
   "cell_type": "code",
   "execution_count": 4,
   "metadata": {
    "collapsed": false
   },
   "outputs": [],
   "source": [
    "exon_offset = 50\n",
    "intron_offset = 300\n",
    "with open(annotation_file,'r') as f:\n",
    "    f.next()\n",
    "    for line in f:\n",
    "        f = Feature.SkippedExonFeature(\n",
    "            annotation=line.strip(),\n",
    "            source='rmats'\n",
    "        )\n",
    "        up, skip, down = f.get_bedtools()\n",
    "        bfpad,better,btpad = intervals.five_prime_site(ip_read_density,None,skip,exon_offset,intron_offset)\n",
    "        if(bfpad+len(better)+btpad) != (exon_offset + intron_offset):\n",
    "            print(\"BAD!\")"
   ]
  },
  {
   "cell_type": "code",
   "execution_count": null,
   "metadata": {
    "collapsed": true
   },
   "outputs": [],
   "source": []
  }
 ],
 "metadata": {
  "kernelspec": {
   "display_name": "Python 2",
   "language": "python",
   "name": "python2"
  },
  "language_info": {
   "codemirror_mode": {
    "name": "ipython",
    "version": 2
   },
   "file_extension": ".py",
   "mimetype": "text/x-python",
   "name": "python",
   "nbconvert_exporter": "python",
   "pygments_lexer": "ipython2",
   "version": "2.7.12"
  }
 },
 "nbformat": 4,
 "nbformat_minor": 1
}
