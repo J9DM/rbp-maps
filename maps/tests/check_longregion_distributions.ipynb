{
 "cells": [
  {
   "cell_type": "code",
   "execution_count": 128,
   "metadata": {
    "collapsed": true
   },
   "outputs": [],
   "source": [
    "%matplotlib inline\n",
    "import matplotlib.pyplot as plt\n",
    "import pandas as pd\n",
    "import numpy as np\n"
   ]
  },
  {
   "cell_type": "code",
   "execution_count": 129,
   "metadata": {
    "collapsed": false
   },
   "outputs": [],
   "source": [
    "# How we calculate the distribution over a region of variable length "
   ]
  },
  {
   "cell_type": "code",
   "execution_count": 130,
   "metadata": {
    "collapsed": false
   },
   "outputs": [
    {
     "data": {
      "text/plain": [
       "[<matplotlib.lines.Line2D at 0x2b6257909a90>]"
      ]
     },
     "execution_count": 130,
     "metadata": {},
     "output_type": "execute_result"
    },
    {
     "data": {
      "image/png": "[encoded data removed]",
      "text/plain": [
       "<matplotlib.figure.Figure at 0x2b6262186390>"
      ]
     },
     "metadata": {},
     "output_type": "display_data"
    }
   ],
   "source": [
    "# Raw density file over the region: chr11:95,883,299-95,884,440 for 204_01_RBFOX2\n",
    "# The bw files are here: /projects/ps-yeolab3/encode/analysis/encode_v12/204_01_RBFOX2.merged.r2.norm.pos.bw\n",
    "longregion_rawdensities = pd.read_table('/home/bay001/projects/maps_20160420/analysis/tests/longregion.rawdensities.csv')\n",
    "longregion_rawdensities.fillna(0,inplace=True)\n",
    "plt.plot(abs(longregion_rawdensities)+1)"
   ]
  },
  {
   "cell_type": "code",
   "execution_count": 131,
   "metadata": {
    "collapsed": false
   },
   "outputs": [],
   "source": [
    "import itertools\n",
    "\n",
    "def chunks(l, n):\n",
    "    \"\"\"\n",
    "    Yield successive n-sized chunks from l.\n",
    "    \"\"\"\n",
    "    for i in range(0, len(l), n):\n",
    "        yield l[i:i+n].mean()\n",
    "\n",
    "def multiply(n):\n",
    "    return [n]*100"
   ]
  },
  {
   "cell_type": "code",
   "execution_count": 136,
   "metadata": {
    "collapsed": false
   },
   "outputs": [],
   "source": [
    "def get_distribution(wiggle):\n",
    "    \"\"\"\n",
    "    given a list of arbitrary length > 100, \n",
    "    normalize them into a list of length 100\n",
    "    \"\"\"\n",
    "    if len(wiggle) < 100:\n",
    "        wiggle = list(itertools.chain.from_iterable([multiply(w) for w in wiggle]))\n",
    "        # wiggle = pd.Series(np.vstack(([wiggle]*100)).reshape((-1,),order='F'))\n",
    "    wiggle = (chunks(pd.Series(wiggle),len(wiggle)/100))\n",
    "    wiggle = pd.Series(wiggle)\n",
    "    \n",
    "    return wiggle"
   ]
  },
  {
   "cell_type": "code",
   "execution_count": 137,
   "metadata": {
    "collapsed": false
   },
   "outputs": [],
   "source": [
    "def get_distribution2(wiggle):\n",
    "    \n",
    "    dist = {0:0}\n",
    "    x = 0\n",
    "    step = 0.01\n",
    "    y = 0\n",
    "    if len(wiggle) < 100:\n",
    "        wiggle = pd.Series(list(itertools.chain.from_iterable([multiply(w) for w in wiggle])))\n",
    "    for pos, value in enumerate(wiggle):\n",
    "        #print(\"pos: {}, len(wiggle): {}\".format(pos+1,len(wiggle)))\n",
    "        if(float(pos+1)/len(wiggle)) < step:\n",
    "            y = y + 1\n",
    "            \"\"\"print(\"DOESNT make the next step: {}/{} = {}, x = {}, y = {}\".format(pos+1,len(wiggle),\n",
    "                                                                                   float(pos+1)/len(wiggle),\n",
    "                                                                                   x,y))\"\"\"\n",
    "            \n",
    "            dist[x] = dist[x] + value\n",
    "            # print(\"dist[{}] = {}\".format(x,dist[x]))\n",
    "            \n",
    "        else:\n",
    "            \"\"\"print(\"DOES make the next step: {}/{} = {}, x = {}, y = {}\".format(pos+1,len(wiggle),\n",
    "                                                                                   float(pos+1)/len(wiggle),\n",
    "                                                                                   x,y))\"\"\"\n",
    "            dist[x] = dist[x] / y\n",
    "            # print(\"dist[{}] = {} after dividing by {}\".format(x,dist[x],y))\n",
    "            step = step + 0.01\n",
    "            x = x + 1\n",
    "            dist[x] = value\n",
    "            # print(\"dist[{}] = {}\".format(x,dist[x]))\n",
    "            y = 1\n",
    "    dist[x] = dist[x] / y\n",
    "    # print(\"dist[{}] = {} after dividing by {}\".format(x,dist[x],y))\n",
    "    return(pd.Series(dist))"
   ]
  },
  {
   "cell_type": "code",
   "execution_count": 138,
   "metadata": {
    "collapsed": false
   },
   "outputs": [],
   "source": [
    "def get_distribution3(wiggle):\n",
    "    \n",
    "    dist = [0]*100\n",
    "    x = 0\n",
    "    step = 0.01\n",
    "    y = 0\n",
    "    if len(wiggle) < 100:\n",
    "        wiggle = pd.Series(list(itertools.chain.from_iterable([multiply(w) for w in wiggle])))\n",
    "    for pos, value in enumerate(wiggle):\n",
    "        #print(\"pos: {}, len(wiggle): {}\".format(pos+1,len(wiggle)))\n",
    "        if(float(pos+1)/len(wiggle)) < step:\n",
    "            y = y + 1\n",
    "            \"\"\"print(\"DOESNT make the next step: {}/{} = {}, x = {}, y = {}\".format(pos+1,len(wiggle),\n",
    "                                                                                   float(pos+1)/len(wiggle),\n",
    "                                                                                   x,y))\"\"\"\n",
    "            \n",
    "            dist[x] = dist[x] + value\n",
    "            # print(\"dist[{}] = {}\".format(x,dist[x]))\n",
    "            \n",
    "        else:\n",
    "            \"\"\"print(\"DOES make the next step: {}/{} = {}, x = {}, y = {}\".format(pos+1,len(wiggle),\n",
    "                                                                                   float(pos+1)/len(wiggle),\n",
    "                                                                                   x,y))\"\"\"\n",
    "            dist[x] = dist[x] / y\n",
    "            # print(\"dist[{}] = {} after dividing by {}\".format(x,dist[x],y))\n",
    "            step = step + 0.01\n",
    "            x = x + 1\n",
    "            dist[x] = value\n",
    "            # print(\"dist[{}] = {}\".format(x,dist[x]))\n",
    "            y = 1\n",
    "    dist[x] = dist[x] / y\n",
    "    # print(\"dist[{}] = {} after dividing by {}\".format(x,dist[x],y))\n",
    "    return(pd.Series(dist))"
   ]
  },
  {
   "cell_type": "code",
   "execution_count": 139,
   "metadata": {
    "collapsed": false
   },
   "outputs": [
    {
     "data": {
      "text/plain": [
       "[<matplotlib.lines.Line2D at 0x2b625723c590>]"
      ]
     },
     "execution_count": 139,
     "metadata": {},
     "output_type": "execute_result"
    },
    {
     "data": {
      "image/png": "[encoded data removed]",
      "text/plain": [
       "<matplotlib.figure.Figure at 0x2b6257317bd0>"
      ]
     },
     "metadata": {},
     "output_type": "display_data"
    }
   ],
   "source": [
    "wiggle = pd.Series(longregion_rawdensities['Unnamed: 0'])\n",
    "plt.plot(abs(get_distribution(wiggle)))"
   ]
  },
  {
   "cell_type": "code",
   "execution_count": 109,
   "metadata": {
    "collapsed": false
   },
   "outputs": [
    {
     "data": {
      "text/plain": [
       "[<matplotlib.lines.Line2D at 0x2b62543de590>]"
      ]
     },
     "execution_count": 109,
     "metadata": {},
     "output_type": "execute_result"
    },
    {
     "data": {
      "image/png": "[encoded data removed]",
      "text/plain": [
       "<matplotlib.figure.Figure at 0x2b6254384410>"
      ]
     },
     "metadata": {},
     "output_type": "display_data"
    }
   ],
   "source": [
    "wiggle = pd.Series(longregion_rawdensities['Unnamed: 0'])\n",
    "plt.plot(abs(get_distribution2(wiggle)))"
   ]
  },
  {
   "cell_type": "code",
   "execution_count": 110,
   "metadata": {
    "collapsed": false
   },
   "outputs": [
    {
     "data": {
      "text/plain": [
       "[<matplotlib.lines.Line2D at 0x2b6254493e10>]"
      ]
     },
     "execution_count": 110,
     "metadata": {},
     "output_type": "execute_result"
    },
    {
     "data": {
      "image/png": "[encoded data removed]",
      "text/plain": [
       "<matplotlib.figure.Figure at 0x2b62543b70d0>"
      ]
     },
     "metadata": {},
     "output_type": "display_data"
    }
   ],
   "source": [
    "wiggle = pd.Series(longregion_rawdensities['Unnamed: 0'])\n",
    "plt.plot(abs(get_distribution3(wiggle)))"
   ]
  },
  {
   "cell_type": "code",
   "execution_count": 98,
   "metadata": {
    "collapsed": true
   },
   "outputs": [],
   "source": []
  },
  {
   "cell_type": "code",
   "execution_count": 89,
   "metadata": {
    "collapsed": false
   },
   "outputs": [
    {
     "data": {
      "text/plain": [
       "[<matplotlib.lines.Line2D at 0x2b62542d43d0>]"
      ]
     },
     "execution_count": 89,
     "metadata": {},
     "output_type": "execute_result"
    },
    {
     "data": {
      "image/png": "[encoded data removed]",
      "text/plain": [
       "<matplotlib.figure.Figure at 0x2b6254055450>"
      ]
     },
     "metadata": {},
     "output_type": "display_data"
    }
   ],
   "source": []
  },
  {
   "cell_type": "code",
   "execution_count": 127,
   "metadata": {
    "collapsed": false
   },
   "outputs": [
    {
     "name": "stdout",
     "output_type": "stream",
     "text": [
      "10 loops, best of 3: 21.3 ms per loop\n"
     ]
    }
   ],
   "source": [
    "%timeit get_distribution(wiggle)"
   ]
  },
  {
   "cell_type": "code",
   "execution_count": 112,
   "metadata": {
    "collapsed": false
   },
   "outputs": [
    {
     "name": "stdout",
     "output_type": "stream",
     "text": [
      "100 loops, best of 3: 3.98 ms per loop\n"
     ]
    }
   ],
   "source": [
    "%timeit get_distribution2(wiggle)"
   ]
  },
  {
   "cell_type": "code",
   "execution_count": 113,
   "metadata": {
    "collapsed": false
   },
   "outputs": [
    {
     "name": "stdout",
     "output_type": "stream",
     "text": [
      "100 loops, best of 3: 3.8 ms per loop\n"
     ]
    }
   ],
   "source": [
    "%timeit get_distribution3(wiggle)"
   ]
  },
  {
   "cell_type": "code",
   "execution_count": 114,
   "metadata": {
    "collapsed": false
   },
   "outputs": [
    {
     "name": "stdout",
     "output_type": "stream",
     "text": [
      "10 loops, best of 3: 70 ms per loop\n"
     ]
    }
   ],
   "source": [
    "wiggle = pd.Series(np.arange(0,99999))\n",
    "%timeit c = pd.Series(np.vstack(([wiggle]*100)).reshape((-1,),order='F'))"
   ]
  },
  {
   "cell_type": "code",
   "execution_count": 118,
   "metadata": {
    "collapsed": false
   },
   "outputs": [
    {
     "name": "stdout",
     "output_type": "stream",
     "text": [
      "1 loops, best of 3: 3.3 s per loop\n"
     ]
    }
   ],
   "source": [
    "wiggle = pd.Series(np.arange(0,99999))\n",
    "%timeit d = pd.Series(list(itertools.chain.from_iterable([multiply(w) for w in wiggle])))"
   ]
  },
  {
   "cell_type": "code",
   "execution_count": 124,
   "metadata": {
    "collapsed": false
   },
   "outputs": [
    {
     "data": {
      "text/plain": [
       "Series([], dtype: int64)"
      ]
     },
     "execution_count": 124,
     "metadata": {},
     "output_type": "execute_result"
    }
   ],
   "source": [
    "c = pd.Series(np.vstack(([wiggle]*100)).reshape((-1,),order='F'))\n",
    "d = pd.Series(list(itertools.chain.from_iterable([multiply(w) for w in wiggle])))\n",
    "c[c != d]"
   ]
  },
  {
   "cell_type": "code",
   "execution_count": 125,
   "metadata": {
    "collapsed": false
   },
   "outputs": [
    {
     "data": {
      "text/plain": [
       "Series([], dtype: int64)"
      ]
     },
     "execution_count": 125,
     "metadata": {},
     "output_type": "execute_result"
    }
   ],
   "source": [
    "d[c != d]"
   ]
  },
  {
   "cell_type": "code",
   "execution_count": null,
   "metadata": {
    "collapsed": false
   },
   "outputs": [],
   "source": []
  },
  {
   "cell_type": "code",
   "execution_count": null,
   "metadata": {
    "collapsed": false
   },
   "outputs": [],
   "source": []
  },
  {
   "cell_type": "code",
   "execution_count": null,
   "metadata": {
    "collapsed": false
   },
   "outputs": [],
   "source": []
  },
  {
   "cell_type": "code",
   "execution_count": 141,
   "metadata": {
    "collapsed": false
   },
   "outputs": [],
   "source": [
    "import pybedtools as bt\n",
    "basic_exons = bt.BedTool('/home/ecwheele/data/analysis/clip/region_annotations_basic/end_of_basic_exons.bed')"
   ]
  },
  {
   "cell_type": "code",
   "execution_count": 144,
   "metadata": {
    "collapsed": false
   },
   "outputs": [
    {
     "name": "stdout",
     "output_type": "stream",
     "text": [
      "chrX\t15529559\t15529641\texon_699039\t.\t+\n",
      "\n"
     ]
    },
    {
     "data": {
      "text/plain": [
       "0"
      ]
     },
     "execution_count": 144,
     "metadata": {},
     "output_type": "execute_result"
    }
   ],
   "source": [
    "def test():\n",
    "    for feature in basic_exons:\n",
    "        print str(feature)\n",
    "        return 0\n",
    "test()"
   ]
  },
  {
   "cell_type": "code",
   "execution_count": null,
   "metadata": {
    "collapsed": false
   },
   "outputs": [],
   "source": [
    "test = pd.Series([9])\n",
    "\n",
    "def multiply(n):\n",
    "    \n"
   ]
  },
  {
   "cell_type": "code",
   "execution_count": null,
   "metadata": {
    "collapsed": true
   },
   "outputs": [],
   "source": []
  }
 ],
 "metadata": {
  "kernelspec": {
   "display_name": "Python 2",
   "language": "python",
   "name": "python2"
  },
  "language_info": {
   "codemirror_mode": {
    "name": "ipython",
    "version": 2
   },
   "file_extension": ".py",
   "mimetype": "text/x-python",
   "name": "python",
   "nbconvert_exporter": "python",
   "pygments_lexer": "ipython2",
   "version": "2.7.11"
  }
 },
 "nbformat": 4,
 "nbformat_minor": 0
}
