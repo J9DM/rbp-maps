{
 "cells": [
  {
   "cell_type": "code",
   "execution_count": 8,
   "metadata": {
    "collapsed": true
   },
   "outputs": [],
   "source": [
    "%matplotlib inline\n",
    "import matplotlib.pyplot as plt\n",
    "import pandas as pd\n",
    "import numpy as np"
   ]
  },
  {
   "cell_type": "code",
   "execution_count": 2,
   "metadata": {
    "collapsed": true
   },
   "outputs": [],
   "source": [
    "X = pd.read_table('/projects/ps-yeolab3/encode/rnaseq/alt_splicing/graveley_rmats/RBFOX2-BGHLV26-HepG2-A3SS.MATS.JunctionCountOnly.txt')"
   ]
  },
  {
   "cell_type": "code",
   "execution_count": 13,
   "metadata": {
    "collapsed": false
   },
   "outputs": [
    {
     "data": {
      "text/html": [
       "<div>\n",
       "<table border=\"1\" class=\"dataframe\">\n",
       "  <thead>\n",
       "    <tr style=\"text-align: right;\">\n",
       "      <th></th>\n",
       "      <th>ID</th>\n",
       "      <th>GeneID</th>\n",
       "      <th>geneSymbol</th>\n",
       "      <th>chr</th>\n",
       "      <th>strand</th>\n",
       "      <th>longExonStart_0base</th>\n",
       "      <th>longExonEnd</th>\n",
       "      <th>shortES</th>\n",
       "      <th>shortEE</th>\n",
       "      <th>flankingES</th>\n",
       "      <th>...</th>\n",
       "      <th>SJC_SAMPLE_1</th>\n",
       "      <th>IJC_SAMPLE_2</th>\n",
       "      <th>SJC_SAMPLE_2</th>\n",
       "      <th>IncFormLen</th>\n",
       "      <th>SkipFormLen</th>\n",
       "      <th>PValue</th>\n",
       "      <th>FDR</th>\n",
       "      <th>IncLevel1</th>\n",
       "      <th>IncLevel2</th>\n",
       "      <th>IncLevelDifference</th>\n",
       "    </tr>\n",
       "  </thead>\n",
       "  <tbody>\n",
       "    <tr>\n",
       "      <th>1</th>\n",
       "      <td>11903</td>\n",
       "      <td>ENSG00000147789.11</td>\n",
       "      <td>ZNF7</td>\n",
       "      <td>chr8</td>\n",
       "      <td>+</td>\n",
       "      <td>146062775</td>\n",
       "      <td>146062892</td>\n",
       "      <td>146062778</td>\n",
       "      <td>146062892</td>\n",
       "      <td>146054862</td>\n",
       "      <td>...</td>\n",
       "      <td>0,3</td>\n",
       "      <td>11,2</td>\n",
       "      <td>14,2</td>\n",
       "      <td>102</td>\n",
       "      <td>100</td>\n",
       "      <td>4.297773e-07</td>\n",
       "      <td>0.004892</td>\n",
       "      <td>1.0,0.938</td>\n",
       "      <td>0.435,0.495</td>\n",
       "      <td>0.504</td>\n",
       "    </tr>\n",
       "    <tr>\n",
       "      <th>2</th>\n",
       "      <td>10907</td>\n",
       "      <td>ENSG00000131876.12</td>\n",
       "      <td>SNRPA1</td>\n",
       "      <td>chr15</td>\n",
       "      <td>-</td>\n",
       "      <td>101826418</td>\n",
       "      <td>101826602</td>\n",
       "      <td>101826418</td>\n",
       "      <td>101826498</td>\n",
       "      <td>101827112</td>\n",
       "      <td>...</td>\n",
       "      <td>534,466</td>\n",
       "      <td>32,31</td>\n",
       "      <td>380,744</td>\n",
       "      <td>199</td>\n",
       "      <td>100</td>\n",
       "      <td>2.524943e-05</td>\n",
       "      <td>0.049805</td>\n",
       "      <td>0.057,0.064</td>\n",
       "      <td>0.041,0.021</td>\n",
       "      <td>0.029</td>\n",
       "    </tr>\n",
       "    <tr>\n",
       "      <th>5</th>\n",
       "      <td>5910</td>\n",
       "      <td>ENSG00000023191.12</td>\n",
       "      <td>RNH1</td>\n",
       "      <td>chr11</td>\n",
       "      <td>-</td>\n",
       "      <td>502061</td>\n",
       "      <td>502249</td>\n",
       "      <td>502061</td>\n",
       "      <td>502181</td>\n",
       "      <td>504823</td>\n",
       "      <td>...</td>\n",
       "      <td>8,10</td>\n",
       "      <td>91,70</td>\n",
       "      <td>34,14</td>\n",
       "      <td>167</td>\n",
       "      <td>100</td>\n",
       "      <td>1.803885e-05</td>\n",
       "      <td>0.049805</td>\n",
       "      <td>0.915,0.878</td>\n",
       "      <td>0.616,0.75</td>\n",
       "      <td>0.214</td>\n",
       "    </tr>\n",
       "    <tr>\n",
       "      <th>6</th>\n",
       "      <td>16425</td>\n",
       "      <td>ENSG00000086504.11</td>\n",
       "      <td>MRPL28</td>\n",
       "      <td>chr16</td>\n",
       "      <td>-</td>\n",
       "      <td>418500</td>\n",
       "      <td>418721</td>\n",
       "      <td>418500</td>\n",
       "      <td>418635</td>\n",
       "      <td>419067</td>\n",
       "      <td>...</td>\n",
       "      <td>328,223</td>\n",
       "      <td>7,0</td>\n",
       "      <td>206,103</td>\n",
       "      <td>185</td>\n",
       "      <td>100</td>\n",
       "      <td>4.276316e-05</td>\n",
       "      <td>0.059019</td>\n",
       "      <td>0.093,0.012</td>\n",
       "      <td>0.018,0.0</td>\n",
       "      <td>0.043</td>\n",
       "    </tr>\n",
       "    <tr>\n",
       "      <th>11</th>\n",
       "      <td>3146</td>\n",
       "      <td>ENSG00000092148.8</td>\n",
       "      <td>HECTD1</td>\n",
       "      <td>chr14</td>\n",
       "      <td>-</td>\n",
       "      <td>31592119</td>\n",
       "      <td>31592274</td>\n",
       "      <td>31592119</td>\n",
       "      <td>31592253</td>\n",
       "      <td>31596990</td>\n",
       "      <td>...</td>\n",
       "      <td>589,450</td>\n",
       "      <td>21,17</td>\n",
       "      <td>657,758</td>\n",
       "      <td>120</td>\n",
       "      <td>100</td>\n",
       "      <td>7.924655e-05</td>\n",
       "      <td>0.073660</td>\n",
       "      <td>0.056,0.048</td>\n",
       "      <td>0.026,0.018</td>\n",
       "      <td>0.030</td>\n",
       "    </tr>\n",
       "  </tbody>\n",
       "</table>\n",
       "<p>5 rows × 23 columns</p>\n",
       "</div>"
      ],
      "text/plain": [
       "       ID              GeneID geneSymbol    chr strand  longExonStart_0base  \\\n",
       "1   11903  ENSG00000147789.11       ZNF7   chr8      +            146062775   \n",
       "2   10907  ENSG00000131876.12     SNRPA1  chr15      -            101826418   \n",
       "5    5910  ENSG00000023191.12       RNH1  chr11      -               502061   \n",
       "6   16425  ENSG00000086504.11     MRPL28  chr16      -               418500   \n",
       "11   3146   ENSG00000092148.8     HECTD1  chr14      -             31592119   \n",
       "\n",
       "    longExonEnd    shortES    shortEE  flankingES         ...          \\\n",
       "1     146062892  146062778  146062892   146054862         ...           \n",
       "2     101826602  101826418  101826498   101827112         ...           \n",
       "5        502249     502061     502181      504823         ...           \n",
       "6        418721     418500     418635      419067         ...           \n",
       "11     31592274   31592119   31592253    31596990         ...           \n",
       "\n",
       "    SJC_SAMPLE_1  IJC_SAMPLE_2 SJC_SAMPLE_2 IncFormLen SkipFormLen  \\\n",
       "1            0,3          11,2         14,2        102         100   \n",
       "2        534,466         32,31      380,744        199         100   \n",
       "5           8,10         91,70        34,14        167         100   \n",
       "6        328,223           7,0      206,103        185         100   \n",
       "11       589,450         21,17      657,758        120         100   \n",
       "\n",
       "          PValue       FDR    IncLevel1    IncLevel2  IncLevelDifference  \n",
       "1   4.297773e-07  0.004892    1.0,0.938  0.435,0.495               0.504  \n",
       "2   2.524943e-05  0.049805  0.057,0.064  0.041,0.021               0.029  \n",
       "5   1.803885e-05  0.049805  0.915,0.878   0.616,0.75               0.214  \n",
       "6   4.276316e-05  0.059019  0.093,0.012    0.018,0.0               0.043  \n",
       "11  7.924655e-05  0.073660  0.056,0.048  0.026,0.018               0.030  \n",
       "\n",
       "[5 rows x 23 columns]"
      ]
     },
     "execution_count": 13,
     "metadata": {},
     "output_type": "execute_result"
    }
   ],
   "source": [
    "pos = X[(X['FDR']<0.1) & (X['PValue']<0.05) & (X['IncLevelDifference']>0)]\n",
    "pos"
   ]
  },
  {
   "cell_type": "code",
   "execution_count": 12,
   "metadata": {
    "collapsed": false
   },
   "outputs": [
    {
     "data": {
      "text/plain": [
       "(0, 0.1)"
      ]
     },
     "execution_count": 12,
     "metadata": {},
     "output_type": "execute_result"
    },
    {
     "data": {
      "image/png": "[encoded data removed]",
      "text/plain": [
       "<matplotlib.figure.Figure at 0x2b46c4333310>"
      ]
     },
     "metadata": {},
     "output_type": "display_data"
    }
   ],
   "source": [
    "ticks = plt.hist(X['IncLevelDifference'],bins=100)\n",
    "plt.xlim(0,0.1)"
   ]
  },
  {
   "cell_type": "code",
   "execution_count": null,
   "metadata": {
    "collapsed": true
   },
   "outputs": [],
   "source": []
  }
 ],
 "metadata": {
  "kernelspec": {
   "display_name": "Python 2",
   "language": "python",
   "name": "python2"
  },
  "language_info": {
   "codemirror_mode": {
    "name": "ipython",
    "version": 2
   },
   "file_extension": ".py",
   "mimetype": "text/x-python",
   "name": "python",
   "nbconvert_exporter": "python",
   "pygments_lexer": "ipython2",
   "version": "2.7.12"
  }
 },
 "nbformat": 4,
 "nbformat_minor": 1
}
