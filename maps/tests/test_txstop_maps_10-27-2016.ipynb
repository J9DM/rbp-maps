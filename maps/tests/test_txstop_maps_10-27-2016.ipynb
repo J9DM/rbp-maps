{
 "cells": [
  {
   "cell_type": "code",
   "execution_count": 1,
   "metadata": {
    "collapsed": true
   },
   "outputs": [],
   "source": [
    "%matplotlib inline\n",
    "import matplotlib.pyplot as plt\n",
    "import pandas as pd\n",
    "import numpy as np\n",
    "import pyBigWig"
   ]
  },
  {
   "cell_type": "code",
   "execution_count": 2,
   "metadata": {
    "collapsed": true
   },
   "outputs": [],
   "source": [
    "'''\n",
    "Created on May 3, 2016\n",
    "\n",
    "@author: Gabe\n",
    "'''\n",
    "import pyBigWig\n",
    "import numpy as np\n",
    "\n",
    "class ReadDensity():\n",
    "    \"\"\"\n",
    "    ReadDensity class\n",
    "    Attributes:\n",
    "        self.pos(positive *.bw file)\n",
    "        self.neg(negative *.bw file)\n",
    "    \"\"\"\n",
    "    def __init__(self, pos, neg, name = None):\n",
    "        try:\n",
    "            self.pos = pyBigWig.open(pos)\n",
    "            self.neg = pyBigWig.open(neg)\n",
    "            self.name = name if name is not None else pos.replace('pos','*').replace('neg','*')\n",
    "        except Exception as e:\n",
    "            print(\"couldn't open the bigwig files!\")\n",
    "            print(e)\n",
    "            return 1\n",
    "    def get_name(self):\n",
    "        \"\"\"\n",
    "        returns name\n",
    "        \"\"\"\n",
    "        return self.name\n",
    "    \n",
    "    def values(self, chrom, start, end, strand):\n",
    "        \"\"\"\n",
    "        Given a chromosome coordinate, return a list of values\n",
    "        pertaining to the rbpmaps over each nucleotide position.\n",
    "        Reverse the list if going in the negative strand.\n",
    "        \n",
    "        Args:\n",
    "            chrom (str): (eg. chr1)\n",
    "            start (int): 0-based start (first position in chromosome is 0)\n",
    "            end (int): 1-based end (last position is not included)\n",
    "            strand (char): either '+' or '-'\n",
    "        \"\"\"\n",
    "        try:\n",
    "            if strand == \"+\":\n",
    "                return self.pos.values(chrom, start, end)\n",
    "            elif strand == \"-\":\n",
    "                return list(reversed(self.neg.values(chrom, start, end)))\n",
    "            else:\n",
    "                raise(\"Strand neither + or -\")\n",
    "        except RuntimeError:\n",
    "            # usually occurs when no chromosome exists in the bigwig file\n",
    "            return [np.NaN]*abs(start-end)\n"
   ]
  },
  {
   "cell_type": "code",
   "execution_count": 3,
   "metadata": {
    "collapsed": false
   },
   "outputs": [
    {
     "data": {
      "text/plain": [
       "\"        \\nannotation = 'chr3:53274267:53274364:-@chr3:53271813:53271836:-@chr3:53268999:53269190:-'\\nprint(annotation)\\nF = SkippedExonFeature(annotation, 'miso')\\nup, se, down = F.get_bedtools()\\nprint(up)\\nprint(se)\\nprint(down)\\n\""
      ]
     },
     "execution_count": 3,
     "metadata": {},
     "output_type": "execute_result"
    }
   ],
   "source": [
    "'''\n",
    "Created on Sep 21, 2016\n",
    "\n",
    "@author: brian\n",
    "'''\n",
    "import pybedtools as bt\n",
    "\n",
    "class Feature():\n",
    "    '''\n",
    "    classdocs\n",
    "    '''\n",
    "\n",
    "\n",
    "    def __init__(self, annotation, source):\n",
    "        '''\n",
    "        Constructor\n",
    "        '''\n",
    "        self.annotation = annotation.rstrip()\n",
    "        self.source = source\n",
    "\n",
    "    def get_bedtool(self):\n",
    "        if(self.source == 'bed'):\n",
    "            chrom, start, end, name, score, strand = self.annotation.split('\\t')\n",
    "        return bt.create_interval_from_list([chrom,\n",
    "                                             start,\n",
    "                                             end,\n",
    "                                             name,\n",
    "                                             score,\n",
    "                                             strand])\n",
    "\n",
    "\"\"\"        \n",
    "annotation = 'chr3:53274267:53274364:-@chr3:53271813:53271836:-@chr3:53268999:53269190:-'\n",
    "print(annotation)\n",
    "F = SkippedExonFeature(annotation, 'miso')\n",
    "up, se, down = F.get_bedtools()\n",
    "print(up)\n",
    "print(se)\n",
    "print(down)\n",
    "\"\"\""
   ]
  },
  {
   "cell_type": "code",
   "execution_count": 4,
   "metadata": {
    "collapsed": false
   },
   "outputs": [],
   "source": [
    "import itertools\n",
    "\n",
    "def some_range(rbp, interval, left_flank = 0, right_flank = 0):\n",
    "    if interval.strand == \"+\":\n",
    "        wiggle = rbp.values(interval.chrom, interval.start - left_flank, interval.end + right_flank, interval.strand)\n",
    "    elif interval.strand == \"-\":\n",
    "        wiggle = rbp.values(interval.chrom, interval.start - left_flank, interval.end + right_flank, interval.strand)\n",
    "    else:\n",
    "        print \"Strand not correct\", interval.strand\n",
    "        raise()\n",
    "    return wiggle   \n",
    "def get_scale(wiggle):\n",
    "    # type: (Series) -> Series\n",
    "    '''\n",
    "    Returns a wiggle of any N that is divisible by 100.\n",
    "    \n",
    "    '''\n",
    "    if(len(wiggle)==100): # no need to do any calculating.\n",
    "        return wiggle\n",
    "    elif len(wiggle) == 1:\n",
    "        return pd.Series(list(itertools.chain.from_iterable([multiply(w) for w in wiggle])))\n",
    "    elif len(wiggle) < 100: \n",
    "        wiggle = pd.Series(list(itertools.chain.from_iterable([multiply(w) for w in wiggle])))\n",
    "        \n",
    "    dist = [0]*100\n",
    "    x = 0\n",
    "    step = 0.01\n",
    "    y = 0\n",
    "        \n",
    "    for pos, value in enumerate(wiggle):\n",
    "        if(float(pos+1)/len(wiggle)) < step:\n",
    "            y = y + 1\n",
    "            dist[x] = dist[x] + value            \n",
    "        else:\n",
    "            dist[x] = dist[x] / y\n",
    "                \n",
    "            step = step + 0.01\n",
    "            x = x + 1\n",
    "            dist[x] = value\n",
    "            y = 1\n",
    "    dist[x] = dist[x] / y\n",
    "    return(pd.Series(dist))\n",
    "def rename_index(interval_name):\n",
    "    # type: (str) -> str\n",
    "    '''\n",
    "    Reformats a BedTool Interval name into a non-tabbed format.\n",
    "    '''\n",
    "    chrom, start, end, name, score, strand = str(interval_name).strip().split('\\t')\n",
    "    return \"{}:{}-{}:{}:{}\".format(chrom, start, end, name, strand)\n"
   ]
  },
  {
   "cell_type": "code",
   "execution_count": 5,
   "metadata": {
    "collapsed": false
   },
   "outputs": [],
   "source": [
    "'''\n",
    "Created on Jun 18, 2016\n",
    "\n",
    "@author: brianyee\n",
    "'''\n",
    "import pandas as pd\n",
    "import numpy as np\n",
    "\n",
    "def create_matrix(annotation, density, upstream_offset, downstream_offset, is_scaled = True, annotation_type = 'bed'):\n",
    "    # print(\"creating the matrix for {}\".format(density.get_name()))\n",
    "    count = 0\n",
    "    densities = {}\n",
    "    with open(annotation) as f:\n",
    "        for line in f:\n",
    "            if not line.startswith('event_name') and not line.startswith('ID'):\n",
    "                count = count + 1\n",
    "                if count % 50000 == 0:\n",
    "                    print('processed {} features'.format(count))\n",
    "                event = line.rstrip() # .split('\\t')[0]\n",
    "                interval = Feature(event, annotation_type).get_bedtool()\n",
    "                wiggle = pd.Series(some_range(density, interval, 0, 0))\n",
    "                wiggle = wiggle.fillna(0) # convert all nans to 0\n",
    "                wiggle = abs(wiggle) # convert all values to positive\n",
    "                if(is_scaled == True):\n",
    "                    wiggle = get_scale(wiggle)\n",
    "                densities[rename_index(interval)] = wiggle\n",
    "                \"\"\"\n",
    "                if not all(np.isnan(wiggle)):\n",
    "                    wiggle = wiggle.fillna(0) # convert all nans to 0\n",
    "                    wiggle = abs(wiggle) # convert all values to positive\n",
    "                    if(is_scaled == True):\n",
    "                        wiggle = intervals.get_scale(wiggle)\n",
    "                    densities[intervals.rename_index(interval)] = wiggle\n",
    "                \"\"\"\n",
    "    return pd.DataFrame(densities).T"
   ]
  },
  {
   "cell_type": "code",
   "execution_count": 11,
   "metadata": {
    "collapsed": true
   },
   "outputs": [],
   "source": [
    "annotation = '/home/bay001/projects/maps_20160420/permanent_data/all_txStop_k562.bed'\n",
    "pos = '/projects/ps-yeolab3/encode/analysis/encode_v12/205_01_IGF2BP1.merged.r2.norm.pos.bw'\n",
    "neg = '/projects/ps-yeolab3/encode/analysis/encode_v12/205_01_IGF2BP1.merged.r2.norm.neg.bw'\n",
    "rbp = ReadDensity(neg,pos)"
   ]
  },
  {
   "cell_type": "code",
   "execution_count": 13,
   "metadata": {
    "collapsed": false
   },
   "outputs": [
    {
     "name": "stdout",
     "output_type": "stream",
     "text": [
      "processed 50000 features\n",
      "processed 100000 features\n"
     ]
    }
   ],
   "source": [
    "df = create_matrix(annotation,rbp,0,0)"
   ]
  },
  {
   "cell_type": "code",
   "execution_count": 14,
   "metadata": {
    "collapsed": false
   },
   "outputs": [
    {
     "data": {
      "text/plain": [
       "[-0.3406676948070526,\n",
       " -0.3406676948070526,\n",
       " -0.3406676948070526,\n",
       " -0.3406676948070526,\n",
       " -0.3406676948070526,\n",
       " -0.3406676948070526,\n",
       " -0.3406676948070526,\n",
       " -0.3406676948070526,\n",
       " -0.3406676948070526,\n",
       " -0.3406676948070526,\n",
       " -0.3406676948070526,\n",
       " -0.3406676948070526,\n",
       " -0.3406676948070526,\n",
       " -0.3406676948070526,\n",
       " -0.3406676948070526,\n",
       " -0.3406676948070526,\n",
       " -0.3406676948070526,\n",
       " -0.3406676948070526,\n",
       " -0.3406676948070526,\n",
       " -0.3406676948070526,\n",
       " -0.3406676948070526,\n",
       " -0.3406676948070526,\n",
       " -0.3406676948070526,\n",
       " -0.3406676948070526,\n",
       " -0.3406676948070526,\n",
       " -0.3406676948070526,\n",
       " -0.3406676948070526,\n",
       " -0.3406676948070526,\n",
       " -0.3406676948070526,\n",
       " -0.3406676948070526,\n",
       " nan,\n",
       " nan,\n",
       " nan,\n",
       " nan,\n",
       " nan,\n",
       " nan,\n",
       " nan,\n",
       " nan,\n",
       " nan,\n",
       " nan,\n",
       " nan,\n",
       " nan,\n",
       " nan,\n",
       " nan,\n",
       " nan,\n",
       " nan,\n",
       " nan,\n",
       " nan,\n",
       " nan,\n",
       " nan,\n",
       " nan,\n",
       " nan,\n",
       " nan,\n",
       " nan,\n",
       " nan,\n",
       " nan,\n",
       " nan,\n",
       " nan,\n",
       " nan,\n",
       " nan,\n",
       " nan,\n",
       " nan,\n",
       " nan,\n",
       " nan,\n",
       " nan,\n",
       " nan,\n",
       " nan,\n",
       " nan,\n",
       " nan,\n",
       " nan,\n",
       " nan,\n",
       " nan,\n",
       " nan,\n",
       " nan,\n",
       " nan,\n",
       " nan,\n",
       " nan,\n",
       " nan,\n",
       " nan,\n",
       " nan,\n",
       " nan,\n",
       " nan,\n",
       " nan,\n",
       " nan,\n",
       " nan,\n",
       " nan,\n",
       " nan,\n",
       " nan,\n",
       " nan,\n",
       " nan,\n",
       " nan,\n",
       " nan,\n",
       " nan,\n",
       " nan,\n",
       " nan,\n",
       " nan,\n",
       " nan,\n",
       " nan,\n",
       " nan,\n",
       " nan,\n",
       " nan,\n",
       " nan,\n",
       " nan,\n",
       " nan,\n",
       " nan,\n",
       " nan,\n",
       " nan,\n",
       " nan,\n",
       " nan,\n",
       " nan,\n",
       " nan,\n",
       " nan,\n",
       " nan,\n",
       " nan,\n",
       " nan,\n",
       " nan,\n",
       " nan,\n",
       " nan,\n",
       " nan,\n",
       " nan,\n",
       " nan,\n",
       " nan,\n",
       " nan,\n",
       " nan,\n",
       " nan,\n",
       " nan,\n",
       " nan,\n",
       " nan,\n",
       " nan,\n",
       " nan,\n",
       " nan,\n",
       " nan,\n",
       " nan,\n",
       " nan,\n",
       " nan,\n",
       " nan,\n",
       " nan,\n",
       " nan,\n",
       " nan,\n",
       " nan,\n",
       " nan,\n",
       " nan,\n",
       " nan,\n",
       " nan,\n",
       " nan,\n",
       " nan,\n",
       " nan,\n",
       " nan,\n",
       " nan,\n",
       " nan,\n",
       " nan,\n",
       " nan,\n",
       " nan,\n",
       " nan,\n",
       " nan,\n",
       " nan,\n",
       " nan,\n",
       " nan,\n",
       " nan,\n",
       " nan,\n",
       " nan,\n",
       " nan,\n",
       " nan,\n",
       " nan,\n",
       " nan,\n",
       " nan,\n",
       " nan,\n",
       " nan,\n",
       " nan,\n",
       " nan,\n",
       " nan,\n",
       " nan,\n",
       " nan,\n",
       " nan,\n",
       " nan,\n",
       " nan,\n",
       " nan,\n",
       " nan,\n",
       " nan,\n",
       " nan,\n",
       " nan,\n",
       " nan,\n",
       " nan,\n",
       " nan,\n",
       " nan,\n",
       " nan,\n",
       " nan,\n",
       " nan,\n",
       " nan,\n",
       " nan,\n",
       " nan,\n",
       " nan,\n",
       " nan,\n",
       " nan,\n",
       " nan,\n",
       " nan,\n",
       " nan,\n",
       " nan,\n",
       " nan,\n",
       " nan,\n",
       " nan,\n",
       " nan,\n",
       " nan,\n",
       " nan,\n",
       " nan,\n",
       " nan,\n",
       " nan,\n",
       " nan,\n",
       " nan,\n",
       " nan,\n",
       " nan,\n",
       " nan,\n",
       " nan,\n",
       " nan,\n",
       " nan,\n",
       " nan,\n",
       " nan,\n",
       " nan,\n",
       " nan,\n",
       " nan,\n",
       " nan,\n",
       " nan,\n",
       " nan,\n",
       " nan,\n",
       " nan,\n",
       " nan,\n",
       " nan,\n",
       " nan,\n",
       " nan,\n",
       " nan,\n",
       " nan,\n",
       " nan,\n",
       " nan,\n",
       " nan,\n",
       " nan,\n",
       " nan,\n",
       " nan,\n",
       " nan,\n",
       " nan,\n",
       " nan,\n",
       " nan,\n",
       " nan,\n",
       " nan,\n",
       " nan,\n",
       " nan,\n",
       " nan,\n",
       " nan,\n",
       " nan,\n",
       " nan,\n",
       " nan,\n",
       " nan,\n",
       " nan,\n",
       " nan,\n",
       " nan,\n",
       " nan,\n",
       " nan,\n",
       " nan,\n",
       " nan,\n",
       " nan,\n",
       " nan,\n",
       " nan,\n",
       " nan,\n",
       " nan,\n",
       " nan,\n",
       " nan,\n",
       " nan,\n",
       " nan,\n",
       " nan,\n",
       " nan,\n",
       " nan,\n",
       " nan,\n",
       " nan,\n",
       " nan,\n",
       " nan,\n",
       " nan,\n",
       " nan,\n",
       " nan,\n",
       " nan,\n",
       " nan,\n",
       " nan,\n",
       " nan,\n",
       " nan,\n",
       " nan,\n",
       " nan,\n",
       " nan,\n",
       " nan,\n",
       " nan,\n",
       " nan,\n",
       " nan,\n",
       " nan,\n",
       " nan,\n",
       " nan,\n",
       " nan,\n",
       " nan,\n",
       " nan,\n",
       " nan,\n",
       " nan,\n",
       " nan,\n",
       " nan,\n",
       " nan,\n",
       " nan,\n",
       " nan,\n",
       " nan,\n",
       " nan,\n",
       " nan,\n",
       " nan,\n",
       " nan,\n",
       " nan,\n",
       " nan,\n",
       " nan,\n",
       " nan,\n",
       " nan,\n",
       " nan,\n",
       " nan,\n",
       " nan,\n",
       " nan,\n",
       " nan,\n",
       " nan,\n",
       " nan,\n",
       " nan,\n",
       " nan,\n",
       " nan,\n",
       " nan,\n",
       " nan,\n",
       " nan,\n",
       " nan,\n",
       " nan,\n",
       " nan,\n",
       " nan,\n",
       " nan,\n",
       " nan,\n",
       " nan,\n",
       " nan,\n",
       " nan,\n",
       " nan,\n",
       " nan,\n",
       " nan,\n",
       " nan,\n",
       " nan,\n",
       " nan,\n",
       " nan,\n",
       " nan,\n",
       " nan,\n",
       " nan,\n",
       " nan,\n",
       " nan,\n",
       " nan,\n",
       " nan,\n",
       " nan,\n",
       " nan,\n",
       " nan,\n",
       " nan,\n",
       " nan,\n",
       " nan,\n",
       " nan,\n",
       " nan,\n",
       " nan,\n",
       " nan,\n",
       " nan,\n",
       " nan,\n",
       " nan,\n",
       " nan,\n",
       " nan,\n",
       " nan,\n",
       " nan,\n",
       " nan,\n",
       " nan,\n",
       " nan,\n",
       " nan,\n",
       " nan,\n",
       " nan,\n",
       " nan,\n",
       " nan,\n",
       " nan,\n",
       " nan,\n",
       " nan,\n",
       " nan,\n",
       " nan,\n",
       " nan,\n",
       " nan,\n",
       " nan,\n",
       " nan,\n",
       " nan,\n",
       " nan,\n",
       " nan,\n",
       " nan,\n",
       " nan,\n",
       " nan,\n",
       " nan,\n",
       " nan,\n",
       " nan,\n",
       " nan,\n",
       " nan,\n",
       " nan,\n",
       " nan,\n",
       " nan,\n",
       " nan,\n",
       " nan,\n",
       " nan,\n",
       " nan,\n",
       " nan,\n",
       " -0.3406676948070526,\n",
       " -0.3406676948070526,\n",
       " -0.3406676948070526,\n",
       " -0.3406676948070526,\n",
       " -0.3406676948070526,\n",
       " -0.3406676948070526,\n",
       " -0.3406676948070526,\n",
       " -0.3406676948070526,\n",
       " -0.3406676948070526,\n",
       " -0.3406676948070526,\n",
       " -0.3406676948070526,\n",
       " -0.3406676948070526,\n",
       " -0.3406676948070526,\n",
       " -0.3406676948070526,\n",
       " -0.3406676948070526,\n",
       " -0.3406676948070526,\n",
       " -0.3406676948070526,\n",
       " -0.3406676948070526,\n",
       " -0.3406676948070526,\n",
       " -0.3406676948070526,\n",
       " -0.3406676948070526,\n",
       " -0.3406676948070526,\n",
       " -0.3406676948070526,\n",
       " -0.3406676948070526,\n",
       " -0.3406676948070526,\n",
       " -0.3406676948070526,\n",
       " -0.3406676948070526,\n",
       " -0.3406676948070526,\n",
       " -0.3406676948070526,\n",
       " -0.3406676948070526,\n",
       " -0.3406676948070526,\n",
       " -0.3406676948070526,\n",
       " -0.3406676948070526,\n",
       " -0.3406676948070526,\n",
       " -0.3406676948070526,\n",
       " -0.3406676948070526,\n",
       " -0.3406676948070526,\n",
       " -0.3406676948070526,\n",
       " -0.3406676948070526,\n",
       " -0.3406676948070526,\n",
       " -0.3406676948070526,\n",
       " -0.3406676948070526,\n",
       " -0.3406676948070526,\n",
       " -0.3406676948070526,\n",
       " -0.3406676948070526,\n",
       " -0.3406676948070526,\n",
       " -0.3406676948070526,\n",
       " -0.3406676948070526,\n",
       " -0.3406676948070526,\n",
       " -0.3406676948070526,\n",
       " -0.3406676948070526,\n",
       " -0.3406676948070526,\n",
       " -0.3406676948070526,\n",
       " -0.3406676948070526,\n",
       " -0.3406676948070526,\n",
       " -0.6813353896141052,\n",
       " -0.6813353896141052,\n",
       " -0.6813353896141052,\n",
       " -0.6813353896141052,\n",
       " -0.6813353896141052,\n",
       " -0.6813353896141052,\n",
       " -0.6813353896141052,\n",
       " -0.6813353896141052,\n",
       " -0.6813353896141052,\n",
       " -0.6813353896141052,\n",
       " -0.6813353896141052,\n",
       " -0.6813353896141052,\n",
       " -0.6813353896141052,\n",
       " -0.6813353896141052,\n",
       " -0.6813353896141052,\n",
       " -0.6813353896141052,\n",
       " -0.6813353896141052,\n",
       " -0.6813353896141052,\n",
       " -0.6813353896141052,\n",
       " -0.6813353896141052,\n",
       " -0.6813353896141052,\n",
       " -0.6813353896141052,\n",
       " -0.6813353896141052,\n",
       " -0.6813353896141052,\n",
       " -0.6813353896141052,\n",
       " -0.6813353896141052,\n",
       " -0.6813353896141052,\n",
       " -0.6813353896141052,\n",
       " -0.6813353896141052,\n",
       " -0.6813353896141052,\n",
       " -0.6813353896141052,\n",
       " -0.6813353896141052,\n",
       " -0.6813353896141052,\n",
       " -0.3406676948070526,\n",
       " -0.3406676948070526,\n",
       " -0.3406676948070526,\n",
       " -0.3406676948070526,\n",
       " -0.3406676948070526,\n",
       " -0.3406676948070526,\n",
       " -0.3406676948070526,\n",
       " -0.3406676948070526,\n",
       " -0.3406676948070526,\n",
       " -0.3406676948070526,\n",
       " -0.3406676948070526,\n",
       " nan,\n",
       " nan,\n",
       " nan,\n",
       " nan,\n",
       " nan,\n",
       " nan,\n",
       " nan,\n",
       " nan,\n",
       " nan,\n",
       " nan,\n",
       " nan,\n",
       " nan,\n",
       " nan,\n",
       " nan,\n",
       " nan,\n",
       " nan,\n",
       " nan,\n",
       " nan,\n",
       " nan,\n",
       " nan,\n",
       " nan,\n",
       " nan,\n",
       " nan,\n",
       " nan,\n",
       " nan,\n",
       " nan,\n",
       " nan,\n",
       " nan,\n",
       " nan,\n",
       " nan,\n",
       " nan,\n",
       " nan,\n",
       " nan,\n",
       " nan,\n",
       " nan,\n",
       " nan,\n",
       " nan,\n",
       " nan,\n",
       " nan,\n",
       " nan,\n",
       " nan,\n",
       " nan,\n",
       " nan,\n",
       " nan,\n",
       " nan,\n",
       " nan,\n",
       " nan,\n",
       " nan,\n",
       " nan,\n",
       " nan,\n",
       " nan,\n",
       " nan,\n",
       " nan,\n",
       " nan,\n",
       " nan,\n",
       " nan,\n",
       " nan,\n",
       " nan,\n",
       " nan,\n",
       " nan,\n",
       " nan,\n",
       " nan,\n",
       " nan,\n",
       " nan,\n",
       " nan,\n",
       " nan,\n",
       " nan,\n",
       " nan,\n",
       " nan,\n",
       " nan,\n",
       " nan,\n",
       " nan,\n",
       " nan,\n",
       " nan,\n",
       " nan,\n",
       " nan,\n",
       " nan,\n",
       " nan,\n",
       " nan,\n",
       " nan,\n",
       " nan,\n",
       " nan,\n",
       " nan,\n",
       " nan,\n",
       " nan,\n",
       " nan,\n",
       " nan,\n",
       " nan,\n",
       " nan,\n",
       " nan,\n",
       " nan,\n",
       " nan,\n",
       " nan,\n",
       " nan,\n",
       " nan,\n",
       " nan,\n",
       " nan,\n",
       " nan,\n",
       " nan,\n",
       " nan,\n",
       " nan]"
      ]
     },
     "execution_count": 14,
     "metadata": {},
     "output_type": "execute_result"
    }
   ],
   "source": [
    "# this looks right...\n",
    "interval = bt.create_interval_from_list(['chr10','100190817','100191418','shouldbeblank','0','-'])\n",
    "i = some_range(rbp,interval)\n",
    "i"
   ]
  },
  {
   "cell_type": "code",
   "execution_count": 15,
   "metadata": {
    "collapsed": false
   },
   "outputs": [
    {
     "data": {
      "text/plain": [
       "[<matplotlib.lines.Line2D at 0x2b15d30b0a90>]"
      ]
     },
     "execution_count": 15,
     "metadata": {},
     "output_type": "execute_result"
    },
    {
     "data": {
      "image/png": "[encoded data removed]",
      "text/plain": [
       "<matplotlib.figure.Figure at 0x2b15ca99c6d0>"
      ]
     },
     "metadata": {},
     "output_type": "display_data"
    }
   ],
   "source": [
    "plt.plot(df.mean())"
   ]
  },
  {
   "cell_type": "markdown",
   "metadata": {},
   "source": [
    "# We flip pos and neg bw already so this isn't the problem."
   ]
  },
  {
   "cell_type": "code",
   "execution_count": 16,
   "metadata": {
    "collapsed": false
   },
   "outputs": [
    {
     "name": "stdout",
     "output_type": "stream",
     "text": [
      "processed 50000 features\n",
      "processed 100000 features\n"
     ]
    },
    {
     "data": {
      "text/plain": [
       "[<matplotlib.lines.Line2D at 0x2b15d3913f90>]"
      ]
     },
     "execution_count": 16,
     "metadata": {},
     "output_type": "execute_result"
    },
    {
     "data": {
      "image/png": "[encoded data removed]",
      "text/plain": [
       "<matplotlib.figure.Figure at 0x2b15cc024510>"
      ]
     },
     "metadata": {},
     "output_type": "display_data"
    }
   ],
   "source": [
    "# unflipped\n",
    "annotation = '/home/bay001/projects/maps_20160420/permanent_data/all_txStop_hepg2.bed'\n",
    "pos = '/projects/ps-yeolab3/encode/analysis/encode_v12/203_02_HNRNPC.merged.r2.norm.pos.bw'\n",
    "neg = '/projects/ps-yeolab3/encode/analysis/encode_v12/203_02_HNRNPC.merged.r2.norm.neg.bw'\n",
    "rbp = ReadDensity(pos,neg)\n",
    "df = create_matrix(annotation,rbp,0,0)\n",
    "plt.plot(df.mean())"
   ]
  },
  {
   "cell_type": "markdown",
   "metadata": {},
   "source": [
    "# Plotting the mean raw densities for 203_02 make more sense if we flip *.pos and *.neg"
   ]
  },
  {
   "cell_type": "code",
   "execution_count": 17,
   "metadata": {
    "collapsed": false
   },
   "outputs": [
    {
     "name": "stdout",
     "output_type": "stream",
     "text": [
      "processed 50000 features\n",
      "processed 100000 features\n"
     ]
    },
    {
     "data": {
      "text/plain": [
       "[<matplotlib.lines.Line2D at 0x2b15dc543850>]"
      ]
     },
     "execution_count": 17,
     "metadata": {},
     "output_type": "execute_result"
    },
    {
     "data": {
      "image/png": "[encoded data removed]",
      "text/plain": [
       "<matplotlib.figure.Figure at 0x2b15d3922d50>"
      ]
     },
     "metadata": {},
     "output_type": "display_data"
    }
   ],
   "source": [
    "# flipped\n",
    "annotation = '/home/bay001/projects/maps_20160420/permanent_data/all_txStop_hepg2.bed'\n",
    "pos = '/projects/ps-yeolab3/encode/analysis/encode_v12/203_02_HNRNPC.merged.r2.norm.pos.bw'\n",
    "neg = '/projects/ps-yeolab3/encode/analysis/encode_v12/203_02_HNRNPC.merged.r2.norm.neg.bw'\n",
    "rbp = ReadDensity(neg,pos)\n",
    "dx = create_matrix(annotation,rbp,0,0)\n",
    "plt.plot(dx.mean())"
   ]
  },
  {
   "cell_type": "markdown",
   "metadata": {},
   "source": [
    "# Input flipped."
   ]
  },
  {
   "cell_type": "code",
   "execution_count": 18,
   "metadata": {
    "collapsed": false
   },
   "outputs": [
    {
     "name": "stdout",
     "output_type": "stream",
     "text": [
      "processed 50000 features\n",
      "processed 100000 features\n"
     ]
    },
    {
     "data": {
      "text/plain": [
       "[<matplotlib.lines.Line2D at 0x2b15c91a5450>]"
      ]
     },
     "execution_count": 18,
     "metadata": {},
     "output_type": "execute_result"
    },
    {
     "data": {
      "image/png": "[encoded data removed]",
      "text/plain": [
       "<matplotlib.figure.Figure at 0x2b15c720e150>"
      ]
     },
     "metadata": {},
     "output_type": "display_data"
    }
   ],
   "source": [
    "# input flipped\n",
    "annotation = '/home/bay001/projects/maps_20160420/permanent_data/all_txStop_hepg2.bed'\n",
    "pos = '/projects/ps-yeolab3/encode/analysis/encode_v12/271_INPUT_ATTACTCG-GGCTCTGA_L002_R1.unassigned.adapterTrim.round2.rmRep.rmDup.sorted.r2.norm.pos.bw'\n",
    "neg = '/projects/ps-yeolab3/encode/analysis/encode_v12/271_INPUT_ATTACTCG-GGCTCTGA_L002_R1.unassigned.adapterTrim.round2.rmRep.rmDup.sorted.r2.norm.neg.bw'\n",
    "rbp = ReadDensity(neg,pos)\n",
    "dxi = create_matrix(annotation,rbp,0,0)\n",
    "plt.plot(dxi.mean())"
   ]
  },
  {
   "cell_type": "code",
   "execution_count": 19,
   "metadata": {
    "collapsed": true
   },
   "outputs": [],
   "source": [
    "def normalize_and_per_region_subtract(density, input_density, min_density_threshold = 0):\n",
    "    \"\"\"\n",
    "    Normalizes ip matrix of m x n (where m is the row of each event in a feature,\n",
    "    and n is the column relating to nucleotide position). \n",
    "    \"\"\"\n",
    "    # PDF_CONST = 1.0/len(density.columns)\n",
    "    \n",
    "    dft = pd.merge(density,input_density, how='outer',left_index=True,right_index=True)\n",
    "    \n",
    "    dfx = dft.filter(regex='\\d+_x')\n",
    "    dfy = dft.filter(regex='\\d+_y')\n",
    "    \n",
    "    pdf = calculate_pdf(dfx, min_density_threshold)\n",
    "    pdfi = calculate_pdf(dfy, min_density_threshold)\n",
    "    \n",
    "    pdf = pdf.rename(columns=lambda x: x.replace('_x', ''))\n",
    "    pdfi = pdfi.rename(columns=lambda x: x.replace('_y', ''))\n",
    "    \n",
    "    # pdfi = fill_all_nans_with_minpdf(pdfi, PDF_CONST)\n",
    "    # pdf = fill_all_nans_with_minpdf(pdf, PDF_CONST)\n",
    "    \n",
    "    subtracted = pdf.sub(pdfi)\n",
    "    # print(\"TYPE AFTER PER REGION SUBTRACT: {}\".format(type(subtracted)))\n",
    "    return subtracted\n",
    "\n",
    "def calculate_pdf(density, min_density_threshold = 0):\n",
    "    \"\"\"\n",
    "    Calculates the PDF of a density matrix.\n",
    "    Logic:\n",
    "    \n",
    "    Args: \n",
    "        density (pandas.DataFrame) : r x c matrix of densities. May contain\n",
    "            NaN corresponding to values in which no density was returned.\n",
    "            These values should be counted.\n",
    "            May contain -1 corresponding to values in which a particular\n",
    "            region is shorter than the full DataFrame length. These \n",
    "            values should not be counted.\n",
    "        min_density_threshold (integer) : minimum total density across\n",
    "            a row. (Deprecated - may be removed in the future)\n",
    "    \n",
    "    Returns:\n",
    "        pdf (pandas.DataFrame) : r x c matrix of densities normalized\n",
    "            across each respective (r)ow as a probability density func.\n",
    "    \"\"\"\n",
    "    density = density.fillna(0) # NaNs are regions which contain zero density\n",
    "    df = density.replace(-1, np.nan) # -1 are regions which should not be counted at all\n",
    "    \n",
    "    # df = df[df.sum(axis=1) > min_density_threshold]\n",
    "    min_normalized_read_number = min([item for item in df.unstack().values if item > 0])\n",
    "    df = df + min_normalized_read_number\n",
    "    pdf = df.div(df.sum(axis=1), axis=0)\n",
    "    return pdf # , mean, sem"
   ]
  },
  {
   "cell_type": "markdown",
   "metadata": {},
   "source": [
    "# PDF of raw density - looks correct?"
   ]
  },
  {
   "cell_type": "code",
   "execution_count": 20,
   "metadata": {
    "collapsed": false
   },
   "outputs": [
    {
     "data": {
      "text/plain": [
       "[<matplotlib.lines.Line2D at 0x2b15c7525b90>]"
      ]
     },
     "execution_count": 20,
     "metadata": {},
     "output_type": "execute_result"
    },
    {
     "data": {
      "image/png": "[encoded data removed]",
      "text/plain": [
       "<matplotlib.figure.Figure at 0x2b15d432d790>"
      ]
     },
     "metadata": {},
     "output_type": "display_data"
    }
   ],
   "source": [
    "plt.plot(calculate_pdf(dx).mean())"
   ]
  },
  {
   "cell_type": "markdown",
   "metadata": {},
   "source": [
    "# PDF of input density"
   ]
  },
  {
   "cell_type": "code",
   "execution_count": 21,
   "metadata": {
    "collapsed": false
   },
   "outputs": [
    {
     "data": {
      "text/plain": [
       "[<matplotlib.lines.Line2D at 0x2b15ce886d50>]"
      ]
     },
     "execution_count": 21,
     "metadata": {},
     "output_type": "execute_result"
    },
    {
     "data": {
      "image/png": "[encoded data removed]",
      "text/plain": [
       "<matplotlib.figure.Figure at 0x2b15c7bc08d0>"
      ]
     },
     "metadata": {},
     "output_type": "display_data"
    }
   ],
   "source": [
    "plt.plot(calculate_pdf(dxi).mean())"
   ]
  },
  {
   "cell_type": "markdown",
   "metadata": {},
   "source": [
    "# Subtraction normalization gives weird dip."
   ]
  },
  {
   "cell_type": "code",
   "execution_count": 22,
   "metadata": {
    "collapsed": false
   },
   "outputs": [
    {
     "data": {
      "text/plain": [
       "[<matplotlib.lines.Line2D at 0x2b15d1037a10>]"
      ]
     },
     "execution_count": 22,
     "metadata": {},
     "output_type": "execute_result"
    },
    {
     "data": {
      "image/png": "[encoded data removed]",
      "text/plain": [
       "<matplotlib.figure.Figure at 0x2b15dc552510>"
      ]
     },
     "metadata": {},
     "output_type": "display_data"
    }
   ],
   "source": [
    "sub = normalize_and_per_region_subtract(dx, dxi)\n",
    "plt.plot(sub.mean())"
   ]
  },
  {
   "cell_type": "code",
   "execution_count": null,
   "metadata": {
    "collapsed": false
   },
   "outputs": [],
   "source": []
  },
  {
   "cell_type": "code",
   "execution_count": null,
   "metadata": {
    "collapsed": false
   },
   "outputs": [],
   "source": []
  },
  {
   "cell_type": "code",
   "execution_count": null,
   "metadata": {
    "collapsed": true
   },
   "outputs": [],
   "source": []
  }
 ],
 "metadata": {
  "kernelspec": {
   "display_name": "Python 2",
   "language": "python",
   "name": "python2"
  },
  "language_info": {
   "codemirror_mode": {
    "name": "ipython",
    "version": 2
   },
   "file_extension": ".py",
   "mimetype": "text/x-python",
   "name": "python",
   "nbconvert_exporter": "python",
   "pygments_lexer": "ipython2",
   "version": "2.7.12"
  }
 },
 "nbformat": 4,
 "nbformat_minor": 1
}
