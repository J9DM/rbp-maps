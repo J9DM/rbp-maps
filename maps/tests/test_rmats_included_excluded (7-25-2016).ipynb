{
 "cells": [
  {
   "cell_type": "markdown",
   "metadata": {},
   "source": [
    "### This tests RBM34 RMATS data (uID: 213)"
   ]
  },
  {
   "cell_type": "code",
   "execution_count": 59,
   "metadata": {
    "collapsed": true
   },
   "outputs": [],
   "source": [
    "%matplotlib inline\n",
    "import pandas as pd\n",
    "from matplotlib_venn import venn2\n"
   ]
  },
  {
   "cell_type": "code",
   "execution_count": 60,
   "metadata": {
    "collapsed": false
   },
   "outputs": [
    {
     "name": "stdout",
     "output_type": "stream",
     "text": [
      "7    ENCSR318HAT\n",
      "Name: RNASEQ_ENCODEAccID, dtype: object\n",
      "7    ENCSR491FOC\n",
      "Name: RNASEQ_ControlENC, dtype: object\n"
     ]
    }
   ],
   "source": [
    "# get the master ID list for HNRNPK\n",
    "manifest = pd.read_table('/home/gpratt/Dropbox/encode_integration/20160408_ENCODE_MASTER_ID_LIST_AllDatasets.csv',index_col=0)\n",
    "hnrnpk = manifest[manifest['uID']==\"213\"]\n",
    "\n",
    "print(hnrnpk['RNASEQ_ENCODEAccID'])\n",
    "print(hnrnpk['RNASEQ_ControlENC'])\n",
    "hnrnpk['CLIP_rep2']\n",
    "hnrnpk.to_csv('/home/bay001/projects/maps_20160420/permanent_data/rbm34.tsv',sep='\\t')"
   ]
  },
  {
   "cell_type": "code",
   "execution_count": 73,
   "metadata": {
    "collapsed": false
   },
   "outputs": [
    {
     "name": "stdout",
     "output_type": "stream",
     "text": [
      "(37871, 23)\n"
     ]
    },
    {
     "data": {
      "text/html": [
       "<div>\n",
       "<table border=\"1\" class=\"dataframe\">\n",
       "  <thead>\n",
       "    <tr style=\"text-align: right;\">\n",
       "      <th></th>\n",
       "      <th>ID</th>\n",
       "      <th>GeneID</th>\n",
       "      <th>geneSymbol</th>\n",
       "      <th>chr</th>\n",
       "      <th>strand</th>\n",
       "      <th>exonStart_0base</th>\n",
       "      <th>exonEnd</th>\n",
       "      <th>upstreamES</th>\n",
       "      <th>upstreamEE</th>\n",
       "      <th>downstreamES</th>\n",
       "      <th>...</th>\n",
       "      <th>SJC_SAMPLE_1</th>\n",
       "      <th>IJC_SAMPLE_2</th>\n",
       "      <th>SJC_SAMPLE_2</th>\n",
       "      <th>IncFormLen</th>\n",
       "      <th>SkipFormLen</th>\n",
       "      <th>PValue</th>\n",
       "      <th>FDR</th>\n",
       "      <th>IncLevel1</th>\n",
       "      <th>IncLevel2</th>\n",
       "      <th>IncLevelDifference</th>\n",
       "    </tr>\n",
       "  </thead>\n",
       "  <tbody>\n",
       "    <tr>\n",
       "      <th>0</th>\n",
       "      <td>30421</td>\n",
       "      <td>ENSG00000231500.2</td>\n",
       "      <td>RPS18</td>\n",
       "      <td>chr6</td>\n",
       "      <td>+</td>\n",
       "      <td>33243573</td>\n",
       "      <td>33243660</td>\n",
       "      <td>33240363</td>\n",
       "      <td>33240503</td>\n",
       "      <td>33243741</td>\n",
       "      <td>...</td>\n",
       "      <td>1,1</td>\n",
       "      <td>19922,17130</td>\n",
       "      <td>450,1</td>\n",
       "      <td>185</td>\n",
       "      <td>99</td>\n",
       "      <td>8.928123e-10</td>\n",
       "      <td>0.000034</td>\n",
       "      <td>1.0,1.0</td>\n",
       "      <td>0.959,1.0</td>\n",
       "      <td>0.020</td>\n",
       "    </tr>\n",
       "    <tr>\n",
       "      <th>1</th>\n",
       "      <td>17365</td>\n",
       "      <td>ENSG00000138674.12</td>\n",
       "      <td>SEC31A</td>\n",
       "      <td>chr4</td>\n",
       "      <td>-</td>\n",
       "      <td>83752089</td>\n",
       "      <td>83752128</td>\n",
       "      <td>83750152</td>\n",
       "      <td>83750211</td>\n",
       "      <td>83763292</td>\n",
       "      <td>...</td>\n",
       "      <td>56,57</td>\n",
       "      <td>106,80</td>\n",
       "      <td>26,24</td>\n",
       "      <td>137</td>\n",
       "      <td>99</td>\n",
       "      <td>1.863713e-07</td>\n",
       "      <td>0.003529</td>\n",
       "      <td>0.432,0.47</td>\n",
       "      <td>0.747,0.707</td>\n",
       "      <td>-0.276</td>\n",
       "    </tr>\n",
       "    <tr>\n",
       "      <th>2</th>\n",
       "      <td>19092</td>\n",
       "      <td>ENSG00000148584.10</td>\n",
       "      <td>A1CF</td>\n",
       "      <td>chr10</td>\n",
       "      <td>-</td>\n",
       "      <td>52623792</td>\n",
       "      <td>52623840</td>\n",
       "      <td>52619601</td>\n",
       "      <td>52619745</td>\n",
       "      <td>52645340</td>\n",
       "      <td>...</td>\n",
       "      <td>153,199</td>\n",
       "      <td>23,18</td>\n",
       "      <td>138,102</td>\n",
       "      <td>146</td>\n",
       "      <td>99</td>\n",
       "      <td>3.341310e-06</td>\n",
       "      <td>0.042180</td>\n",
       "      <td>0.022,0.027</td>\n",
       "      <td>0.102,0.107</td>\n",
       "      <td>-0.080</td>\n",
       "    </tr>\n",
       "    <tr>\n",
       "      <th>3</th>\n",
       "      <td>18461</td>\n",
       "      <td>ENSG00000100813.10</td>\n",
       "      <td>ACIN1</td>\n",
       "      <td>chr14</td>\n",
       "      <td>-</td>\n",
       "      <td>23559190</td>\n",
       "      <td>23559310</td>\n",
       "      <td>23550956</td>\n",
       "      <td>23551045</td>\n",
       "      <td>23559730</td>\n",
       "      <td>...</td>\n",
       "      <td>134,138</td>\n",
       "      <td>88,59</td>\n",
       "      <td>72,67</td>\n",
       "      <td>197</td>\n",
       "      <td>99</td>\n",
       "      <td>1.864966e-05</td>\n",
       "      <td>0.141256</td>\n",
       "      <td>0.21,0.164</td>\n",
       "      <td>0.381,0.307</td>\n",
       "      <td>-0.157</td>\n",
       "    </tr>\n",
       "    <tr>\n",
       "      <th>4</th>\n",
       "      <td>23342</td>\n",
       "      <td>ENSG00000221995.4</td>\n",
       "      <td>TIAF1</td>\n",
       "      <td>chr17</td>\n",
       "      <td>-</td>\n",
       "      <td>27412434</td>\n",
       "      <td>27412666</td>\n",
       "      <td>27409333</td>\n",
       "      <td>27409456</td>\n",
       "      <td>27413455</td>\n",
       "      <td>...</td>\n",
       "      <td>23,28</td>\n",
       "      <td>33,41</td>\n",
       "      <td>43,38</td>\n",
       "      <td>197</td>\n",
       "      <td>99</td>\n",
       "      <td>1.570528e-05</td>\n",
       "      <td>0.141256</td>\n",
       "      <td>0.559,0.595</td>\n",
       "      <td>0.278,0.352</td>\n",
       "      <td>0.262</td>\n",
       "    </tr>\n",
       "  </tbody>\n",
       "</table>\n",
       "<p>5 rows × 23 columns</p>\n",
       "</div>"
      ],
      "text/plain": [
       "      ID              GeneID geneSymbol    chr strand  exonStart_0base  \\\n",
       "0  30421   ENSG00000231500.2      RPS18   chr6      +         33243573   \n",
       "1  17365  ENSG00000138674.12     SEC31A   chr4      -         83752089   \n",
       "2  19092  ENSG00000148584.10       A1CF  chr10      -         52623792   \n",
       "3  18461  ENSG00000100813.10      ACIN1  chr14      -         23559190   \n",
       "4  23342   ENSG00000221995.4      TIAF1  chr17      -         27412434   \n",
       "\n",
       "    exonEnd  upstreamES  upstreamEE  downstreamES         ...          \\\n",
       "0  33243660    33240363    33240503      33243741         ...           \n",
       "1  83752128    83750152    83750211      83763292         ...           \n",
       "2  52623840    52619601    52619745      52645340         ...           \n",
       "3  23559310    23550956    23551045      23559730         ...           \n",
       "4  27412666    27409333    27409456      27413455         ...           \n",
       "\n",
       "   SJC_SAMPLE_1  IJC_SAMPLE_2 SJC_SAMPLE_2 IncFormLen SkipFormLen  \\\n",
       "0           1,1   19922,17130        450,1        185          99   \n",
       "1         56,57        106,80        26,24        137          99   \n",
       "2       153,199         23,18      138,102        146          99   \n",
       "3       134,138         88,59        72,67        197          99   \n",
       "4         23,28         33,41        43,38        197          99   \n",
       "\n",
       "         PValue       FDR    IncLevel1    IncLevel2  IncLevelDifference  \n",
       "0  8.928123e-10  0.000034      1.0,1.0    0.959,1.0               0.020  \n",
       "1  1.863713e-07  0.003529   0.432,0.47  0.747,0.707              -0.276  \n",
       "2  3.341310e-06  0.042180  0.022,0.027  0.102,0.107              -0.080  \n",
       "3  1.864966e-05  0.141256   0.21,0.164  0.381,0.307              -0.157  \n",
       "4  1.570528e-05  0.141256  0.559,0.595  0.278,0.352               0.262  \n",
       "\n",
       "[5 rows x 23 columns]"
      ]
     },
     "execution_count": 73,
     "metadata": {},
     "output_type": "execute_result"
    }
   ],
   "source": [
    "# directory is: ENCSR318HAT_vs_ENCSR491FOC\n",
    "rmats = pd.read_table('/home/gpratt/projects/encode/analysis/ad-hoc/rMATS/ENCSR318HAT_vs_ENCSR491FOC/MATS_output/SE.MATS.JunctionCountOnly.txt')\n",
    "print(rmats.shape) # the total number of events returned by rMATS\n",
    "rmats.head()"
   ]
  },
  {
   "cell_type": "code",
   "execution_count": 74,
   "metadata": {
    "collapsed": false
   },
   "outputs": [
    {
     "name": "stdout",
     "output_type": "stream",
     "text": [
      "(3, 23)\n"
     ]
    }
   ],
   "source": [
    "# test 'both': both inclusion and exclusion levels past certain FDR\n",
    "rmats_filtered = rmats[rmats['FDR']<=0.05]\n",
    "rmats_included = rmats_filtered[rmats_filtered['IncLevelDifference']>0]\n",
    "rmats_excluded = rmats_filtered[rmats_filtered['IncLevelDifference']<0]\n",
    "print(rmats_filtered.shape)\n",
    "rmats_filtered.head()\n",
    "rmats_filtered_genes = list(rmats_filtered['GeneID'].drop_duplicates())\n",
    "rmats_filtered_genes = set(rmats_filtered_genes)"
   ]
  },
  {
   "cell_type": "code",
   "execution_count": 75,
   "metadata": {
    "collapsed": false
   },
   "outputs": [],
   "source": [
    "# let's see what our program gives us..\n",
    "names = ['miso','genes']\n",
    "events_filtered = pd.read_table('/projects/ps-yeolab3/bay001/maps/se/all_data/7-19-2016/231_01_RBM34.allRMATS_genes.temp',names=names)\n",
    "events_filtered_genes = set(events_filtered['genes'])"
   ]
  },
  {
   "cell_type": "code",
   "execution_count": 76,
   "metadata": {
    "collapsed": false
   },
   "outputs": [
    {
     "data": {
      "text/plain": [
       "<matplotlib_venn._common.VennDiagram instance at 0x2b34bf288200>"
      ]
     },
     "execution_count": 76,
     "metadata": {},
     "output_type": "execute_result"
    },
    {
     "data": {
      "image/png": "[encoded data removed]",
      "text/plain": [
       "<matplotlib.figure.Figure at 0x2b34f57b8410>"
      ]
     },
     "metadata": {},
     "output_type": "display_data"
    }
   ],
   "source": [
    "# Good. the events match the ones returned by our program. \n",
    "venn2([rmats_filtered_genes,events_filtered_genes])"
   ]
  },
  {
   "cell_type": "markdown",
   "metadata": {},
   "source": [
    "### Since RBM34 has only three 'significant' events, we can check each of them. "
   ]
  },
  {
   "cell_type": "code",
   "execution_count": 80,
   "metadata": {
    "collapsed": false
   },
   "outputs": [
    {
     "name": "stdout",
     "output_type": "stream",
     "text": [
      "chr6:33240363:33240503:+@chr6:33243573:33243660:+@chr6:33243741:33243843:+\n",
      "ID                                30421\n",
      "GeneID                ENSG00000231500.2\n",
      "geneSymbol                        RPS18\n",
      "chr                                chr6\n",
      "strand                                +\n",
      "exonStart_0base                33243573\n",
      "exonEnd                        33243660\n",
      "upstreamES                     33240363\n",
      "upstreamEE                     33240503\n",
      "downstreamES                   33243741\n",
      "downstreamEE                   33243843\n",
      "ID.1                              30421\n",
      "IJC_SAMPLE_1                17127,19565\n",
      "SJC_SAMPLE_1                        1,1\n",
      "IJC_SAMPLE_2                19922,17130\n",
      "SJC_SAMPLE_2                      450,1\n",
      "IncFormLen                          185\n",
      "SkipFormLen                          99\n",
      "PValue                      8.92812e-10\n",
      "FDR                         3.38117e-05\n",
      "IncLevel1                       1.0,1.0\n",
      "IncLevel2                     0.959,1.0\n",
      "IncLevelDifference                 0.02\n",
      "Name: 0, dtype: object\n",
      "##############\n",
      "chr4:83763292:83763337:-@chr4:83752089:83752128:-@chr4:83750152:83750211:-\n",
      "ID                                 17365\n",
      "GeneID                ENSG00000138674.12\n",
      "geneSymbol                        SEC31A\n",
      "chr                                 chr4\n",
      "strand                                 -\n",
      "exonStart_0base                 83752089\n",
      "exonEnd                         83752128\n",
      "upstreamES                      83750152\n",
      "upstreamEE                      83750211\n",
      "downstreamES                    83763292\n",
      "downstreamEE                    83763337\n",
      "ID.1                               17365\n",
      "IJC_SAMPLE_1                       59,70\n",
      "SJC_SAMPLE_1                       56,57\n",
      "IJC_SAMPLE_2                      106,80\n",
      "SJC_SAMPLE_2                       26,24\n",
      "IncFormLen                           137\n",
      "SkipFormLen                           99\n",
      "PValue                       1.86371e-07\n",
      "FDR                           0.00352903\n",
      "IncLevel1                     0.432,0.47\n",
      "IncLevel2                    0.747,0.707\n",
      "IncLevelDifference                -0.276\n",
      "Name: 1, dtype: object\n",
      "##############\n",
      "chr10:52645340:52645435:-@chr10:52623792:52623840:-@chr10:52619601:52619745:-\n",
      "ID                                 19092\n",
      "GeneID                ENSG00000148584.10\n",
      "geneSymbol                          A1CF\n",
      "chr                                chr10\n",
      "strand                                 -\n",
      "exonStart_0base                 52623792\n",
      "exonEnd                         52623840\n",
      "upstreamES                      52619601\n",
      "upstreamEE                      52619745\n",
      "downstreamES                    52645340\n",
      "downstreamEE                    52645435\n",
      "ID.1                               19092\n",
      "IJC_SAMPLE_1                         5,8\n",
      "SJC_SAMPLE_1                     153,199\n",
      "IJC_SAMPLE_2                       23,18\n",
      "SJC_SAMPLE_2                     138,102\n",
      "IncFormLen                           146\n",
      "SkipFormLen                           99\n",
      "PValue                       3.34131e-06\n",
      "FDR                            0.0421796\n",
      "IncLevel1                    0.022,0.027\n",
      "IncLevel2                    0.102,0.107\n",
      "IncLevelDifference                 -0.08\n",
      "Name: 2, dtype: object\n",
      "##############\n"
     ]
    }
   ],
   "source": [
    "# These coordinates should match:\n",
    "for i in range(0,3):\n",
    "    print(events_filtered['miso'].ix[i])\n",
    "\n",
    "    print(rmats_filtered.ix[i])\n",
    "    \n",
    "    print('##############')"
   ]
  },
  {
   "cell_type": "markdown",
   "metadata": {},
   "source": [
    "### Check on the UCSC genome browser to make sure the included and excluded patterns match what we see on our maps."
   ]
  },
  {
   "cell_type": "code",
   "execution_count": 83,
   "metadata": {
    "collapsed": false
   },
   "outputs": [
    {
     "data": {
      "text/html": [
       "<div>\n",
       "<table border=\"1\" class=\"dataframe\">\n",
       "  <thead>\n",
       "    <tr style=\"text-align: right;\">\n",
       "      <th></th>\n",
       "      <th>ID</th>\n",
       "      <th>GeneID</th>\n",
       "      <th>geneSymbol</th>\n",
       "      <th>chr</th>\n",
       "      <th>strand</th>\n",
       "      <th>exonStart_0base</th>\n",
       "      <th>exonEnd</th>\n",
       "      <th>upstreamES</th>\n",
       "      <th>upstreamEE</th>\n",
       "      <th>downstreamES</th>\n",
       "      <th>...</th>\n",
       "      <th>SJC_SAMPLE_1</th>\n",
       "      <th>IJC_SAMPLE_2</th>\n",
       "      <th>SJC_SAMPLE_2</th>\n",
       "      <th>IncFormLen</th>\n",
       "      <th>SkipFormLen</th>\n",
       "      <th>PValue</th>\n",
       "      <th>FDR</th>\n",
       "      <th>IncLevel1</th>\n",
       "      <th>IncLevel2</th>\n",
       "      <th>IncLevelDifference</th>\n",
       "    </tr>\n",
       "  </thead>\n",
       "  <tbody>\n",
       "    <tr>\n",
       "      <th>0</th>\n",
       "      <td>30421</td>\n",
       "      <td>ENSG00000231500.2</td>\n",
       "      <td>RPS18</td>\n",
       "      <td>chr6</td>\n",
       "      <td>+</td>\n",
       "      <td>33243573</td>\n",
       "      <td>33243660</td>\n",
       "      <td>33240363</td>\n",
       "      <td>33240503</td>\n",
       "      <td>33243741</td>\n",
       "      <td>...</td>\n",
       "      <td>1,1</td>\n",
       "      <td>19922,17130</td>\n",
       "      <td>450,1</td>\n",
       "      <td>185</td>\n",
       "      <td>99</td>\n",
       "      <td>8.928123e-10</td>\n",
       "      <td>0.000034</td>\n",
       "      <td>1.0,1.0</td>\n",
       "      <td>0.959,1.0</td>\n",
       "      <td>0.02</td>\n",
       "    </tr>\n",
       "  </tbody>\n",
       "</table>\n",
       "<p>1 rows × 23 columns</p>\n",
       "</div>"
      ],
      "text/plain": [
       "      ID             GeneID geneSymbol   chr strand  exonStart_0base  \\\n",
       "0  30421  ENSG00000231500.2      RPS18  chr6      +         33243573   \n",
       "\n",
       "    exonEnd  upstreamES  upstreamEE  downstreamES         ...          \\\n",
       "0  33243660    33240363    33240503      33243741         ...           \n",
       "\n",
       "   SJC_SAMPLE_1  IJC_SAMPLE_2 SJC_SAMPLE_2 IncFormLen SkipFormLen  \\\n",
       "0           1,1   19922,17130        450,1        185          99   \n",
       "\n",
       "         PValue       FDR  IncLevel1  IncLevel2  IncLevelDifference  \n",
       "0  8.928123e-10  0.000034    1.0,1.0  0.959,1.0                0.02  \n",
       "\n",
       "[1 rows x 23 columns]"
      ]
     },
     "execution_count": 83,
     "metadata": {},
     "output_type": "execute_result"
    }
   ],
   "source": [
    "rmats_included"
   ]
  },
  {
   "cell_type": "code",
   "execution_count": 84,
   "metadata": {
    "collapsed": false
   },
   "outputs": [
    {
     "data": {
      "text/html": [
       "<div>\n",
       "<table border=\"1\" class=\"dataframe\">\n",
       "  <thead>\n",
       "    <tr style=\"text-align: right;\">\n",
       "      <th></th>\n",
       "      <th>ID</th>\n",
       "      <th>GeneID</th>\n",
       "      <th>geneSymbol</th>\n",
       "      <th>chr</th>\n",
       "      <th>strand</th>\n",
       "      <th>exonStart_0base</th>\n",
       "      <th>exonEnd</th>\n",
       "      <th>upstreamES</th>\n",
       "      <th>upstreamEE</th>\n",
       "      <th>downstreamES</th>\n",
       "      <th>...</th>\n",
       "      <th>SJC_SAMPLE_1</th>\n",
       "      <th>IJC_SAMPLE_2</th>\n",
       "      <th>SJC_SAMPLE_2</th>\n",
       "      <th>IncFormLen</th>\n",
       "      <th>SkipFormLen</th>\n",
       "      <th>PValue</th>\n",
       "      <th>FDR</th>\n",
       "      <th>IncLevel1</th>\n",
       "      <th>IncLevel2</th>\n",
       "      <th>IncLevelDifference</th>\n",
       "    </tr>\n",
       "  </thead>\n",
       "  <tbody>\n",
       "    <tr>\n",
       "      <th>1</th>\n",
       "      <td>17365</td>\n",
       "      <td>ENSG00000138674.12</td>\n",
       "      <td>SEC31A</td>\n",
       "      <td>chr4</td>\n",
       "      <td>-</td>\n",
       "      <td>83752089</td>\n",
       "      <td>83752128</td>\n",
       "      <td>83750152</td>\n",
       "      <td>83750211</td>\n",
       "      <td>83763292</td>\n",
       "      <td>...</td>\n",
       "      <td>56,57</td>\n",
       "      <td>106,80</td>\n",
       "      <td>26,24</td>\n",
       "      <td>137</td>\n",
       "      <td>99</td>\n",
       "      <td>1.863713e-07</td>\n",
       "      <td>0.003529</td>\n",
       "      <td>0.432,0.47</td>\n",
       "      <td>0.747,0.707</td>\n",
       "      <td>-0.276</td>\n",
       "    </tr>\n",
       "    <tr>\n",
       "      <th>2</th>\n",
       "      <td>19092</td>\n",
       "      <td>ENSG00000148584.10</td>\n",
       "      <td>A1CF</td>\n",
       "      <td>chr10</td>\n",
       "      <td>-</td>\n",
       "      <td>52623792</td>\n",
       "      <td>52623840</td>\n",
       "      <td>52619601</td>\n",
       "      <td>52619745</td>\n",
       "      <td>52645340</td>\n",
       "      <td>...</td>\n",
       "      <td>153,199</td>\n",
       "      <td>23,18</td>\n",
       "      <td>138,102</td>\n",
       "      <td>146</td>\n",
       "      <td>99</td>\n",
       "      <td>3.341310e-06</td>\n",
       "      <td>0.042180</td>\n",
       "      <td>0.022,0.027</td>\n",
       "      <td>0.102,0.107</td>\n",
       "      <td>-0.080</td>\n",
       "    </tr>\n",
       "  </tbody>\n",
       "</table>\n",
       "<p>2 rows × 23 columns</p>\n",
       "</div>"
      ],
      "text/plain": [
       "      ID              GeneID geneSymbol    chr strand  exonStart_0base  \\\n",
       "1  17365  ENSG00000138674.12     SEC31A   chr4      -         83752089   \n",
       "2  19092  ENSG00000148584.10       A1CF  chr10      -         52623792   \n",
       "\n",
       "    exonEnd  upstreamES  upstreamEE  downstreamES         ...          \\\n",
       "1  83752128    83750152    83750211      83763292         ...           \n",
       "2  52623840    52619601    52619745      52645340         ...           \n",
       "\n",
       "   SJC_SAMPLE_1  IJC_SAMPLE_2 SJC_SAMPLE_2 IncFormLen SkipFormLen  \\\n",
       "1         56,57        106,80        26,24        137          99   \n",
       "2       153,199         23,18      138,102        146          99   \n",
       "\n",
       "         PValue       FDR    IncLevel1    IncLevel2  IncLevelDifference  \n",
       "1  1.863713e-07  0.003529   0.432,0.47  0.747,0.707              -0.276  \n",
       "2  3.341310e-06  0.042180  0.022,0.027  0.102,0.107              -0.080  \n",
       "\n",
       "[2 rows x 23 columns]"
      ]
     },
     "execution_count": 84,
     "metadata": {},
     "output_type": "execute_result"
    }
   ],
   "source": [
    "rmats_excluded"
   ]
  },
  {
   "cell_type": "code",
   "execution_count": null,
   "metadata": {
    "collapsed": true
   },
   "outputs": [],
   "source": []
  }
 ],
 "metadata": {
  "kernelspec": {
   "display_name": "Python 2",
   "language": "python",
   "name": "python2"
  },
  "language_info": {
   "codemirror_mode": {
    "name": "ipython",
    "version": 2
   },
   "file_extension": ".py",
   "mimetype": "text/x-python",
   "name": "python",
   "nbconvert_exporter": "python",
   "pygments_lexer": "ipython2",
   "version": "2.7.11"
  }
 },
 "nbformat": 4,
 "nbformat_minor": 0
}
