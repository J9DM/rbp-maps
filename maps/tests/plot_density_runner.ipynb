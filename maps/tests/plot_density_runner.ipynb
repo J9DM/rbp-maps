{
 "cells": [
  {
   "cell_type": "code",
   "execution_count": 1,
   "metadata": {
    "collapsed": true
   },
   "outputs": [],
   "source": [
    "import os"
   ]
  },
  {
   "cell_type": "code",
   "execution_count": 6,
   "metadata": {
    "collapsed": true
   },
   "outputs": [],
   "source": [
    "d = '/home/bay001/projects/codebase/rbfox2/'\n",
    "o = '/home/bay001/projects/codebase/temp/'\n",
    "progpath = '/home/bay001/projects/codebase/rbp-maps/maps/plot_density.py'\n",
    "ipbam = os.path.join(d,'204_01_RBFOX2.merged.r2.bam')\n",
    "inbam = os.path.join(d,'RBFOX2-204-INPUT_S2_R1.unassigned.adapterTrim.round2.rmRep.rmDup.sorted.r2.bam')\n",
    "included = os.path.join(d,'RBFOX2-HepG2-SE-positive.txt')\n",
    "excluded = os.path.join(d,'RBFOX2-HepG2-SE-negative.txt')\n",
    "both = os.path.join(d,'RBFOX2-HepG2-SE.txt')\n",
    "annotation_type = 'rmats'\n",
    "event = 'se'\n",
    "norm_level = 1\n",
    "\n",
    "cmd = 'python {} -ip {} -input {} -o {} -e {} -at {} -c {} {} {} -norm {}'.format(\n",
    "    progpath,\n",
    "    ipbam,\n",
    "    inbam,\n",
    "    o,\n",
    "    event,\n",
    "    annotation_type,\n",
    "    included,\n",
    "    excluded,\n",
    "    both,\n",
    "    norm_level)"
   ]
  },
  {
   "cell_type": "code",
   "execution_count": 8,
   "metadata": {
    "collapsed": false
   },
   "outputs": [
    {
     "name": "stdout",
     "output_type": "stream",
     "text": [
      "Warning: /home/bay001/projects/codebase/rbfox2/204_01_RBFOX2.merged.r2.norm.neg.bw does not exist\n",
      "Warning: /home/bay001/projects/codebase/rbfox2/204_01_RBFOX2.merged.r2.norm.pos.bw does not exist\n",
      "Warning: /home/bay001/projects/codebase/rbfox2/RBFOX2-204-INPUT_S2_R1.unassigned.adapterTrim.round2.rmRep.rmDup.sorted.r2.norm.neg.bw does not exist\n",
      "Warning: /home/bay001/projects/codebase/rbfox2/RBFOX2-204-INPUT_S2_R1.unassigned.adapterTrim.round2.rmRep.rmDup.sorted.r2.norm.pos.bw does not exist\n",
      "/home/bay001/projects/codebase/rbfox2/204_01_RBFOX2.merged.r2.bam\n",
      "/home/bay001/projects/codebase/rbfox2/RBFOX2-204-INPUT_S2_R1.unassigned.adapterTrim.round2.rmRep.rmDup.sorted.r2.bam\n",
      "Creating SE RBP Map\n",
      "finished creating matrix\n",
      "label: RBFOX2-HepG2-SE-positive\n",
      "output base: /home/bay001/projects/codebase/temp/RBFOX2-HepG2-SE-positive\n",
      "feature: feature\n",
      "finished normalizing\n",
      "finished setting means\n",
      "Creating SE RBP Map\n",
      "finished creating matrix\n",
      "label: RBFOX2-HepG2-SE-negative\n",
      "output base: /home/bay001/projects/codebase/temp/RBFOX2-HepG2-SE-negative\n",
      "feature: feature\n",
      "finished normalizing\n",
      "finished setting means\n",
      "Creating SE RBP Map\n",
      "finished creating matrix\n",
      "label: RBFOX2-HepG2-SE\n",
      "output base: /home/bay001/projects/codebase/temp/RBFOX2-HepG2-SE\n",
      "feature: feature\n",
      "finished normalizing\n",
      "finished setting means\n",
      "Found 3 features to plot.\n",
      "/home/bay001/anaconda/lib/python2.7/site-packages/matplotlib/font_manager.py:1288: UserWarning: findfont: Font family [u'sans-serif'] not found. Falling back to Bitstream Vera Sans\n",
      "  (prop.get_family(), self.defaultFamily[fontext]))\n"
     ]
    }
   ],
   "source": [
    "! $cmd"
   ]
  },
  {
   "cell_type": "code",
   "execution_count": null,
   "metadata": {
    "collapsed": true
   },
   "outputs": [],
   "source": []
  }
 ],
 "metadata": {
  "kernelspec": {
   "display_name": "Python 2",
   "language": "python",
   "name": "python2"
  },
  "language_info": {
   "codemirror_mode": {
    "name": "ipython",
    "version": 2
   },
   "file_extension": ".py",
   "mimetype": "text/x-python",
   "name": "python",
   "nbconvert_exporter": "python",
   "pygments_lexer": "ipython2",
   "version": "2.7.12"
  }
 },
 "nbformat": 4,
 "nbformat_minor": 1
}
